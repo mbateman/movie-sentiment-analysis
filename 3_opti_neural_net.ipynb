{
  "nbformat": 4,
  "nbformat_minor": 0,
  "metadata": {
    "colab": {
      "name": "3_opti_neural_net.ipynb",
      "version": "0.3.2",
      "provenance": [],
      "collapsed_sections": [],
      "toc_visible": true
    },
    "kernelspec": {
      "name": "python3",
      "display_name": "Python 3"
    },
    "accelerator": "GPU"
  },
  "cells": [
    {
      "metadata": {
        "colab_type": "text",
        "id": "lMofUnI1i05g"
      },
      "cell_type": "markdown",
      "source": [
        "Sentiment analysis of movie (IMDB) reviews using dataset provided by the ACL 2011 paper, \n",
        "see http://ai.stanford.edu/~amaas/data/sentiment/\n",
        "This notebook uses neural net models\n",
        "\n",
        "The plan is to compare a variety of hyperparameters, vectorization techniques, neural net based models:\n",
        "* dense neural network with bag of words\n",
        "* dense neural network with fixed size input and words mapped to integers\n",
        "* LSTM\n",
        "* CNN\n"
      ]
    },
    {
      "metadata": {
        "colab_type": "text",
        "id": "L-FXDJ17i05n"
      },
      "cell_type": "markdown",
      "source": [
        "### Table of Contents<a class=\"anchor\" id=\"table\"></a>\n",
        "* [Load data](#load)\n",
        "* [Train different architectures](#train)\n",
        "    * [Train NN 50 - 10 - 1](#train1)\n",
        "    * [Train NN 256 - 128 - 1](#train2)\n",
        "    * [Train NN with K-Fold cross validation](#kfold)\n",
        "    * [Train RNN](#rnn)\n",
        "* [Optimize](#opti)\n",
        "    * [Optimize on dropouts](#opti_d)\n",
        "        * no dropout\n",
        "        * low dropout on 1 layer\n",
        "        * high dropout on 1 layer\n",
        "        * low dropout on 2 layers\n",
        "        * high dropout on 2 layers\n",
        "        * [Observation](#opti_d_o)"
      ]
    },
    {
      "metadata": {
        "colab_type": "code",
        "id": "hFAxjxjImFl2",
        "outputId": "a540f10e-ad83-4a1e-e842-8fe4917c41ee",
        "colab": {
          "base_uri": "https://localhost:8080/",
          "height": 35
        }
      },
      "cell_type": "code",
      "source": [
        "!pip install wget"
      ],
      "execution_count": 121,
      "outputs": [
        {
          "output_type": "stream",
          "text": [
            "Requirement already satisfied: wget in /usr/local/lib/python3.6/dist-packages (3.2)\n"
          ],
          "name": "stdout"
        }
      ]
    },
    {
      "metadata": {
        "colab_type": "code",
        "id": "eqIsNp2Yi05v",
        "outputId": "457847cd-ed90-47d5-a80e-5186a3d2ee41",
        "colab": {
          "base_uri": "https://localhost:8080/",
          "height": 86
        }
      },
      "cell_type": "code",
      "source": [
        "import numpy as np\n",
        "import os\n",
        "import os.path\n",
        "import glob\n",
        "import time\n",
        "import string\n",
        "\n",
        "import pandas as pd\n",
        "import matplotlib as plt\n",
        "\n",
        "from nltk.tokenize import word_tokenize\n",
        "from nltk.corpus import stopwords\n",
        "from nltk.stem.porter import PorterStemmer\n",
        "import nltk\n",
        "nltk.download('punkt')\n",
        "nltk.download('stopwords')\n",
        "\n",
        "import tensorflow as tf\n",
        "import tensorflow.keras as keras\n",
        "from tensorflow.keras import layers\n",
        "from tensorflow.keras import models\n",
        "\n",
        "from sklearn.model_selection import train_test_split"
      ],
      "execution_count": 122,
      "outputs": [
        {
          "output_type": "stream",
          "text": [
            "[nltk_data] Downloading package punkt to /root/nltk_data...\n",
            "[nltk_data]   Package punkt is already up-to-date!\n",
            "[nltk_data] Downloading package stopwords to /root/nltk_data...\n",
            "[nltk_data]   Package stopwords is already up-to-date!\n"
          ],
          "name": "stdout"
        }
      ]
    },
    {
      "metadata": {
        "colab_type": "code",
        "id": "tafRpfeyi06R",
        "colab": {}
      },
      "cell_type": "code",
      "source": [
        "from sklearn.model_selection import KFold"
      ],
      "execution_count": 0,
      "outputs": []
    },
    {
      "metadata": {
        "colab_type": "code",
        "id": "x_LeQpbQi06j",
        "outputId": "be42b3d8-e95f-4b8d-b05d-fee2eaef8b0d",
        "colab": {
          "base_uri": "https://localhost:8080/",
          "height": 35
        }
      },
      "cell_type": "code",
      "source": [
        "import wget\n",
        "import tarfile\n",
        "\n",
        "# By checking if the directory exists first, we allow people to delete the tarfile without the notebook re-downloading it\n",
        "if os.path.isdir('aclImdb'):\n",
        "    print(\"Dataset directory exists, taking no action\")\n",
        "else:    \n",
        "    if not os.path.isfile('aclImdb_v1.tar.gz'):\n",
        "        print(\"Downloading dataset\")\n",
        "        #!wget http://ai.stanford.edu/~amaas/data/sentiment/aclImdb_v1.tar.gz\n",
        "        wget.download('http://ai.stanford.edu/~amaas/data/sentiment/aclImdb_v1.tar.gz')\n",
        "    else:\n",
        "        print(\"Dataset already downloaded\")\n",
        "    \n",
        "    print(\"Unpacking dataset\")\n",
        "    #!tar -xf aclImdb_v1.tar.gz \n",
        "    tar = tarfile.open(\"aclImdb_v1.tar.gz\")\n",
        "    tar.extractall()\n",
        "    tar.close()\n",
        "    print(\"Dataset unpacked in aclImdb\")"
      ],
      "execution_count": 124,
      "outputs": [
        {
          "output_type": "stream",
          "text": [
            "Dataset directory exists, taking no action\n"
          ],
          "name": "stdout"
        }
      ]
    },
    {
      "metadata": {
        "id": "OCN-uCBMdBJq",
        "colab_type": "code",
        "colab": {}
      },
      "cell_type": "code",
      "source": [
        "def foundGPU():\n",
        "  device_name = tf.test.gpu_device_name()\n",
        "  if device_name != '/device:GPU:0':\n",
        "    print('No GPU found')\n",
        "    return False\n",
        "  else: \n",
        "    print('Found GPU at: {}'.format(device_name))\n",
        "    return True"
      ],
      "execution_count": 0,
      "outputs": []
    },
    {
      "metadata": {
        "colab_type": "code",
        "id": "PQAl9GvRi067",
        "outputId": "43d859bf-3384-4933-9922-692e3064f535",
        "colab": {
          "base_uri": "https://localhost:8080/",
          "height": 35
        }
      },
      "cell_type": "code",
      "source": [
        "# configuration\n",
        "if foundGPU():\n",
        "  SAMPLE_SIZE=12500\n",
        "else:\n",
        "  SAMPLE_SIZE=2000\n",
        "\n",
        "BATCH_SIZE=64\n",
        "TRAIN_TEST_RATIO=0.25\n",
        "TRAINING_SET_SIZE=int(SAMPLE_SIZE * (1 - TRAIN_TEST_RATIO))\n",
        "VALIDATION_SET_SIZE=int(SAMPLE_SIZE * TRAIN_TEST_RATIO)"
      ],
      "execution_count": 126,
      "outputs": [
        {
          "output_type": "stream",
          "text": [
            "Found GPU at: /device:GPU:0\n"
          ],
          "name": "stdout"
        }
      ]
    },
    {
      "metadata": {
        "colab_type": "text",
        "id": "vMYBkcdIB9uc"
      },
      "cell_type": "markdown",
      "source": [
        "<a href='#table'>Back</a>\n",
        "# Load data<a class=\"anchor\" id=\"load\"></a>"
      ]
    },
    {
      "metadata": {
        "id": "pQH5irwZPZuE",
        "colab_type": "text"
      },
      "cell_type": "markdown",
      "source": [
        "## Create a dense vector from reviews "
      ]
    },
    {
      "metadata": {
        "colab_type": "code",
        "id": "bcTVSZK-i07N",
        "colab": {}
      },
      "cell_type": "code",
      "source": [
        "time_beginning_of_notebook = time.time()\n",
        "SLICE = int(SAMPLE_SIZE / 2)\n",
        "positive_file_list = glob.glob(os.path.join('aclImdb/train/pos', \"*.txt\"))\n",
        "positive_sample_file_list = positive_file_list[:SLICE]\n",
        "\n",
        "negative_file_list = glob.glob(os.path.join('aclImdb/train/neg', \"*.txt\"))\n",
        "negative_sample_file_list = negative_file_list[:SLICE]\n",
        "\n",
        "import re\n",
        "\n",
        "# load doc into memory\n",
        "# regex to clean markup elements \n",
        "def load_doc(filename):\n",
        "    # open the file as read only\n",
        "    file = open(filename, 'r', encoding='utf8')\n",
        "    # read all text\n",
        "    text = re.sub('<[^>]*>', ' ', file.read())\n",
        "    #text = file.read()\n",
        "    # close the file\n",
        "    file.close()\n",
        "    return text"
      ],
      "execution_count": 0,
      "outputs": []
    },
    {
      "metadata": {
        "colab_type": "code",
        "id": "dcjl_fogi07W",
        "colab": {}
      },
      "cell_type": "code",
      "source": [
        "positive_strings = [load_doc(x) for x in positive_sample_file_list]\n",
        "negative_strings = [load_doc(x) for x in negative_sample_file_list]\n",
        "\n",
        "positive_tokenized = [word_tokenize(s) for s in positive_strings]\n",
        "negative_tokenized = [word_tokenize(s) for s in negative_strings]"
      ],
      "execution_count": 0,
      "outputs": []
    },
    {
      "metadata": {
        "id": "TVdtxPFDSxj7",
        "colab_type": "code",
        "outputId": "2f40b194-58f0-4209-d0ba-cff1b363fa2a",
        "colab": {
          "base_uri": "https://localhost:8080/",
          "height": 55
        }
      },
      "cell_type": "code",
      "source": [
        "print(negative_tokenized[:100])"
      ],
      "execution_count": 129,
      "outputs": [
        {
          "output_type": "stream",
          "text": [
            "[['A', 'fabulous', 'book', 'about', 'a', 'fox', 'and', 'his', 'family', 'who', 'does', 'what', 'foxs', 'do', '.', 'that', 'being', 'stealing', 'from', 'farms', 'and', 'killing', 'prey', '.', 'until', 'a', 'trio', 'of', 'farmers', 'decide', 'they', \"'ve\", 'had', 'enough', 'of', 'this', 'fox', 'and', 'try', 'in', 'various', 'ways', 'to', 'have', 'the', 'problem', '``', 'solved', \"''\", '.', 'They', 'are', 'of', 'course', '``', 'out', 'foxed', \"''\", 'at', 'every', 'turn', 'and', 'while', 'the', 'trio', 'are', 'camped', 'out', 'at', 'the', 'fox', 'hole', 'the', 'family', 'perform', 'raids', 'against', 'the', 'three', 'farmers', 'land', '.', 'The', \"''\", 'film', \"''\", 'version', ',', 'and', 'I', 'use', 'the', 'term', 'film', 'very', 'loosely', ',', 'is', 'more', 'of', 'a', 'god', 'awful', 'pastiche', 'of', 'American', 'heist', 'movies', 'particularly', 'the', 'Oceans', 'movies', '.', 'They', 'they', 'even', 'have', 'George', 'clooney', 'as', 'Mr', 'fox', 'to', 'to', 'add', 'to', 'the', 'insult', 'and', 'manage', 'to', 'miss', 'the', 'point', 'of', 'the', 'story', 'quite', 'completely', '.', 'So', 'kudos', 'to', 'them', '.They', \"'ll\", 'make', 'lots', 'of', 'money', 'and', 'destroy', 'another', 'classic', 'Roald', 'Dahl', 'children', 'book', '.'], ['``', 'Mad', 'Dog', 'Time', \"''\", '...', \"''\", 'Trigger', 'Happy', \"''\", 'whatever', 'you', 'wan', 'na', 'call', 'it', '...', 'simply', 'does', \"n't\", 'hit', 'the', 'mark', '.', 'Maybe', 'its', 'just', 'me', ',', 'maybe', 'i', 'just', 'do', \"n't\", 'like', 'Gangster', 'comedies', '(', 'as', 'i', 'thought', 'Oscar', ',', 'Johney', 'Dangerously', 'and', 'Mafia', 'also', 'sucked', ')', 'It', \"'s\", 'probably', 'more', '``', 'witty', 'sharp', 'wordplay', \"''\", 'than', 'all', 'out', 'Comedy', ',', 'only', 'its', 'not', 'as', 'witty', 'and', 'sharp', 'as', 'it', '(', 'or', 'the', 'other', 'reviewers', ')', 'Make', 'it', 'out', 'to', 'be', '.', 'The', 'Rick', ',', 'Mick', ',', 'Vic', 'Thing', 'was', 'old', 'to', 'begin', 'with', 'making', 'it', 'a', 'running', 'gag', 'was', 'at', 'times', 'painful', 'to', 'watch', '.', 'There', 'was', \"n't\", 'enough', 'Changes', 'of', 'Location', 'or', 'Feel', 'for', 'the', 'period', 'they', 'were', 'supposed', 'to', 'be', 'in', '.', 'The', 'Majority', 'of', 'the', 'film', 'was', 'either', 'set', 'in', '``', 'Dreyfus', \"'s\", 'Club', \"''\", 'or', 'a', 'variety', 'of', 'Offices', '/dim', 'rooms', '...', '(', 'what', 'was', 'with', 'that', 'Sit', 'down', 'Gun', 'stand', 'off', 'thing', 'Goldblum', 'kept', 'winning', '?', ')', 'The', 'supporting', 'cast', 'was', '...', 'on', 'Paper', 'excellent', '(', 'great', 'to', 'see', 'Silva', '&', 'Drago', ')', 'but', 'characters', 'were', 'killed', 'off', 'before', 'they', 'had', 'time', 'to', 'develop', '.', 'and', 'Richard', 'Pryors', 'cameo', 'was', 'a', 'Joke', '!', 'The', 'Romance', 'and', 'Love', 'element', 'of', 'the', 'film', 'also', 'bogged', 'it', 'down', '.', '4/10', 'I', 'do', \"n't\", 'think', 'i', \"'ll\", 'return', 'to', 'it', 'anytime', 'soon', '.'], ['This', 'movie', 'was', 'very', 'very', 'mediocre', 'and', 'very', 'very', 'gory', '.', 'everyone', 'left', 'their', 'acting', 'lessons', 'at', 'home', 'and', 'totally', 'forgot', 'how', 'to', 'act', 'I', 'mean', 'it', 'was', 'so', 'bad', 'and', 'had', 'no', 'real', 'plot', 'and', 'kindergarteners', 'could', 'have', 'written', 'a', 'better', 'story', 'plot', 'wait', 'what', 'story', 'plot', '.', 'not', 'at', 'all', 'scary', '!'], ['The', 'first', 'part', ',', 'Che', 'in', 'Cuba', ',', 'is', 'about', 'that', 'portion', 'of', 'his', 'life', '.', 'It', 'contains', 'too', 'many', 'indistinguishable', 'battles', 'and', 'Che', 'ministering', 'to', 'too', 'many', 'indistinguishable', 'wounded', '(', 'remember', 'that', 'Che', 'was', 'a', 'physician', ')', '.', 'It', 'ends', 'as', 'Castro', 'wins', 'the', 'revolution', ';', 'Che', 'never', 'gets', 'to', 'Havana', '.', 'The', 'second', 'part', ',', 'Che', 'in', 'Bolivia', ',', 'is', 'about', 'guess', 'what', '.', 'It', 'contains', 'too', 'many', 'indistinguishable', 'battles', 'and', 'Che', 'ministering', 'to', 'too', 'many', 'indistinguishable', 'wounded', '.', 'When', 'I', 'realized', 'this', 'was', 'supposed', 'to', 'be', 'an', '``', 'epic', \"''\", '(', 'I', 'never', 'knew', '*anything*', 'but', 'the', 'title', 'before', 'it', 'started', ')', ',', 'I', 'naturally', 'thought', 'of', 'the', 'greatest', 'epic', 'of', 'them', 'all', ',', 'David', 'Lean', \"'s\", 'Lawrence', 'of', 'Arabia', '.', 'More', 'of', 'that', 'later', '.', 'Not', 'to', 'be', 'a', 'racist', ',', 'but', 'aside', 'from', 'what', 'I', \"'ve\", 'already', 'mentioned', 'is', 'the', 'fact', 'that', 'there', 'are', 'too', 'many', 'characters', 'who', 'are', ',', 'well', ',', 'indistinguishable', '--', 'unknown', 'Hispanic', 'actors', 'who', 'look', 'alike', ',', 'especially', 'considering', 'they', 'all', 'wear', '``', 'Che', \"''\", 'beards', 'and', 'all', 'wear', 'Che', 'fatigues', '.', 'This', 'results', 'in', 'the', 'viewer', 'not', 'being', 'able', 'to', 'identify', 'with', 'anyone', 'other', 'than', 'Che', ',', 'Benicio', 'del', 'Toro', '(', 'even', 'Fidel', 'has', 'a', 'very', 'minor', 'role', ')', '.', 'While', 'del', 'Toro', \"'s\", 'terrific', ',', 'think', 'of', '``', 'Lawrence', \"''\", 'with', 'Peter', \"O'Toole\", 'as', 'the', 'only', 'discernible', 'character', ':', 'no', 'Alec', 'Guinness', ',', 'no', 'Omar', 'Sharif', ',', 'no', 'Anthony', 'Quinn', ',', 'etc', '.', 'You', 'get', 'the', 'idea', '.', 'Because', 'the', 'other', 'characters', 'are', 'interchangeable', ',', 'this', 'results', 'in', 'a', 'loss', 'of', 'reference', '.', 'When', 'top', 'aides', 'of', 'Che', 'are', 'killed', ',', 'you', 'feel', 'no', 'remorse', 'since', 'you', 'do', \"n't\", 'know', 'who', 'they', 'are', '.', 'Even', 'when', 'Che', 'is', 'killed', '(', 'I', 'do', \"n't\", 'think', 'that', \"'s\", 'a', 'spoiler', ')', ',', 'there', \"'s\", 'no', 'empathy', 'from', 'the', 'audience', '--', 'he', \"'s\", 'just', 'killed', '.', 'He', \"'s\", 'too', 'one-dimensional', 'to', 'relate', 'to', 'as', 'a', 'human', 'being', '.', 'Aside', 'from', 'being', 'a', 'revolutionary', 'and', 'second', 'only', 'to', 'Jesus', 'in', 'moral', 'rectitude', ',', 'the', 'only', 'thing', 'we', 'learn', 'about', 'Che', 'is', 'that', 'he', \"'s\", 'married', 'with', 'five', 'children', '(', 'he', 'tells', 'another', 'character', 'that', 'near', 'the', 'end', ')', '.', 'What', 'was', 'his', 'motivation', '?', 'A', 'complete', 'enigma', '.', 'Maybe', 'Soderbergh', 'is', 'purposely', 'aping', 'Lean', '.', 'Like', 'Soderbergh', \"'s\", 'Che', ',', 'Lean', 'never', 'lets', 'us', 'know', 'anything', 'about', 'Lawrence', ',', 'the', 'mystery', 'man', 'of', 'Arabia', '.', 'But', 'at', 'least', 'Lawrence', 'had', 'a', 'friend', '(', 'Sharif', ')', 'and', 'associates', '(', 'Guinness', ',', 'Quinn', ')', '.', 'He', 'was', 'as', 'courageous', 'as', 'he', 'was', 'insecure', '--', 'i.e.', ',', 'had', 'human', 'qualities', '.', 'Che', 'is', 'like', 'a', 'machine', ',', 'about', 'as', 'warm', 'as', 'The', 'Terminator', '.', 'Earlier', 'this', 'year', 'there', 'was', 'another', 'war', 'epic', ',', 'Mongol', '.', 'Che', 'makes', 'Mongol', 'look', 'like', 'It', \"'s\", 'a', 'Wonderful', 'Life', '.'], ['If', 'there', \"'s\", 'one', 'thing', 'you', 'can', 'count', 'on', 'Disney', 'to', 'do', ',', 'it', \"'s\", 'their', 'uncanny', 'ability', 'to', 'take', 'a', 'story', 'and', 'tell', 'it', 'again', 'and', 'again', 'and', 'again', '.', 'Even', 'watching', 'the', 'commercial', 'for', 'Lady', 'and', 'the', 'Tramp', 'II', 'was', 'a', 'horrible', 'experience', '.', 'Disney', \"'s\", 'going', 'to', 'ruin', 'one', 'of', 'their', 'most', 'awesome', 'classics', 'ever', '.', 'It', 'even', 'had', 'that', 'spaghetti', 'meatball', 'scene', '.', 'It', \"'s\", 'been', 'done', 'before', '!', 'And', 'that', \"'s\", 'what', 'I', 'say', 'to', 'this', 'sorry', 'direct', 'to', 'video', '(', 'the', 'entire', 'concept', 'should', 'be', 'banned', ')', '.', 'Everything', 'is', 'just', 'a', 'rehash', 'of', 'the', 'original', 'movie', 'and', 'even', 'several', 'of', 'Bluth', \"'s\", 'really', 'bad', 'movies', '.', 'The', 'penguin', 'and', 'walrus', 'duo', '(', 'I', \"'ve\", 'even', 'forgotten', 'their', 'names', ')', 'are', 'just', 'a', 'really', 'poor', 'carbon', 'copy', 'of', 'Timon', 'and', 'Pumbaa', '.', 'Morgana', 'is', 'another', 'Ursula', '.', 'She', 'even', 'repeats', 'practically', 'all', 'her', 'old', 'lines', '.', 'The', 'songs', 'are', 'pathetic', ',', 'really', 'abysmal', '.', 'I', \"'ve\", 'never', 'heard', 'songs', 'so', 'bad', 'from', 'them', 'before', 'until', 'now', '.', 'And', 'the', 'dialogue', 'is', 'atrocious', '.', 'It', \"'s\", 'pathetic', 'and', 'simplistic', '.', 'On', 'the', 'plus', 'side', ',', 'at', 'least', 'they', 'took', 'the', 'time', 'to', 'make', 'the', 'animation', 'somewhat', 'decent', '.', 'All', 'of', 'the', 'usual', 'characters', 'are', \"n't\", 'as', 'annoying', 'as', 'they', 'used', 'to', 'be', '(', 'or', 'maybe', 'that', \"'s\", 'a', 'minus', 'for', 'Little', 'Mermaid', 'fans', ')', '.', 'Back', 'on', 'the', 'negative', ',', 'Melody', 'is', 'just', 'so', 'sickeningly', 'cute', 'you', 'just', 'might', 'vomit', '.', 'I', 'almost', 'did', '.', 'Do', 'yourself', 'and', 'your', 'Little', 'Mermaid', 'fan', 'a', 'favor', '.', 'Do', \"n't\", 'waste', 'your', 'money', 'on', 'this', '.', 'True', ',', 'it', \"'s\", 'not', 'as', 'horrific', 'as', 'Return', 'of', 'Jafar', 'or', 'Pocahontas', 'II', ',', 'but', 'that', \"'s\", 'little', 'consolation', '.'], ['I', 'think', 'this', 'film', 'has', 'been', 'somewhat', 'overrated', 'here', '.', 'There', 'are', 'some', 'things', 'to', 'admire', 'in', 'it', ';', 'for', 'one', 'thing', 'it', 'deserves', 'credit', 'for', 'being', 'a', 'science', 'fiction', '(', 'ish', ')', 'film', 'which', 'relies', 'on', 'its', 'story', 'instead', 'of', 'special', 'effects', 'and', 'action', 'sequences', 'to', 'carry', 'the', 'day', '.', 'The', 'supporting', 'cast', 'is', 'good', ',', 'the', 'set', 'design', 'and', 'cinematography', 'are', 'good', ',', 'and', 'the', 'ideas', 'are', 'interesting', 'enough', '(', 'though', 'they', 'are', 'beginning', 'to', 'seem', 'a', 'little', 'tired', 'after', 'the', 'many', 'mediocre', 'Dark', 'City', '/', 'Memento', '/', 'Fight', 'Club', 'clones', 'of', 'recent', 'years', ')', '.', 'But', 'the', 'film', 'is', 'undone', 'by', 'poor', 'characterization', ',', 'wooden', 'performances', 'from', 'the', 'lead', 'actors', ',', 'and', 'a', 'laughably', 'bad', 'ending', '.', 'The', 'main', 'problem', 'I', 'had', 'was', 'that', 'the', 'protagonist', 'was', 'neither', 'likable', 'nor', 'unlikable', '.', 'I', 'realize', 'that', 'part', 'of', 'the', 'story', 'dictates', 'that', 'he', 'should', 'be', 'a', 'bit', 'of', 'a', '(', 'wait', 'for', 'it', '...', ')', 'cipher', ',', 'but', 'I', 'was', 'utterly', 'unable', 'to', 'work', 'up', 'any', 'empathy', 'for', 'a', 'character', 'that', 'just', 'seemed', 'like', 'a', 'boring', ',', 'anonymous', 'schlub', 'of', 'a', 'man', '.', 'What', 'character', 'transformation', 'there', 'is', 'for', 'this', 'sad', 'sack', 'is', 'artificially', 'forced', 'on', 'him', 'by', 'the', 'plot', '.', 'Lead', 'actor', 'Jeremy', 'Northam', 'succeeds', 'in', 'conveying', 'that', 'the', 'protagonist', 'is', 'confused', 'and', 'hapless', ',', 'but', 'fails', 'at', 'inspiring', 'any', 'sympathy', 'for', 'him', '.', 'Opposite', 'him', ',', 'Lucy', 'Liu', 'does', 'what', 'she', 'can', 'with', 'a', 'character', 'who', 'has', 'no', 'real', 'personality', 'of', 'her', 'own', ',', 'unless', 'being', 'the', 'embodiment', 'of', 'a', 'spy-movie', 'cliché', 'counts', 'as', 'personality', '.', 'One', 'of', 'the', 'biggest', 'disappointments', 'of', 'this', 'movie', 'is', 'the', 'ending', '.', 'I', 'wo', \"n't\", 'give', 'any', 'spoilers', 'here', ',', 'but', 'I', 'will', 'say', 'that', 'a', 'surprise', 'twist', 'at', 'the', 'end', 'was', 'telegraphed', 'pretty', 'clearly', 'at', 'least', '45', 'minutes', 'before', 'it', 'occurred', '.', 'Further', ',', 'after', 'being', 'content', 'to', 'be', 'a', 'quirky', ',', 'idea-oriented', 'movie', 'for', 'the', 'first', 'hour', 'or', 'so', ',', 'the', 'last', 'few', 'scenes', 'suddenly', 'and', 'terribly', 'devolve', 'into', 'the', 'worst', 'kind', 'of', 'Hollywood', 'pap', ',', 'complete', 'with', 'big', 'explosions', 'and', 'special', 'effects', '.', 'The', 'revealing', 'of', 'the', 'film', \"'s\", 'McGuffin', 'at', 'the', 'end', 'is', 'poorly', 'done', ',', 'and', 'at', 'the', 'end', 'the', 'characters', 'seem', 'even', 'less', 'likable', 'than', 'they', 'did', 'before', 'some', 'of', 'the', 'film', \"'s\", 'main', 'plot', 'threads', 'were', 'resolved', '.', 'The', 'movie', \"'s\", 'not', 'all', 'bad', ',', 'though', '.', 'It', 'does', 'manage', 'to', 'maintain', 'a', 'certain', 'low', 'level', 'of', 'tension', 'throughout', 'most', 'of', 'it', ',', 'despite', 'the', 'slow', 'pacing', '(', 'although', 'I', 'think', 'I', 'have', 'a', 'higher', 'than', 'average', 'tolerance', 'for', 'slow-paced', 'movies', ')', '.', 'And', 'there', 'are', 'some', 'moments', 'when', 'the', 'unsettled', ',', 'paranoiac', 'feeling', 'that', 'director', 'Vincenzo', 'Natali', 'was', 'clearly', 'trying', 'to', 'evoke', 'rises', 'to', 'the', 'surface', '.', 'But', 'in', 'the', 'end', ',', 'these', 'elements', 'are', \"n't\", 'enough', 'to', 'overcome', 'the', 'flaws', 'in', 'the', 'film', \"'s\", 'acting', 'and', 'script', '.', 'There', 'is', 'probably', 'a', 'good', 'movie', 'that', 'covers', 'these', 'same', 'themes', 'and', 'ideas', ',', 'but', 'this', 'is', \"n't\", 'it', '.'], ['A', 'great', 'opportunity', 'for', 'and', 'Indy', 'director', 'to', 'make', 'an', 'interesting', 'film', 'about', 'a', 'rock', 'musician', 'on', 'the', 'brink', 'of', 'stardom', '.', 'It', 'could', 'have', 'been', 'a', 'decent', 'film', 'if', 'it', 'would', 'have', 'dealt', 'with', 'John', 'Livien', \"'s\", 'traumatic', 'past', 'and', 'how', 'it', 'is', 'torturing', 'his', 'psyche', '.', 'Instead', ',', 'it', 'is', 'a', 'ridiculous', 'attempt', 'to', 'identify', 'John', 'Livien', \"'s\", 'life', 'with', 'John', 'Lennon', \"'s\", '.', 'John', 'Livien', \"'s\", 'suicida', 'mother', \"'s\", 'hero', 'was', 'John', 'Lennon', 'and', 'she', 'wished', 'for', 'him', 'to', 'become', 'as', 'powerful', 'and', 'prolific', 'as', 'Lennon', 'himself', '.', 'Instead', 'of', 'focusing', 'on', 'John', 'Lennon', \"'s\", 'musical', 'brilliance', ',', 'and', 'his', 'wonderful', 'ability', 'to', 'bare', 'himself', 'for', 'others', 'to', 'learn', 'something', 'about', 'their', 'own', 'life', ',', 'it', 'showed', 'Lennon', \"'s\", 'legacy', 'to', 'be', 'that', 'of', 'a', 'confused', ',', 'drug', 'addicted', 'soul', ',', 'who', 'should', 'looked', 'upon', 'as', 'a', 'God', 'instead', 'a', 'man', '.', 'I', 'am', 'a', 'huge', 'John', 'Lennon', 'fan', 'and', 'this', 'movie', 'reminded', 'me', 'of', 'another', '``', 'crazy', \"''\", 'person', 'obsessed', 'with', 'Lennon', ',', 'Lennon', \"'s\", 'killer', ',', 'Mark', 'David', 'Chapman', '.', 'Lennon', 'was', 'a', 'man', 'who', 'was', 'brutally', 'murdered', 'by', 'someone', 'else', 'who', 'had', 'an', 'identity', 'crisis', 'with', 'Lennon', '.', 'Do', 'we', 'need', 'to', 'be', 'reminded', 'of', 'that', '?', 'John', 'Lennon', 'gave', 'so', 'much', 'to', 'the', 'world', 'with', 'his', 'music', 'and', 'honesty', 'and', 'I', 'was', 'repulsed', 'to', 'see', 'another', 'disturbed', 'person', ',', 'as', 'the', 'main', 'character', 'in', 'this', 'movie', 'obsessed', 'by', 'Lennon', ',', 'and', 'not', 'show', 'his', 'beautiful', 'contributions', 'to', 'the', 'world', '.', 'Yoko', 'Ono', 'graciously', 'honored', 'John', 'Lennon', \"'s\", 'memory', ',', 'by', 'making', 'the', 'memorial', 'in', 'Central', 'Park', 'to', 'give', 'his', 'fans', 'a', 'chance', 'to', 'pay', 'their', 'respects', ',', 'and', 'remember', 'John', '.', 'Instead', 'the', 'director', 'of', 'this', 'movie', 'chose', 'to', 'use', 'that', 'site', 'to', 'have', 'the', 'killer', 'attempt', 'to', 'commit', 'suicide', '.', 'I', 'found', 'this', 'so', 'disturbing', 'and', 'disrespectful', 'to', 'Lennon', \"'s\", 'memory', '.', 'He', 'was', 'a', 'man', 'of', 'peace', 'who', 'died', 'a', 'brutal', 'senseless', 'death', ',', 'and', 'to', 'see', 'such', 'violence', 'near', 'this', 'site', 'felt', 'like', 'a', 'revisiting', 'a', 'terrible', 'wound', 'for', 'any', 'Lennon', 'fan', '.', 'It', 'ruined', 'the', 'movie', 'completely', 'for', 'me', '.', 'It', 'could', 'have', 'been', 'a', 'decent', 'movie', ',', 'but', 'it', 'left', 'me', 'with', 'a', 'bitter', 'taste', 'in', 'my', 'mouth', '.', 'Let', 'John', 'Lennon', ',', 'and', 'his', 'family', 'rest', 'in', 'peace', 'and', 'not', 'be', 'reminded', 'of', 'his', 'vicious', 'murder', 'by', 'this', 'irresponsible', 'movie', '.'], ['This', 'movie', 'is', 'BAD', '!', 'It', \"'s\", 'basically', 'an', 'overdone', 'copy', 'of', 'Michael', 'Jackson', \"'s\", 'Thriller', 'video', ',', 'only', 'worse', '!', 'The', 'special', 'effects', 'consist', 'of', 'lots', 'of', 'glow', 'in', 'the', 'dark', 'paint', ',', 'freaky', 'slapstick', 'fastmoving', 'camera', 'shots', 'and', 'lots', 'of', 'growling', '.', 'I', 'think', 'the', 'dog', 'was', 'the', 'best', 'actor', 'in', 'the', 'whole', 'movie', '.'], ['There', 'is', 'absolutely', 'nothing', 'to', 'redeem', 'this', 'movie', '.', 'They', 'took', 'a', 'sleazy', 'story', ',', 'miscast', 'it', ',', 'miswrote', 'it', ',', 'misfilmed', 'it', '.', 'It', 'has', 'bad', 'dialogue', 'badly', 'performed', 'in', 'a', 'meandering', 'and', 'trashy', 'story', '.', 'As', 'badly', 'as', 'it', 'fails', 'as', 'art', ',', 'it', 'fails', 'even', 'worse', 'as', 'commerce', '.', 'Who', 'could', 'have', 'been', 'the', 'target', 'market', 'for', 'this', '.', 'What', 'age', 'group', '?', 'What', 'interest', 'group', '?', 'Someone', 'should', 'make', 'a', 'movie', 'about', 'how', 'and', 'why', 'they', 'made', 'this', 'movie', '.', 'That', 'I', 'would', 'pay', 'to', 'see', '.', 'I', \"'ve\", 'seen', 'thousands', 'of', 'bad', 'movies', ',', 'and', 'this', 'ranks', 'with', '``', 'Sailor', 'Who', 'Fell', 'from', 'Grace', \"''\", 'and', '``', 'Manos', \"''\", '...', 'my', 'choices', 'as', 'the', 'three', 'most', 'unredeemably', 'bad', 'movies', 'I', \"'ve\", 'ever', 'seen', '.', 'Everybody', 'associated', 'with', 'it', 'should', 'be', 'forced', 'to', 'make', 'conversation', 'with', 'VanDamme', 'for', 'all', 'eternity', '.', 'I', 'challenge', 'you', '.', 'Watch', 'this', 'movie', 'and', 'perform', 'an', 'academic', 'exercise', '-', 'how', 'could', 'you', 'take', 'this', 'and', 'make', 'it', 'worse', '?', 'I', 'ca', \"n't\", 'think', 'of', 'one', 'way', '.'], ['Definitely', ',', 'definitely', 'the', 'worst', 'film', 'I', \"'ve\", 'ever', 'seen', ',', 'no', 'questions', 'asked', '!', 'Contradictors', 'of', 'this', 'opinion', 'might', 'argue', 'that', 'this', 'title', 'should', 'not', 'be', 'judged', 'by', 'the', 'same', 'criteria', 'as', 'others', ',', 'since', 'it', \"'s\", 'an', 'independent', ',', 'low-budget', 'film', ',', 'but', \"c'mon\", 'already', '\\x96', 'the', 'amateurism', 'and', 'meager', 'innovation', 'is', 'horrifying', '.', 'Agreeing', 'with', 'everything', 'that', 'has', 'been', 'said', 'about', 'this', 'film', ',', 'for', 'example', 'the', 'mind', 'numbingly', 'weak', 'acting', '(', 'when', 'it', \"'s\", 'this', 'bad', 'you', 'take', 'another', 'go', 'at', 'shooting', 'the', 'scene', ',', 'god', 'damn', 'it', ')', ',', 'the', 'thing', 'I', 'found', 'the', 'most', 'annoying', 'was', 'the', 'total', 'lack', 'of', 'common', 'sense', 'in', 'the', 'script', ',', 'assuming', 'such', 'a', 'thing', 'existed', 'during', 'the', 'production', '.', 'There', 'was', 'an', 'obvious', 'absence', 'of', 'a', 'dialogue', 'with', 'respect', 'for', 'the', 'viewers', ',', 'the', 'girls', 'switched', 'personalities', 'several', 'times', 'and', 'they', 'seemed', 'to', 'show', 'absolutely', 'no', 'sing', 'of', 'any', 'rationality', 'or', 'even', 'brains', '-', 'five', 'relatively', 'fit', 'girls', 'against', 'one', 'slight', 'female', 'psychopath', '\\x96', 'gang', 'up', 'on', 'her', ',', 'why', 'do', \"n't\", 'you', '?', 'The', 'only', 'thing', 'that', 'can', 'be', 'regarded', 'as', 'somewhat', 'of', 'a', 'conquest', 'for', 'this', 'title', 'is', 'the', 'camera', 'not', 'leaving', 'the', 'van', 'at', 'any', 'time', 'thus', 'the', 'viewer', 'seeing', 'everything', 'from', 'inside', 'it', '-', 'which', 'is', ',', 'as', 'the', 'rest', 'of', 'the', 'film', ',', 'a', 'good', 'idea', 'executed', 'exponentially', 'dreadfully', '.', 'oh', 'and', 'by', 'the', 'way', ',', 'this', 'movie', 'is', 'NOTHING', 'like', 'The', 'Blair', 'Witch', 'Project', 'or', 'Cloverfield', 'or', 'any', 'other', 'title', 'filmed', 'with', 'a', 'hand-held', 'camera', '\\x96', 'this', 'is', 'an', 'effect', 'and', 'not', 'a', 'trait', '!', 'Used', 'cleverly', 'it', 'can', 'be', 'breathtaking', ',', 'but', 'in', 'this', 'case', 'it', \"'s\", 'an', 'excuse', 'for', 'inadequate', 'cinematography', '.'], ['This', 'movie', 'could', 'have', 'been', 'a', 'decent', 'B-movie', 'if', '3/4', 'of', 'the', 'the', 'movie', 'was', \"n't\", 'so', 'much', 'focusing', 'on', 'the', 'sex', 'scenes', '.', 'I', 'mean', ',', 'he', \"'s\", 'a', 'sex', 'addict', ',', 'and', 'I', \"'m\", 'sure', 'that', 'there', \"'s\", 'a', 'lot', 'more', 'that', 'goes', 'on', 'with', 'sex', 'addicts', 'outside', 'of', 'having', 'sex', 'on', 'a', 'constant', 'basis', '.', 'Michael', 'Des', 'Barres', 'did', 'a', 'good', 'job', 'considering', 'what', 'all', 'he', 'had', 'to', 'do', ',', 'which', 'was', \"n't\", 'much', '.', 'At', 'one', 'point', 'or', 'another', ',', 'one', 'would', 'have', 'to', 'laugh', 'at', 'him', ',', 'because', 'his', 'character', 'was', 'so', 'pitiful', '.', 'Nastassja', 'Kinski', 'was', 'alright', 'in', 'her', 'role', 'as', 'the', 'concerned', 'sex', 'therapist', ',', 'she', 'could', \"'ve\", 'of', 'done', 'more', 'though', 'and', 'I', \"'m\", 'not', 'suggesting', 'her', 'having', 'sex', '.', 'The', 'person', 'that', 'stood', 'out', 'the', 'most', 'to', 'me', 'in', 'this', 'movie', 'was', 'Rosanna', 'Arquette', 'in', 'her', 'convincing', 'role', 'as', 'the', 'loving', 'and', 'concerned', 'wife', '.', 'There', \"'s\", 'something', 'about', 'beautiful', 'inside', 'and', 'out', 'that', 'strongly', 'appeals', 'to', 'me', '.', 'She', 'played', 'that', 'role', 'and', 'as', 'you', 'watched', 'the', 'movie', ',', 'you', 'start', 'to', 'feel', 'bad', 'for', 'her', '.', '``', 'Diary', 'Of', 'A', 'Sex', 'Addict', \"''\", 'while', 'not', 'Oscar', 'material', 'or', 'a', 'modern', 'classic', 'to', 'anyone', \"'s\", 'standards', ',', 'is', 'quite', 'informative', 'and', 'does', 'a', 'fair', 'job', 'in', 'showing', 'you', 'how', 'one', \"'s\", 'personal', 'demons', 'can', 'take', 'over', 'and', 'ruin', 'the', 'very', 'things', 'in', 'life', 'you', 'think', 'highly', 'of', '.'], ['I', 'watched', 'this', 'with', 'a', 'growing', 'sense', 'of', 'unease', '.', 'Why', 'would', 'God', ',', 'in', 'the', 'shape', 'of', 'Ian', 'Hunter', ',', 'help', 'these', 'particular', 'people', 'in', 'their', 'attempted', 'escape', 'from', 'Devils', 'Island', '?', 'And', 'what', 'was', 'he', 'doing', 'there', 'in', 'the', 'first', 'place', '?', 'I', 'mean', ',', 'I', 'know', 'God', 'works', 'in', 'mysterious', 'ways', ',', 'but', 'helping', 'thieves', 'and', 'murderers', 'and', 'prostitutes', 'find', 'redemption', ',', 'forgiveness', 'and', 'changes-of-heart', 'in', 'such', 'a', 'godforsaken', 'location', '...', '.', 'In', 'any', 'event', 'it', 'is', 'hardly', 'a', 'likeable', 'movie', '.', 'Whatever', 'Gable', 'had', 'by', 'way', 'of', 'charm', 'is', 'missing', 'in', 'this', 'portrait', 'of', 'a', 'thoroughly', 'selfish', 'man', ',', 'Crawford', 'is', 'as', 'endearing', 'as', 'ever', 'she', 'was', 'i.e', '.', 'to', 'me', ',', 'not', 'at', 'all', ',', 'and', 'the', 'whole', 'look', 'of', 'the', 'film', 'makes', 'it', 'seem', 'as', 'if', 'it', 'was', 'made', '10', 'years', 'before.Compared', 'to', 'contemperaneous', 'films', 'like', '``', 'Stagecoach', \"''\", 'and', '``', 'Mr', '.', 'Deeds', 'Goes', 'to', 'Town', \"''\", ',', 'this', 'looks', 'prehistoric', '.'], ['W.', 'Somerset', 'Maugham', \"'s\", 'Of', 'Human', 'Bondage', 'is', 'supposed', 'to', 'be', 'a', 'English', 'language', 'classic', '.', 'If', 'so', ',', 'much', 'must', 'have', 'been', 'missing', 'from', 'the', 'film', 'version', 'here', '.', 'Phillip', \"'s\", '(', 'Leslie', 'Howard', ')', 'attraction', 'to', 'Mildred', '(', 'Bette', 'Davis', ')', 'is', 'so', 'utterly', 'inexplicable', 'as', 'to', 'make', 'the', 'scenario', 'seem', 'like', 'the', 'post-breakup', 'retelling', 'of', 'a', 'relationship', 'from', 'the', 'man', \"'s\", 'point', 'of', 'view', '.', 'Being', 'a', 'family', 'lawyer', 'I', \"'ve\", 'heard', 'many', 'such', 'accounts', ';', 'the', 'man', 'depicts', 'himself', 'as', 'noble', 'and', 'always', 'correct', ',', 'and', 'the', 'woman', 'is', 'a', 'hellion', 'who', 'has', 'had', 'no', 'other', 'objective', 'than', 'to', 'exploit', 'the', 'man', '.', 'Indeed', ',', 'unless', 'one', 'is', 'willing', 'to', 'laugh', 'at', 'the', 'social', 'assumptions', 'of', 'the', 'film', 'maker', ',', 'this', 'is', 'an', 'uncomfortable', 'movie', 'to', 'watch', '.', 'Phillip', 'even', 'indulges', 'Mildred', 'when', 'she', 'brings', 'over', 'a', 'baby', 'of', 'indeterminate', 'paternity', ',', 'but', 'the', 'real', 'high', 'point', 'comes', 'when', 'Phillip', 'allows', 'Mildred', '-', 'enraged', 'and', 'now', 'of', 'dubious', 'sanity', '-', 'the', 'free', 'run', 'of', 'his', 'flat', ',', 'with', 'predictable', 'results', '.', 'Bette', 'Davis', 'was', 'attractive', 'for', 'about', 'five', 'years', 'of', 'her', 'life', ',', 'but', 'that', 'period', 'did', \"n't\", 'occur', 'here', '.', 'In', 'fact', ',', 'by', 'the', 'end', 'of', 'the', 'movie', 'she', 'looks', 'a', 'lot', 'like', 'the', 'Baby', 'Jane', 'character', 'she', 'would', 'play', 'thirty', 'years', 'later', '.', 'I', 'note', 'how', 'Howard', \"'s\", 'character', 'is', 'always', 'impeccably', 'dressed', 'and', 'groomed', '.', 'It', 'tells', 'me', 'that', 'Phillip', 'craves', 'middle', 'class', 'respectability', '.', 'Someone', 'like', 'that', 'could', 'not', 'run', 'from', 'a', 'woman', 'with', 'a', 'course', 'Cockney', 'accent', 'fast', 'enough', '.', 'Phillip', 'is', ',', 'for', 'most', 'of', 'the', 'movie', ',', 'a', 'student', ';', 'such', 'a', 'person', 'would', 'have', 'been', 'more', 'believable', 'if', 'he', 'had', 'been', 'younger', ',', 'and', 'had', 'the', 'disheveled', 'looks', 'that', 'bespeak', 'the', 'low', 'income', 'and', 'the', 'low', 'self', 'esteem', 'that', 'often', 'accompanies', 'student', 'status', '-', 'an', 'English', 'Raskolnikov', ',', 'as', 'it', 'will', '.', 'And', 'balanced', 'that', 'by', 'allowing', 'Mildred', 'a', 'modicum', 'of', 'charm', '.'], ['What', 'a', 'dreadful', 'movie', '!', 'For', 'some', 'reason', ',', 'scientific', 'laboratories', 'and', 'outposts', 'always', 'have', 'a', 'staff', 'of', 'grubby', ',', 'dirty', ',', 'mean-spirited', ',', 'misanthropes', 'living', 'inside', '.', 'These', 'folks', 'who', 'presumably', 'work', 'together', 'on', 'complicated', 'scientific', 'projects', 'can', 'not', 'seem', 'to', 'agree', 'on', 'how', 'to', 'survive', 'death', 'at', 'the', 'hands', 'of', 'a', 'CGI', 'Dragon', '.', 'Spoilers', ':', 'An', 'extra-nasty', 'scientist', 'whose', 'main', 'acting', 'skill', 'is', '``', 'leering', \"''\", 'and', '``', 'the', 'sinister', 'stare', \"''\", 'has', 'cloned', 'a', 'Dragon', '.', 'While', 'the', 'lab', 'was', 'supposed', 'to', 'work', 'on', 'this', 'kind', 'of', 'thing', ',', 'the', 'other', 'scientists', 'are', 'shocked', ',', 'because', 'apparently', 'they', 'were', 'all', 'way', 'behind', 'in', 'their', 'experiments', 'and', 'got', 'caught', 'with', 'their', 'pants', 'down', '.', 'The', 'rest', 'of', 'the', 'story', 'is', 'like', 'THE', 'THING', ',', 'or', 'Ten', 'Little', 'Indians', ',', 'where', 'the', 'staff', 'is', 'hunted', 'and', 'killed', 'off', 'as', 'they', 'try', 'to', 'formulate', 'a', 'way', 'to', 'escape', 'and/or', 'defeat', 'the', '``', 'Dragon', '.', \"''\", 'The', 'CGI', 'Dragon', 'creature', 'is', 'dark', 'gray', ',', 'which', 'seems', 'to', 'be', 'the', 'popular', 'color', 'for', 'most', 'of', 'the', 'cheap', 'CGI', 'special', 'effects', '.', 'It', 'hardly', 'looks', 'better', 'than', 'a', 'cartoon', ',', 'and', 'the', 'dark', 'gray', 'tones', 'make', 'it', 'difficult', 'to', 'see', 'any', 'interesting', 'details', 'in', 'the', 'body', 'of', 'the', 'Dragon', '.', 'All', 'it', 'looks', 'like', 'is', 'a', 'gray', 'blob', '.', 'The', 'acting', 'is', 'less', 'than', 'horrible', '.', 'These', 'scientists', 'act', 'like', 'a', 'bunch', 'of', 'children', 'who', 'can', 'not', 'agree', 'on', 'anything', ',', 'and', 'this', 'makes', 'it', 'easier', 'for', 'the', 'Dragon', 'to', 'kill', 'them', 'off', 'in', 'various', 'attempts', 'to', 'escape', ',', 'hide', ',', 'etc', '.', 'Dean', 'Cain', 'is', 'hardly', 'better', 'than', 'any', 'of', 'the', 'cast', 'of', 'unknown', 'actors', 'in', 'this', 'movie', '.', 'He', 'seems', 'to', 'sink', 'to', 'the', 'level', 'of', 'his', 'supporting', 'cast', '.', 'This', 'movie', 'is', 'really', ',', 'really', 'atrocious', '.', 'The', 'acting', 'is', 'bad', '.', 'The', 'story', 'is', 'dumb', '.', 'The', 'CGI', 'is', 'very', 'very', 'cheap', 'and', 'amateurish', '.', 'There', 'is', 'nothing', 'commendable', 'about', 'this', 'movie', ',', 'it', 'is', 'not', 'even', 'a', 'good', 'time-killer', 'to', 'glance', 'at', 'while', 'doing', 'chores', 'or', 'other', 'work', '.'], ['I', 'had', 'some', 'time', 'to', 'kill', 'before', 'watching', 'football', 'so', 'I', 'saw', 'this', 'movie', 'being', 'offered', 'on', 'the', 'scifi', 'channel', 'and', 'it', 'literally', 'after', 'watching', 'it', 'I', 'thought', 'I', 'had', 'encountered', 'my', 'version', 'of', 'mentally', 'walking', 'the', 'Bataan', 'death', 'march', 'as', 'my', 'conscious', 'was', 'beaten', 'into', 'submission', 'by', 'the', 'awful', 'movie', 'which', 'ripped', 'off', 'the', 'Mummy', 'series', 'and', 'Jurassic', 'Park', '.', 'It', 'was', 'so', 'bad', 'that', 'I', 'thought', 'the', 'opening', 'credits', 'were', 'the', 'highlight', 'of', 'the', 'movie', 'and', 'then', 'it', 'went', 'into', 'such', 'a', 'abysmal', 'descent', 'that', 'it', 'made', 'the', 'recent', 'drop', 'in', 'the', 'stock', 'market', 'seem', 'like', 'a', 'hiccup', '.', 'The', 'acting', 'was', 'so', 'bad', 'that', 'I', 'was', 'hoping', 'that', 'one', 'and', 'all', 'would', 'be', 'buried', 'at', 'the', 'end', '.', 'The', 'lead', 'by', 'Casper', 'Van', 'Dien', 'made', 'me', 'long', 'for', 'the', 'high', 'caliber', 'acting', 'of', 'Steven', 'Seagal', 'in', '``', 'On', 'Deadly', 'Ground', \"''\", 'as', 'his', 'line', 'reading', 'was', 'so', 'wooden', 'that', 'Woody', 'Woodpecker', 'was', 'thinking', 'of', 'making', 'a', 'cameo', 'to', 'sit', 'on', 'his', 'shoulder', '.', 'I', 'also', 'noticed', 'that', 'his', 'emotional', 'range', 'is', 'so', 'limited', 'that', 'I', 'was', 'under', 'the', 'impression', 'my', 'kitten', 'was', 'more', 'expressive', 'when', 'asking', 'for', 'popcorn', 'to', 'eat', '.', 'The', 'direction', 'was', 'so', 'abysmal', 'I', 'looked', 'back', 'yearning', 'to', 'my', 'nephew', \"'s\", 'grade', '3', 'play', 'recital', 'which', 'had', 'more', 'pace', 'and', 'better', 'vision', 'and', 'the', 'fact', 'that', 'this', 'movie', 'seems', 'to', 'be', 'have', 'spliced', 'together', 'from', 'afterthoughts', 'of', 'the', 'aforementioned', 'movie', 'franchise', 'it', 'can', 'not', 'even', 'be', 'thought', 'of', 'as', 'a', 'homage', '.', 'The', 'FX', 'of', 'the', 'movie', 'was', 'so', 'bad', 'that', 'I', 'thought', 'the', 'director', 'and', 'producers', 'were', 'enviormentally', 'friendly', 'by', 'recycling', 'cheap', 'special', 'effects', 'from', 'grade', 'Z', 'horror', 'flicks', 'from', 'yesteryear', '.', 'What', 'Robert', 'Wagner', ',', 'Tom', 'Bosley', 'and', 'Geoffrey', 'Lewis', 'were', 'doing', 'in', 'this', 'movies', 'is', 'beyond', 'me', 'and', 'they', 'should', 'look', 'at', 'litigation', 'against', 'their', 'agents', 'for', 'misrepresentation', 'for', 'getting', 'them', 'involved', 'with', 'such', 'a', 'dreck', 'of', 'a', 'movie', '.', 'My', 'warning', 'to', 'one', 'and', 'all', 'is', 'watch', 'this', 'movie', 'at', 'your', 'peril', 'as', 'this', 'movie', 'may', 'cause', 'your', 'IQ', 'to', 'diminish', 'with', 'prolonged', 'viewing', '.', 'On', 'a', 'side', 'note', 'I', 'noticed', 'at', 'IMDb', 'that', 'sometimes', 'salaries', 'for', 'movies', 'are', 'published', 'I', 'was', 'wondering', 'if', 'their', 'is', 'a', 'way', 'that', 'actors', 'that', 'should', 'give', 'the', 'salaries', 'back', 'for', 'their', 'poor', 'performances', 'in', 'such', 'movies', '.', 'Beware', 'and', 'be', 'safe', 'avoid', 'at', 'all', 'costs', '.'], ['Minimal', 'script', ',', 'minimal', 'character', 'development', ',', 'minimal', 'steady', 'camera', '.', 'Maximum', 'stretched', 'scenes', ',', 'maximum', 'headache', 'inducing', 'jerky', 'zooms', ',', 'maximum', 'characters', 'walking', 'around', 'in', 'the', 'woods', 'doing', 'nothing', '.', 'Up', 'until', 'the', 'time', 'flashes', 'on', 'the', 'screen', 'of', '12:01pm', ',', 'you', 'can', 'fast', 'forward', 'and', 'miss', 'nothing', ',', 'since', 'there', 'are', 'three', 'hunters', 'who', 'we', 'know', 'nothing', 'about', 'doing', 'nothing', '.', 'To', 'be', 'fair', ',', 'the', 'movie', 'does', 'have', 'some', 'string', 'music', 'that', 'was', 'interesting', ',', 'so', 'perhaps', 'a', 'music', 'video', 'would', 'have', 'been', 'the', 'way', 'to', 'go', 'with', 'this', '.', 'Unfortunately', 'that', 'was', 'not', 'to', 'be', ',', 'and', 'what', 'should', 'have', 'been', 'a', 'twenty', 'minute', 'short', 'is', 'stretched', 'beyond', 'belief', '.', 'Forget', 'about', '``', 'Trigger', 'Man', \"''\", ',', 'I', 'know', 'I', 'am', 'trying', 'to', '.', '-', 'MERK'], ['I', 'originally', 'gave', 'this', 'episode', 'a', 'rating', 'of', 'two-', 'I', 'now', 'wish', 'I', \"'d\", 'thought', 'more', 'about', 'it', '.', 'I', 'also', 'wish', 'they', 'had', 'negative', 'rating', 'options', '.', 'Watching', 'it', ',', 'I', 'was', 'amazed', 'at', 'how', 'poor', 'the', 'whole', 'thing', 'was', 'from', 'start', 'to', 'finish', '.', 'I', 'adore', 'Ron', 'Pearlman', ',', 'and', 'John', 'Carpenter', '...', 'so', 'what', 'went', 'wrong', '?', '?', 'Last', 'season', 'episode', '13', 'was', 'pulled', 'due', 'to', 'the', 'way', 'it', 'handled', 'the', 'abortion', 'issue', '.', 'I', 'think', 'that', 'this', 'season', 'Mr', 'Carpenter', 'managed', 'to', 'make', 'something', 'so', 'grey-area', 'that', 'you', 'ca', \"n't\", 'immediately', 'see', 'if', 'he', 'is', 'pro-choice', 'or', 'anti-abortion', '.', 'It', 'was', 'only', 'after', 'I', 'sat', 'and', 'thought', 'about', 'it', 'that', 'I', 'realized', 'he', 'is', 'very', 'much', 'anti-abortion-', 'you', 'get', 'this', 'most', 'clearly', 'in', 'the', 'end', 'when', 'the', \"'Mother\", \"'\", 'shoots', 'the', 'baby', 'and', 'kills', 'it', ',', 'to', 'the', 'dismay', 'of', 'the', \"'Father\", \"'\", ',', 'who', 'walks', 'off', 'in', 'grief', ',', 'leaving', 'the', 'mother', 'unharmed', '.', 'But', 'you', 'also', 'see', 'it', 'in', 'the', 'way', 'the', 'Ron', 'P.', 'character', 'is', 'treated-', 'I', 'hardly', 'think', 'that', 'if', 'someone', 'has', 'proved', 'themselves', 'enough', 'of', 'a', 'threat', 'in', 'the', 'past', 'so', 'as', 'to', 'have', 'a', 'restraining', 'order', 'against', 'him', 'that', 'they', 'would', 'not', 'immediately', 'be', 'ringing', 'the', 'police', '.', 'Instead', 'we', 'have', 'the', 'guard', 'almost', 'sympathetically', 'dealing', 'with', 'him', '(', 'only', 'to', 'pay', 'for', 'it', 'in', 'the', 'end', ')', 'I', 'do', \"n't\", 'mind', 'someone', 'having', 'a', 'strong', 'view', 'on', 'something', ',', 'even', 'if', 'it', 'is', \"n't\", 'something', 'I', 'agree', 'in', ',', 'but', 'I', 'do', 'think', 'its', 'a', 'bit', 'lame', 'not', 'to', 'stand', 'by', 'that', 'view', ',', 'rather', 'than', 'trying', 'to', 'look', 'like', 'they', \"'re\", 'sitting', 'somewhere', 'in', 'the', 'middle', '.', 'But', ',', 'political', 'issues', 'aside', ',', 'this', 'episode', 'was', 'beyond', 'poor', '.', 'The', 'music', 'was', 'retro-70', \"'s\", 'and', 'just', 'plain', 'did', \"n't\", 'work', '.', 'The', 'acting', '(', 'other', 'than', 'Ron', 'P.', ')', 'was', 'poor', '.', 'The', 'effects', 'were', 'dreadful-', 'it', 'might', 'have', 'been', 'better', 'just', 'to', '-not-', 'show', 'the', 'monster', 'at', 'all', 'rather', 'than', 'show', 'the', 'lame', 'excuse', 'for', 'a', 'monster', 'they', 'had', '.', 'All', 'this', 'being', 'said', ',', 'I', \"'m\", 'glad', 'they', 'have', 'the', 'Masters', 'of', 'Horror-', 'I', 'do', \"n't\", 'mind', 'sitting', 'through', 'some', 'really', 'poor', 'episodes', 'to', 'find', 'the', 'good', 'ones', '.', 'Its', 'a', 'bit', 'like', 'renting', 'horror', 'movies', 'from', 'the', 'video', 'store-', 'every', 'now', 'and', 'again', 'you', 'get', 'a', 'good', 'one', 'and', 'it', 'makes', 'it', 'all', 'worth', 'while', '.', 'I', 'do', 'agree', 'with', 'the', 'poster', 'that', 'said', 'maybe', 'the', 'name', 'needs', 'to', 'change', 'from', 'Masters-', 'some', 'of', 'these', 'people', 'just', 'plain', 'do', \"n't\", 'deserve', 'the', 'title', '.', '(', 'Let', 'me', 'stress', 'tho-', 'even', 'tho', 'I', 'hated', 'this', 'episode', ',', 'John', 'Carpenter', 'TOTALLY', 'deserves', 'the', 'title', '.', 'He', 'is', 'a', 'master', 'thru', 'and', 'thru', ')'], ['Platoon', 'is', 'to', 'the', 'Vietnam', 'War', 'as', 'Rocky', 'IV', 'is', 'to', 'heavyweight', 'championship', 'boxing', '.', 'Oliver', 'Stone', \"'s\", 'story', 'of', 'the', 'experience', 'of', 'a', 'US', 'Army', 'platoon', 'in', 'Vietnam', 'in', '1968', 'is', 'so', 'overdone', 'it', \"'s\", 'laughable', '.', 'While', 'most', 'or', 'all', 'of', 'the', 'occurrences', 'in', 'Platoon', 'did', 'occur', 'over', 'the', '10+', 'year', 'span', 'of', 'US', 'military', 'involvement', 'in', 'Vietnam', ',', 'to', 'portray', 'these', 'things', 'happening', 'to', 'one', 'small', 'group', 'of', 'men', 'in', 'such', 'a', 'short', 'time', 'frame', '(', 'weeks', ')', 'gives', 'a', 'horribly', 'skewed', 'picture', 'of', 'the', 'war', '.', 'In', 'Platoon', ',', 'the', 'men', 'of', 'the', 'platoon', 'see', 'all', 'of', 'the', 'following', 'in', 'the', 'course', 'of', 'a', 'week', 'or', 'two', ':', 'US', 'soldiers', 'murdering', 'civilians', ',', 'US', 'Soldiers', 'raping', 'civilians', ',', 'a', 'US', 'Sergeant', 'murdering', 'another', 'US', 'Sergeant', ',', 'a', 'US', 'Private', 'murdering', 'a', 'US', 'Staff', 'Sergeant', ',', 'US', 'soldiers', 'killed/wounded', 'by', 'friendly', 'fire', ',', '90', '%', '+', 'killed', 'or', 'wounded', 'in', 'the', 'platoon', '.', 'For', 'Stone', 'to', 'try', 'to', 'pass', 'this', 'film', 'off', 'as', 'the', 'typical', 'experience', 'of', 'a', 'US', 'soldier', 'in', 'Vietnam', 'is', 'a', 'disgrace', '.', 'Two', 'Vietnam', 'War', 'films', 'I', 'would', 'recommend', 'are', 'We', 'Were', 'Soldiers', '(', 'the', 'TRUE', 'story', 'of', 'arguably', 'the', 'worst', 'battle', 'for', 'US', 'soldiers', 'in', 'Vietnam', ')', 'and', 'HBO', \"'s\", 'A', 'Bright', 'Shining', 'Lie', '.'], ['I', 'thought', 'I', 'read', 'somewhere', 'that', 'this', 'was', 'the', 'last', 'Monogram', 'production', ',', 'but', 'whether', 'that', \"'s\", 'true', 'or', 'not', 'it', 'does', \"n't\", 'matter', ',', 'because', 'if', 'it', 'was', \"n't\", ',', 'then', 'it', 'should', 'have', 'been', '.', 'It', \"'s\", 'a', 'deadly', 'dull', 'affair', 'starring', 'John', 'Carradine', 'with', 'some', 'gray', 'in', 'his', 'hair', 'to', 'make', 'himself', 'appear', 'like', 'an', 'older', 'scientist', 'who', 'is', 'experimenting', 'with', 'the', 'aid', 'of', 'his', 'young', 'apprentice', '(', 'Robert', 'Shayne', ')', 'in', 'bringing', 'the', 'dead', 'back', 'to', 'life', '.', 'Every', 'time', 'their', 'subjects', 'are', 'revived', ',', 'they', 'seem', 'to', 'have', 'a', 'whitish', 'face', 'like', 'marble', 'as', 'they', 'are', 'lying', 'strapped', 'to', 'the', 'laboratory', 'table', '(', 'big', 'deal', ')', '.', 'Carradine', 'manages', 'to', 'restore', 'his', 'faithful', 'dog', 'to', 'life', 'after', 'it', \"'s\", 'dead', ',', 'and', 'the', 'mutt', 'gains', 'an', 'unusual', 'ability', 'to', 'walk', 'through', 'walls', 'in', 'a', 'ghostlike', 'fashion', '(', 'wooooooooohhhh', ')', '.', 'That', \"'s\", 'about', 'all', 'she', 'wrote', '.', 'For', 'an', 'ultra-cheap', 'Monogram', 'quickie', ',', 'this', 'thing', 'at', 'least', 'actually', 'utilizes', 'a', 'more', 'fancy-schmancy', 'lab', 'setup', 'than', 'is', 'usually', 'allotted', '.', 'The', 'funniest', 'running', 'joke', 'in', 'the', 'movie', 'is', 'that', 'the', '``', 'older', \"''\", 'doctor', 'Carradine', 'constantly', 'refers', 'to', 'his', '``', 'young', \"''\", 'assistant', 'Shayne', 'as', '``', \"m'boy\", \"''\", 'when', ',', 'in', 'fact', ',', 'Carradine', 'was', 'actually', '40', 'and', 'Shayne', 'was', '45', 'when', 'they', 'made', 'this', '!'], ['For', 'months', 'preceding', 'the', 'release', 'of', 'this', 'movie', 'you', 'saw', 'it', 'advertised', 'in', 'all', 'sorts', 'of', 'print', 'media', ',', 'so', 'I', 'patiently', 'waited', 'for', 'its', 'video', 'release', 'to', 'see', 'what', 'all', 'the', 'hype', 'was', 'about', '.', 'After', 'it', 'was', 'over', 'I', 'had', 'to', 'apologize', 'to', 'my', 'roommate', 'for', 'occupying', 'the', 'VCR', 'for', 'the', 'last', 'hour', 'and', 'a', 'half', 'to', 'watch', 'such', 'a', 'horrible', 'movie', '.', 'It', 'essentially', 'fails', 'because', 'it', 'is', 'a', 'character', 'based', 'movie', 'about', 'unredeemable', 'characters', '.', 'With', 'the', 'possible', 'exception', 'of', 'Amanda', 'Peet', '(', 'whose', 'only', 'redeemable', 'quality', 'is', 'that', 'she', 'is', 'Amanda', 'Peet', ')', 'you', 'can', 'not', 'stand', 'any', 'of', 'them', '.', 'The', 'film', 'relies', 'on', 'its', 'dialogue', 'which', 'is', 'sophomoric', ',', 'moronic', ',', 'and', 'crude', '.', 'The', 'only', 'slightly', 'amusing', 'character', 'is', 'Eric', ',', 'whose', 'portrayal', 'of', 'the', 'sole', 'married', 'member', 'of', 'a', 'group', 'of', 'friends', 'is', 'dead', 'on', '.', 'The', 'final', 'twist', ',', 'designed', 'to', 'make', 'you', 'laugh', 'at', 'the', 'three', 'main', 'characters', ',', 'only', 'instead', 'inspires', 'the', 'same', 'kind', 'of', 'resentment', 'towards', 'Peet', '.', 'All', 'in', 'all', ',', 'only', 'rent', 'if', 'you', 'are', 'desperate', 'or', 'possess', 'a', 'dark', 'sense', 'of', 'humor', '.'], ['Naturally', 'I', 'did', \"n't\", 'watch', \"'GI\", 'Jane', \"'\", 'out', 'of', 'choice', '.', 'I', 'was', 'more', 'or', 'less', 'forced', 'to', 'watch', 'this', 'film', 'round', 'my', 'ex-girlfriends', 'house', '.', 'GI', 'Jane', 'loses', 'its', 'credibility', 'straight', 'away', 'by', 'trying', 'to', 'convince', 'the', 'viewer', 'that', 'it', 'is', 'potentially', 'a', 'real', 'scenario', ',', 'which', 'of', 'course', 'it', 'is', \"n't\", '.', 'The', 'result', 'of', 'this', 'is', 'that', 'the', 'story', 'becomes', 'automatically', 'bound', 'by', 'constraints', ',', 'restricting', 'the', 'amount', 'of', 'humour', '(', 'of', 'which', 'there', 'is', 'none', ')', 'or', 'entertaining', 'action', 'scenes', ',', 'and', 'soon', 'becomes', 'too', 'serious', '.', 'The', 'film', 'therefore', 'becomes', 'extremely', 'boring', 'and', 'predictable', '.', \"'GI\", 'Jane', \"'\", 'fails', 'where', 'other', 'action', 'films', 'succeed', ',', 'mainly', 'because', 'films', 'such', 'as', 'James', 'Bond', ',', 'Dirty', 'Harry', 'and', 'various', 'others', 'are', 'larger', 'than', 'life', ',', 'yet', 'never', 'proclaim', 'to', 'be', 'otherwise', '.', 'They', 'are', 'escapism', ',', 'and', 'therefore', 'entertaining', '.', \"'GI\", 'Jane', \"'\", 'tries', 'to', 'be', 'real', 'and', 'fails', '.', 'This', 'is', 'a', 'very', 'disappointing', 'film', 'from', 'Ridley', 'Scott', ',', 'with', 'a', 'very', 'non-credible', 'storyline', ',', 'unremarkable', 'acting', ',', 'and', 'the', 'only', 'reason', 'I', 'give', 'it', '2/10', 'instead', 'of', '1/10', 'is', 'for', 'some', 'of', 'the', 'technical', 'work', '.'], ['An', 'anthology', 'is', 'always', 'risky', 'business', 'and', 'I', 'think', 'this', 'endeavor', 'should', 'be', 'praised', '.', 'There', \"'s\", 'a', 'lot', 'of', 'talent', 'involved', 'here', '.', 'A', 'great', 'many', 'talented', 'actors', ',', 'directors', 'and', 'writers', '.', 'Unfortunately', ',', 'I', 'could', \"n't\", 'really', 'enjoy', 'this', 'movie', 'based', 'on', 'three', 'issues', 'I', 'had', '.', 'First', 'of', 'all', ',', 'the', 'segments', 'vary', 'incredibly', 'in', 'tone', 'and', 'quality', '.', 'And', 'unfortunately', 'some', 'of', 'them', 'clash', 'with', 'the', 'others', '.', 'Secondly', ',', 'several', 'segments', 'feel', 'underdeveloped', 'to', 'me', '.', 'Like', 'seeds', 'of', 'good', 'stories', 'that', 'never', 'come', 'to', 'fruition', '.', 'I', \"'m\", 'not', 'talking', 'about', 'happy', 'endings', 'here', '(', 'or', 'even', 'an', 'ending', 'period', ')', 'but', 'rather', ',', 'they', 'lack', 'even', 'basic', 'development', 'or', 'even', 'solid', 'setups', 'that', 'draw', 'you', 'in', '.', 'Last', 'but', 'not', 'least', ',', 'I', 'did', 'not', 'feel', 'New-York', 'and', 'its', 'inhabitants', 'were', 'properly', 'portrayed', '.', 'What', 'you', \"'re\", 'left', 'with', 'is', 'high-brow', 'short', 'films', 'that', 'may', 'still', 'be', 'of', 'interest', 'to', 'some', 'but', 'will', 'leave', 'the', 'average', 'viewer', 'unsatisfied', '.'], ['This', 'movie', 'was', 'awful', 'in', 'the', 'worst', 'way', ':', 'you', 'just', 'did', \"n't\", 'care', '.', 'You', 'did', \"n't\", 'care', 'what', 'happened', 'in', 'the', 'plot', ';', 'you', 'did', \"n't\", 'care', 'about', 'the', 'characters', '.', 'Everyone', 'was', 'devoid', 'of', 'heart', '.', 'I', 'ended', 'up', 'walking', 'out', 'about', 'an', '45', 'minutes', 'into', 'it', 'because', 'I', 'simply', 'did', \"n't\", 'want', 'to', 'subject', 'my', 'mind', 'to', 'it', 'any', 'more', '.', 'There', 'is', 'far', 'too', 'much', 'sex', 'in', 'the', 'film', '.', 'Sex', 'can', 'be', 'okay', ';', 'it', 'can', 'even', 'make', 'the', 'movie', '(', 'hence', 'Karma', 'Sutra', ')', 'but', 'the', 'intercourse', 'here', 'was', 'not', 'beautiful', 'or', 'sexy', '.', 'It', 'was', 'just', 'ugly', '.', 'Do', \"n't\", 'see', 'this', 'film', '.'], ['This', 'movie', 'could', 'have', 'been', 'so', 'much', 'better', 'with', 'a', 'script', 'rewrite', '.', 'Not', 'that', 'I', 'expect', 'a', 'great', 'deal', 'of', 'plausibility', 'in', 'movies', ',', 'but', 'you', \"'d\", 'think', 'that', 'even', 'the', 'homeless', 'and', 'urban-dwelling', 'Jack', 'Mason', 'would', 'question', 'why', 'a', 'group', 'of', 'experienced', 'hunters', 'would', 'want', 'to', 'hire', 'him', 'as', 'a', 'hunting', 'guide', '.', 'And', 'upon', 'reaching', 'the', 'hunting', 'grounds', ',', 'poor', 'Ice-T', 'plays', 'his', 'part', 'as', 'if', 'he', 'is', 'actually', 'going', 'to', 'lead', 'these', 'men', 'through', 'woods', 'he', \"'s\", 'never', 'seen', 'before', '.', 'And', 'how', 'does', 'Jack', 'Mason', 'find', 'Thomas', 'Burns', 'back', 'in', 'Seattle', '?', 'I', \"'m\", 'assuming', 'this', 'movie', 'was', 'based', 'on', 'Richard', 'Connell', \"'s\", 'short', 'story', '``', 'The', 'Most', 'Dangerous', 'Game', '.', \"''\", 'A', 'few', 'years', 'ago', 'I', 'showed', 'this', 'movie', 'to', 'a', 'class', 'of', '9th', 'grade', 'students', 'after', 'they', 'read', 'the', 'story', '.', 'I', 'reedited', 'the', 'movie', ',', 'cutting', 'out', 'all', 'the', 'pointless', 'scenes', 'and', 'all', 'the', 'profanity', '.', 'It', 'ended', 'up', 'being', '43', 'minutes', 'long', '.'], ['I', \"'m\", 'not', 'sure', 'what', '.', 'I', 'just', 'could', \"n't\", 'laugh', 'at', 'it', '.', 'I', 'had', 'an', 'open', 'mind', '.', 'I', 'did', \"n't\", 'want', 'to', 'be', 'a', 'tight-', '@', 'ss', 'about', 'it', '.', 'But', 'I', 'seriously', 'just', 'could', \"n't\", 'laugh', 'at', 'this', 'film', '.', 'It', 'was', 'just', 'not', 'funny', 'to', 'me', '.', 'Some', 'parts', 'it', 'seemed', 'like', 'Ben', 'Stiller', 'and', 'Jack', 'Black', 'tried', 'too', 'hard', '.', 'Just', 'because', 'you', 'put', 'two', 'very', 'funny', 'men', 'together', 'does', \"n't\", 'mean', 'that', 'this', 'is', 'going', 'to', 'be', 'an', 'excellent', 'comedy', '.', 'Some', 'movies', 'just', 'should', \"n't\", 'be', 'made', '.', 'This', 'is', 'one', 'of', 'them', '.', 'Because', 'it', 'does', 'a', 'lot', 'of', 'old', 'jokes', 'and', 'the', 'acting', 'was', 'just', 'stupid', '.', 'I', 'know', ',', 'I', 'know', 'it', \"'s\", 'a', 'comedy', '.', 'Sort', 'of', 'at', 'least', '.', 'But', 'I', 'was', 'just', 'not', 'impressed', '.', 'I', \"'m\", 'sorry', ',', 'but', 'I', 'can', 'not', 'give', 'this', 'anything', 'lower', 'than', 'a', 'two', '.', 'And', 'that', \"'s\", 'all', 'I', \"'m\", 'giving', '.', '2/10'], ['This', 'film', 'is', 'not', 'funny', '.', 'It', 'is', 'not', 'entertaining', '.', 'It', 'does', 'not', 'contain', 'one', 'single', 'second', 'of', 'originality', 'or', 'intelligence', ',', 'nor', 'does', 'it', 'lead', 'you', 'to', 'take', 'the', 'slightest', 'interest', 'in', 'the', 'characters', 'or', 'situation', '.', 'Added', 'to', 'that', 'it', \"'s\", 'about', 'as', 'juvenile', 'a', 'movie', 'as', 'anything', 'in', 'recent', 'memory', '.', 'It', \"'s\", 'as', 'if', 'a', 'group', 'of', '14', 'or', '15', 'year', 'old', 'high', 'school', 'kids', 'who', 'had', 'never', 'actually', 'met', 'or', 'had', 'any', 'type', 'of', 'relationship', 'with', 'a', 'real', 'girl', 'had', 'sat', 'down', 'and', 'wrote', 'a', 'movie', 'based', 'on', 'their', 'incorrect', 'fantasies', 'about', 'what', 'being', 'an', 'adult', 'man', 'would', 'be', 'like', '.', 'This', 'movie', 'is', 'boring', ',', 'obnoxiously', 'mind-numbing', ',', 'and', 'at', 'times', 'offensive', 'and', 'disgusting', '.', 'At', 'most', ',', 'it', 'contains', 'one', 'or', 'two', 'moments', 'that', 'make', 'you', 'laugh', '.', 'Also', ',', 'it', 'seems', 'twice', 'as', 'long', 'as', 'its', '85', 'minute', 'running', 'time', '.'], ['Great', 'cast', '.', 'Great', 'acting', '.', 'Unpredictable', 'story', 'line', 'for', 'the', 'first', 'half', 'hour', 'or', 'so', '.', 'I', 'was', 'really', 'wanting', 'to', 'know', 'what', 'was', 'going', 'to', 'happen', 'to', 'each', 'of', 'these', 'unredeeming', 'characters', ',', 'and', 'how', 'their', 'seemingly', 'disparate', 'lives', 'would', 'become', 'intertwined', '.', 'But', 'when', 'the', 'writers', 'took', 'out', 'the', 'glue', 'to', 'start', 'connecting', 'the', 'players', ',', 'they', 'mistakenly', 'used', 'super', 'glue', 'and', 'brought', 'the', 'movie', 'to', 'a', 'standstill', 'for', 'the', 'last', 'two', 'hours', '.', 'I', 'kept', 'thinking', 'it', 'would', 'get', 'better', ',', 'but', 'it', 'only', 'got', 'worse', '.', 'Do', \"n't\", 'believe', 'the', 'reviews', '.', 'This', 'is', 'a', 'waste', 'of', 'time', '.', 'Think', 'about', 'it', '--', 'Tom', 'Cruise', 'made', 'ugly', '--', 'why', '?', 'The', 'gorgeous', 'hunky', 'bartender', 'wearing', 'braces', '--', 'why', '?', 'I', 'know', 'it', 'had', 'to', 'do', 'with', 'the', 'plot', ',', 'but', 'without', 'them', ',', 'at', 'least', 'there', 'would', 'have', 'been', 'one', 'attractive', 'cast', 'member', 'to', 'remember', '.'], ['I', 'had', 'been', 'subjected', 'to', 'this', 'movie', 'for', 'a', 'relationship', 'class', 'in', 'my', 'school', '.', 'As', 'figured', 'it', 'was', 'nothing', 'captivating', 'and', 'nothing', 'new', '.', 'Though', 'it', 'tries', 'to', 'be', 'original', 'by', 'focusing', 'on', 'the', 'teen', 'father', 'instead', 'of', 'the', 'mother', 'showing', 'the', 'problems', 'that', 'the', 'dad', 'would', 'go', 'through', '.', 'It', 'had', 'an', 'interesting', 'side', 'to', 'it', 'but', 'it', 'just', 'does', \"n't\", 'live', 'up', 'to', 'its', 'originality', 'due', 'to', 'the', 'fact', 'nothing', 'else', 'in', 'this', 'movie', 'was', 'original', '.', 'We', 'have', 'the', 'main', 'character', 'who', 'has', 'the', 'older', 'sister', 'who', 'like', 'in', 'every', 'other', 'movie', 'like', 'this', 'has', 'a', 'thing', 'against', 'him', ',', 'we', 'have', 'the', 'stay', 'at', 'home', 'mother', 'who', 'expects', 'too', 'much', 'and', 'when', 'he', 'gives', 'more', 'she', 'feels', 'offended', 'and', 'leaves', 'him', 'in', 'the', 'dust', ',', 'then', 'we', 'have', 'the', 'father', 'who', 'is', 'always', 'gone', '.', 'Then', 'the', 'girls', 'side', 'we', 'have', 'the', 'parents', 'who', 'want', 'everything', 'and', 'expect', 'her', 'to', 'be', 'perfect', 'at', 'all', 'she', 'does', '.', 'On', 'to', 'the', 'story', 'like', 'I', 'said', 'it', 'was', 'interesting', 'but', 'the', 'lack', 'of', 'good', 'acting', 'from', 'the', 'entire', 'cast', 'and', 'the', 'lack', 'of', 'any', 'good', 'writing', 'or', 'storytelling', '.', 'Everything', 'about', 'this', 'fell', 'into', 'cliché', 'the', 'little', 'nerd', 'kid', 'in', 'school', 'starts', 'studying', 'with', 'girl', ',', 'they', 'get', 'together', ',', 'have', 'sex', 'and', 'then', 'boom', 'we', 'have', 'a', 'little', 'kid', '.', 'Perhaps', 'it', 'could', \"'ve\", 'been', 'better', 'had', 'the', 'writing', 'been', 'well', 'better', 'and', 'had', 'the', 'acting', 'been', 'improved', 'I', \"'ve\", 'seriously', 'gotten', 'more', 'emotion', 'out', 'of', 'Leatherface', 'and', 'his', 'chainsaw', 'than', 'I', 'did', 'out', 'of', 'any', 'actor', 'in', 'this', 'film', 'and', 'that', \"'s\", 'pretty', 'bad', 'seeing', 'as', 'the', 'Leatherface', 'movies', 'are', 'crap', 'and', 'horridly', 'acted', '.', 'So', 'far', 'the', 'only', 'interesting', 'teen', 'pregnancy', 'movie', 'I', \"'ve\", 'seen', 'was', 'Juno', '.', 'So', 'far', 'the', 'comical', 'side', 'of', 'this', 'serious', 'situation', 'has', 'proved', 'more', 'entertaining', 'while', 'still', 'giving', 'the', 'same', 'message', '.', 'Like', 'I', 'said', 'the', 'idea', 'was', 'original', 'most', 'of', 'these', 'films', 'focus', 'on', 'the', 'teen', 'mother', 'but', 'this', 'one', 'chose', 'not', 'to', 'instead', 'it', 'focuses', 'on', 'the', 'drama', 'of', 'the', 'father', 'but', 'again', 'the', 'originality', 'does', 'not', 'save', 'this', 'movie', 'from', 'mediocrity', '.', 'I', 'really', 'hope', 'someone', 'decides', 'to', 'either', 're-make', 'this', 'movie', 'with', 'a', 'better', 'cast', 'and', 'a', 'better', 'writer', 'or', 'just', 'make', 'another', 'similar', 'film', 'because', 'this', 'one', 'was', 'wasted', 'potential', '.'], ['Quite', 'what', 'the', 'producers', 'of', 'this', 'appalling', 'adaptation', 'were', 'trying', 'to', 'do', 'is', 'impossible', 'to', 'fathom', '.', 'A', 'group', 'of', 'top', 'quality', 'actors', ',', 'in', 'the', 'main', 'well', 'cast', '(', 'with', 'a', 'couple', 'of', 'notable', 'exceptions', ')', ',', 'who', 'give', 'pretty', 'good', 'performances', '.', 'Penelope', 'Keith', 'is', 'perfect', 'as', 'Aunt', 'Louise', 'and', 'equally', 'good', 'is', 'Joanna', 'Lumley', 'as', 'Diana', '.', 'All', 'do', 'well', 'with', 'the', 'scripts', 'they', 'were', 'given', '.', 'So', 'much', 'for', 'the', 'good', '.', 'The', 'average', 'would', 'include', 'the', 'sets', '.', 'Nancherrow', 'is', 'nothing', 'like', 'the', 'house', 'described', 'in', 'the', 'book', ',', 'although', 'bizarrely', 'the', 'house', 'they', 'use', 'for', 'the', 'Dower', 'House', 'looks', 'remarkably', 'like', 'it', '.', 'It', 'is', 'clear', 'then', 'that', 'the', 'Dower', 'House', 'is', 'far', 'too', 'big', '.', 'In', 'the', 'later', 'parts', ',', 'the', 'writers', 'decided', 'to', 'bring', 'the', 'entire', 'story', 'back', 'to', 'the', 'UK', ',', 'presumably', 'to', 'save', 'money', ',', 'although', 'with', 'a', 'little', 'imagination', 'I', 'have', 'no', 'doubt', 'they', 'could', 'have', 'recreated', 'Ceylon', '.', 'Now', 'to', 'the', 'bad', '.', 'The', 'screenplay', '.', 'This', 'is', 'such', 'an', 'appallingly', 'bad', 'adaptation', 'is', 'hard', 'to', 'find', 'words', 'to', 'condemn', 'it', '.', 'Edward', 'does', 'not', 'die', 'in', 'the', 'battle', 'of', 'Britain', 'but', 'survives', ',', 'blinded', '.', 'He', 'makes', 'a', 'brief', 'appearance', 'then', 'commits', 'suicide', '-', 'why', '?', '?', 'Loveday', 'has', 'changed', 'from', 'the', 'young', 'woman', 'totally', 'in', 'love', 'with', 'Gus', 'to', 'a', 'sensible', 'farmer', \"'s\", 'wife', 'who', 'can', 'give', 'up', 'the', 'love', 'her', 'life', 'with', 'barely', 'a', 'tear', '(', 'less', 'emotional', 'than', 'Brief', 'Encounter', ')', '.', 'Gus', ',', 'a', 'man', 'besotted', 'and', 'passionately', 'in', 'love', ',', 'is', 'prepared', 'to', 'give', 'up', 'his', 'love', 'without', 'complaint', '.', 'Walter', '(', 'Mudge', 'in', 'the', 'book', ')', 'turns', 'from', 'a', 'shallow', 'unfaithful', 'husband', 'to', 'a', 'devoted', 'family', 'man', '.', 'Jess', 'is', 'made', 'into', 'a', 'psychologically', 'disturbed', 'young', 'woman', 'who', 'wo', \"n't\", 'speak', '.', 'Aunt', 'Biddy', 'still', 'has', 'a', 'drink', 'problem', 'but', 'now', 'without', 'any', 'justification', '.', 'The', 'Dower', 'House', 'is', 'occupied', 'by', 'the', 'army', 'for', 'no', 'obvious', 'reason', 'other', 'than', 'a', 'very', 'short', 'scene', 'with', 'Jess', 'who', 'has', 'a', 'fear', 'of', 'armed', 'soldiers', '.', 'Whilst', 'Miss', 'Mortimer', \"'s\", 'breasts', 'are', 'utterly', 'delightful', ',', 'I', 'could', 'not', 'see', 'how', 'their', 'display', 'on', 'several', 'occasions', 'moved', 'the', 'plot', 'forward', '.', 'The', 'delightfully', 'named', 'Nettlebed', 'becomes', 'the', 'mundane', 'Dobson', '.', 'The', 'word', 'limit', 'prevents', 'me', 'from', 'continuing', 'the', 'list', '.', 'There', 'is', 'a', 'sequel', '(', 'which', 'I', 'lost', 'all', 'interest', 'in', 'watching', 'after', 'this', 'nonsense', ')', 'and', 'I', 'wonder', 'if', 'the', 'changes', 'were', 'made', 'to', 'create', 'the', 'follow', 'on', 'story', '.', 'It', 'is', 'difficult', 'to', 'image', 'that', 'Rosamunde', 'Pilcher', 'would', 'have', 'approved', 'this', 'grotesque', 'perversion', 'of', 'her', 'book', ';', 'presumably', 'she', 'lost', 'her', 'control', 'when', 'the', 'rights', 'were', 'purchased', '.'], ['...', 'am', 'i', 'missing', 'something', 'here', '?', '?', '?', '``', 'unexpected', 'plot', 'developments', \"''\", '?', '``', 'plot', 'twisting', 'with', 'subversive', 'glee', \"''\", '?', 'are', 'these', 'viewers', 'watching', 'the', 'same', 'Arquette', 'vehicle', 'to', 'which', 'i', 'just', 'subjected', 'myself', '(', 'in', 'an', 'now-obvious', 'sub', '(', 'un', ')', 'conscious', 'bout', 'of', 'sadomasochism', ')', '...', 'I', 'just', 'joined', 'this', 'site', 'simply', 'to', 'make', 'sure', 'that', 'no', 'one', 'else', 'ever', 'rents', 'this', 'stinker', '...', 'this', 'movie', 'was', 'an', 'embarrassment', 'to', 'every', 'single', 'person', 'involved', '...', 'quick', 'question', ':', 'did', 'Sir', 'Stevie', 'read', 'the', 'script', 'before', 'he', 'gave', 'the', 'thumbs-up', 'to', 'Kate', 'C.', '?', 'if', 'so', ',', 'then', 'it', 'must', 'be', 'the', 'same', 'Spielberg', 'who', 'greenlighted', '``', 'howard', 'the', 'duck', \"''\", '...', 'do', \"n't\", 'give', 'me', 'that', ',', '``', 'it', 'was', 'a', 'hit', 'play', \"''\", 'crap', '--', 'i', \"'m\", 'guessing', 'Mssr', '.', 'Reddin', 'ai', \"n't\", 'too', 'pleased', '...', 'the', 'DVD', 'cover', 'promised', '``', 'surprising', 'corners', \"''\", 'and', 'a', '``', 'twisted', 'story', '...', \"''\", 'Story', '!', '!', 'Story', '?', '?', 'It', \"'s\", 'crap', 'like', 'this', 'that', 'make', 'old', 'Bobby', 'McKee', 'and', 'his', 'wandering', 'band', 'of', 'Structuralists', 'sound', 'like', 'geniuses', '...', 'Sundance', '?', '?', 'Berlin', '?', '?', 'Toronto', '?', '?', 'I', 'have', 'a', 'home', 'video', 'of', 'my', 'cat', 'farting', 'that', 'evokes', 'more', 'interest', 'than', 'Arquette', \"'s\", 'negatively-dimensional', 'portrayal', 'of', 'anguished', 'loss', '...', 'and', ',', 'talk', 'about', 'deux', 'ex', 'machina', 'for', 'Mr.', 'Stanley', 'T.', ';', 'thank', 'god', ',', 'just', 'in', 'the', 'nick', 'o', 'time', 'he', 'thought', 'to', 'have', 'Dave', 'call', 'the', 'cops', '!', 'and', 'thank', 'shiva', 'that', 'the', 'cops', 'had', 'just', 'caught', 'the', 'true', 'killer', '...', 'what', '!', '!', '!', 'up', 'until', 'the', 'credits', 'i', 'was', 'still', 'waiting', 'for', 'it', 'to', 'be', 'some', 'kind', 'of', 'grift', 'against', 'Arquette', 'and', 'his', '``', 'hidden', 'millions', \"''\", '...', 'no', ',', 'Mrs.', 'Spielberg', ',', 'you', 'do', \"n't\", 'escape', 'unscathed', ':', 'what', 'the', 'hell', 'was', 'that', 'kitchen', 'scene', 'with', 'the', '``', 'athlete', \"'s\", 'foot', 'in', 'my', 'crotch', \"''\", 'gag', '?', '?', '?', 'are', 'you', 'worse', 'in', 'this', 'or', '``', 'just', 'cause', \"''\", '?', '?', 'i', 'dunno', '...', 'hey', 'film', 'lovers', ':', 'why', 'do', \"n't\", 'you', 'make', 'it', 'a', 'blockbuster', 'night', 'and', 'rent', 'this', 'along', 'with', '``', 'jersey', 'girl', \"''\", 'and', '``', 'white', 'chicks', \"''\", 'and', 'then', 'commit', 'sepukka', '(', 'or', 'is', 'it', 'seppuka', ')', '...', 'and', 'take', 'E.', 'Dunsky', 'with', 'you', '...', '.'], ['86', 'wasted', 'minutes', 'of', 'my', 'life', '.', 'I', 'fell', 'asleep', 'the', 'first', 'time', 'I', 'attempted', 'watching', 'it', ',', 'and', 'I', 'must', 'say', 'I', \"'m\", 'not', 'one', 'to', 'ever', 'fall', 'asleep', 'in', 'the', 'cinema', '.', 'I', 'have', 'never', 'seen', 'such', 'a', 'pointless', 'plot', 'acted', 'in', 'such', 'a', 'stilted', 'and', 'forced', 'manner', ',', 'and', 'can', 'only', 'surmise', 'that', 'the', 'actors', 'were', 'as', 'hard-up', 'as', 'the', 'protagonist', 'writer', 'allegedly', 'was', 'in', 'the', 'film', 'itself', '.', 'Everything', 'in', 'this', 'dire', 'adaptation', 'is', 'overacted', '.', 'And', 'if', 'it', 'is', \"n't\", 'the', 'wooden', 'acting', ',', 'almost', 'as', 'though', 'you', 'can', 'see', 'the', 'teleprompter', ',', 'then', 'the', 'set', 'itself', ',', 'which', 'is', 'overlit', 'and', 'interfering', 'in', 'utterly', 'unnecessary', 'ways', ',', 'and', 'overdressed', 'to', 'an', 'unimaginable', 'extent', ',', 'is', 'enough', 'to', 'put', 'you', 'off', 'the', 'entire', 'farce', '.', 'As', 'to', 'the', 'supposed', 'shock', 'of', 'a', 'detective', 'under', 'disguise', ',', 'any', 'person', 'who', 'does', 'not', 'see', 'that', '-', 'as', 'well', 'as', 'the', 'entire', 'rest', 'of', 'this', 'ludicrous', 'plot', '-', 'telegraphed', 'light', 'years', 'in', 'advance', ',', 'should', 'check', 'their', 'eyesight', 'immediately', '.', 'Bad', 'acting', ',', 'and', 'from', 'two', 'very', 'decent', 'actors', ',', 'coupled', 'with', 'the', 'hyper-coddled', 'Branagh', 'trademark', 'overdirection', ',', 'is', 'enough', 'to', 'make', 'you', 'want', 'to', 'use', 'real', 'bullets', 'rather', 'than', 'blanks', 'yourself', '.', 'On', 'top', 'of', 'it', 'all', ',', 'there', 'is', 'a', 'completely', 'risible', 'undertone', 'of', 'homoerotica', 'in', 'this', ',', 'heightened', 'towards', 'the', 'end', 'of', 'it', '.', 'All', 'I', 'can', 'hope', 'for', 'is', 'that', 'this', 'was', 'such', 'a', 'flop', 'that', 'people', 'sha', \"n't\", 'try', 'to', 'emulate', 'this', 'level', 'of', 'cinema', 'ever', 'again', '.'], ['Despite', 'what', 'a', 'lot', 'of', 'other', 'people', 'thought', 'about', 'the', 'first', 'movie', ',', 'I', 'really', 'liked', 'it', '.', 'This', 'one', 'however', '.', 'How', 'to', 'sum', 'it', 'up', 'in', 'one', 'word', '?', ':', 'This', 'movie', 'is', '(', 'and', 'here', 'comes', 'the', 'word', ')', ':', 'CRAP', '!', 'But', 'let', \"'s\", 'look', 'at', 'it', 'part', 'by', 'part', ':', 'Here', 'is', 'the', 'plot', ':', 'Finally', 'the', 'old', 'queen', 'has', 'been', 'removed', 'from', 'her', 'castle', ',', 'but', 'her', 'successor', ':', 'Snow', 'white', 'has', 'problems', 'of', 'another', 'sort', ':', 'The', 'Court-Jester', ',', 'Father', 'of', 'her', 'son', ',', 'has', 'gone', 'astray', ',', 'as', 'the', 'super', ',', 'Spliss', ',', 'goes', 'to', 'the', 'extreme', ',', 'to', 'battle', 'his', 'gray', 'hair', 'and', 'sells', 'the', 'royal', 'offspring', 'for', 'some', 'blond', 'and', 'full', 'hair', '.', 'In', 'her', 'desperation', 'Snow', 'white', 'seeks', 'the', 'help', 'of', 'Bubi', '(', 'Otto', 'Walkees', ')', ',', 'who', 'must', 'first', 'find', 'his', 'other', 'six', 'dwarf', 'companions', 'and', 'then', 'try', 'to', 'find', 'the', 'royal', 'offspring', 'or', 'at', 'least', 'try', 'to', 'find', 'the', 'name', 'of', 'Rumpelstiltskin', '.', 'The', 'whole', 'plot', 'seems', 'to', 'have', 'been', 'written', 'on', 'a', 'weekend', ',', 'where', 'the', 'writers', 'were', 'very', 'drunk', 'but', 'were', 'just', 'under', 'pressure', 'from', 'the', 'studio', 'to', 'write', 'the', 'screenplay', '.', 'Yes', ',', 'there', 'are', 'some', 'good', 'jokes', '.', 'Even', 'for', 'fans', 'of', 'the', 'first', 'part', ',', 'or', 'for', 'fans', 'of', 'any', 'of', 'the', 'other', 'actors', ',', 'it', \"'s\", 'really', 'not', 'worth', 'buying', 'the', 'the', 'DVD', '.', 'Believe', 'me', '.', 'The', 'only', 'thing', ',', 'that', 'at', 'least', 'kind', 'of', 'saves', 'the', 'movie', 'from', 'complete', 'oblivion', ',', 'are', 'the', 'performances', 'of', 'some', 'of', 'the', 'actors', '.', 'That', \"'s\", 'why', 'I', 'gave', 'the', 'move', '3/10', '.', 'Sadly', ',', 'the', 'script', 'is', 'so', 'bad', 'that', 'none', 'of', 'the', 'actors', 'or', 'all', 'of', 'them', 'combined', 'can', 'make', 'up', 'for', 'the', 'bad', 'story', '.', 'For', 'example', ',', 'at', 'one', 'point', ',', 'they', 'even', 'cross', 'over', 'in', 'our', 'reality', ',', 'and', 'sadly..', 'they', 'do', \"n't\", 'do', 'anything', 'funny', 'while', 'being', 'here', '.', 'Still', ',', 'a', 'lot', 'of', 'great', 'actors', 'in', 'this', 'movie', ':', 'Otto', 'Waalkes', ',', 'Ralf', 'Schmitz', ',', 'Martin', 'Schneider', ',', 'Nina', 'Hagen', ',', 'Cosma', 'Shiva', 'Hagen', ',', '(', 'Especially', 'funny', ')', ':', 'Rüdiger', 'Hoffmann', 'as', 'the', 'mirror', ',', 'Helge', 'Schneider', 'and', 'many', 'more', 'but', 'sadly', 'all', 'these', 'comedians', 'are', \"n't\", 'able', 'to', 'bring', 'this', 'really', 'bad', 'script', 'to', 'life', '.', 'Maybe', 'it', 'is', 'a', 'treat', 'for', 'some', 'hardcore', 'fans', 'but', 'for', 'regular', 'movie', 'goers', 'or', 'by', 'now', 'DVD', 'Renters', 'or', 'buyers', 'it', \"'s\", 'not', 'worth', 'the', 'money', '.', 'I', 'even', 'regret', 'renting', 'the', 'movie', '.'], ['I', 'do', \"n't\", 'normally', 'feel', 'much', 'of', 'an', 'incentive', 'to', 'comment', 'on', 'films', 'I', 'do', \"n't\", 'like', ',', 'but', 'in', 'a', 'case', 'like', 'this', 'one', ',', 'I', 'just', 'have', 'to', 'say', 'something', '.', 'This', 'movie', 'is', 'terrible', ',', 'illogical', ',', 'and', 'stupid', '.', 'There', 'are', 'so', 'many', 'flaws', 'in', 'the', 'storytelling', 'that', 'I', 'do', \"n't\", 'even', 'feel', 'obliged', 'to', 'elaborate', 'on', 'because', 'it', \"'s\", 'time', 'for', 'me', 'to', 'move', 'on', 'from', 'this', 'experience', '.', 'The', 'most', 'annoying', 'point', 'is', ',', 'however', ',', 'that', 'at', 'no', 'point', 'in', 'the', 'film', 'does', 'anyone', 'explain', 'whether', 'the', 'motivations', 'for', 'Bacon', \"'s\", 'character', \"'s\", 'madness', 'are', 'due', 'to', 'a', 'power', 'trip', 'or', 'a', 'physiological', 'reaction', 'to', 'his', 'condition', '.', 'Granted', 'the', 'special', 'effects', 'are', 'impressive', ',', 'and', 'in', 'the', 'past', 'Paul', 'Verhoeven', 'has', 'done', 'some', 'good', 'stuff', '(', 'the', 'director', \"'s\", 'cut', 'of', 'Robocop', 'on', 'DVD', 'is', 'great', ')', '.', 'However', ',', 'this', 'movie', 'is', 'stupid', 'and', 'generally', 'does', \"n't\", 'come', 'near', 'to', 'explaining', 'the', 'point', 'or', 'technical', 'aspect', 'of', 'the', 'subject', 'matter', ',', 'and', 'instead', 'settles', 'for', 'predictable', 'action', 'without', 'any', 'enjoyment', '.', 'In', 'short', ',', 'as', 'many', 'other', 'reviews', 'here', 'say', '(', 'wish', 'I', 'had', 'read', 'them', 'before', '...', ')', '-', 'Stay', 'away', 'from', 'this', 'film', '!'], ['I', ',', 'too', ',', 'was', 'fooled', 'by', 'the', 'packaging', '.', 'I', ',', 'too', ',', 'fell', 'for', 'the', 'gory', 'packaging', 'and', 'the', 'DVD', 'casing', 'that', 'claims', '``', 'grieved', 'fans', 'as', 'every', 'copy', 'was', 'pulled', 'from', 'shelves', \"''\", '.', 'Though', 'it', 'was', 'inexpensive', '(', '$', '6.99', ')', ',', 'it', 'was', \"n't\", 'really', 'all', 'that', 'worth', 'it', '-', 'no', 'scares', ',', 'and', 'very', 'limited', 'gore', '.', 'The', 'ending', 'was', 'very', 'cheesy', 'and', 'did', \"n't\", 'deliver', 'the', 'punch', 'it', 'should', 'have', '.', 'I', 'really', 'do', \"n't\", 'even', 'know', 'how', 'it', 'became', 'a', '``', 'Video', 'Nasty', \"''\", 'with', 'how', 'very', 'tame', 'it', 'is', '.', 'The', 'story', 'drags', ',', 'the', 'characters', 'are', 'obvious', 'amateur', 'actors', '...', 'it', 'does', \"n't\", 'live', 'up', 'to', 'the', 'promise', '.', 'The', 'DVD', 'bonus', 'feature', '(', 'the', '``', 'interview', \"''\", ')', 'is', 'very', 'strange', 'as', 'the', 'director', 'appears', 'very', 'incoherent', 'and', 'not', 'all', 'there', '.', 'The', 'lead', 'actress', 'talks', 'like', 'she', \"'s\", 'appearing', 'in', 'a', 'Shakespearean', 'production', '.', 'It', \"'s\", 'a', 'great', 'laugh', '.'], ['One', 'would', 'expect', 'a', 'movie', 'with', 'a', 'famous', 'comedian', 'in', 'the', 'lead', 'role', ',', 'to', 'be', 'a', 'funny', 'movie', '.', 'This', 'is', 'not', 'the', 'case', 'here', '.', 'I', 'laughed', 'out', 'loud', 'once', 'throughout', 'the', 'whole', 'movie', ',', 'and', 'that', 'was', \"n't\", 'even', 'during', 'the', 'final', 'comedy-scene', '(', 'which', 'one', 'would', 'also', 'expect', 'to', 'be', 'the', 'funniest', ')', '.', 'This', 'is', 'one', 'you', 'can', 'watch', 'when', 'it', 'comes', 'to', 'TV', ',', 'do', \"n't\", 'spend', 'any', 'other', 'money', 'renting', 'it', '.'], ['Funny', 'how', 'many', 'of', 'the', 'people', 'who', 'say', 'this', 'is', 'far', 'superior', 'to', 'Romero', \"'s\", 'version', 'tend', 'to', 'be', 'very', 'young', '(', 'judging', 'by', 'their', 'other', 'posts', ')', '.', 'What', 'we', 'have', 'here', 'is', 'a', 'slick', ',', 'action', 'packed', ',', 'gory', 'and', '``', 'Whoopee', \"''\", 'filled', '2', 'hour', 'MTV', 'video', '.', 'Frantic', 'editing', ',', 'pop-video', 'camera', 'work', ',', '``', 'cool', \"''\", 'music', 'blah', 'blah', 'blah', 'Actually', 'it', 'ai', \"n't\", 'bad', 'compared', 'to', 'other', 'recent', 'remakes', '(', 'Chainsaw', 'Massacre', 'was', 'a', 'total', 'disaster', ')', '...', 'pretty', 'good', 'acting', 'all', 'round', ',', 'totally', 'predictable', 'in', 'the', '``', 'who', 'will', 'die', 'next', \"''\", 'stakes', 'and', 'a', 'total', 'cash', 'in', 'on', 'the', 'Dawn', 'Of', 'The', 'Dead', 'name', 'that', 'will', 'generate', 'plenty', 'of', 'revenue', 'alone', 'by', 'fans', 'of', 'the', 'original', 'who', 'will', 'go', 'and', 'see', 'it', 'out', 'of', 'curiosity', '...', 'Do', \"n't\", 'remakes', 'of', 'classics', 'get', 'on', 'your', 'nerves', '?', 'Can', 'they', 'REALLY', 'not', 'come', 'up', 'with', 'something', 'original', '?', 'Why', 'remake', 'Dawn', 'Of', 'The', 'Dead', '?', 'The', 'things', 'that', 'made', 'the', 'original', 'special', '(', 'the', 'middle', 'segment', 'kids', 'think', 'is', 'so', 'boring', 'is', 'supposed', 'to', 'be', 'slow', 'to', 'show', 'how', 'when', 'you', 'get', 'everything', 'you', 'ever', 'wanted', 'you', 'still', 'ai', \"n't\", 'happy', ')', 'are', 'totally', 'missing', '.', 'This', 'is', 'an', 'action', 'flick', ',', 'plain', 'and', 'simple', '.', 'The', 'faster', 'the', 'better', '.', 'If', 'you', 'are', 'into', 'action', 'flicks', '(', 'and', 'as', 'this', ',', 'the', '2004', 'version', 'is', 'well', 'done', ')', 'fair', 'enough', ',', 'but', 'for', 'anyone', 'who', 'likes', 'a', 'little', 'substance', 'to', 'their', 'films', '...', 'get', 'ready', 'to', 'sigh', '(', 'again', ')', '...', 'Watch', 'the', 'cinemas', 'over', 'the', 'next', 'few', 'years', 'as', 'we', 'get', 'The', 'Godfather', 'series', 'remade', 'by', 'whoever', 'the', 'most', 'fashionable', 'Pop', 'director', 'is', 'at', 'the', 'moment', ',', 'and', 'Star', 'Wars', 'remade', ',', 'with', 'all', 'the', 'kids', 'saying', 'how', 'the', 'new', 'version', 'is', 'miles', 'better', 'cos', 'the', 'old', 'version', 'is', 'slow', 'and', 'boring', 'and', 'holds', 'a', 'camera', 'shot', 'for', 'more', 'than', '5', 'seconds', '...', 'Not', 'bad', ',', 'but', 'in', '10', 'years', 'they', 'will', 'still', 'be', 'discussing', 'the', 'Romero', 'version', ',', 'not', 'this', 'pap'], ['Four', 'years', 'after', 'making', 'his', 'directorial', 'debut', 'with', 'the', 'art-house', 'snoozer', '``', 'Welcome', 'To', 'L.A.', \"''\", ',', 'Alan', 'Rudolph', 'shows', 'us', 'what', 'he', 'really', 'wanted', 'from', 'Hollywood', 'was', 'to', 'be', 'one', 'of', 'the', 'guys', '.', '``', 'Roadie', \"''\", 'is', 'a', 'frat-boy', 'fracas', 'complete', 'with', 'barroom', 'brawls', ',', 'horny', 'harpies', ',', 'Art', 'Carney', 'in', 'a', 'souped-up', 'wheelchair', '...', 'and', 'Meat', 'Loaf', 'at', 'the', 'wheel', '.', 'Meat', 'Loaf', '(', 'playing', 'Travis', 'W', '.', 'Redfish', '!', ')', 'is', 'actually', 'a', 'rather', 'charming', 'presence', 'on', 'the', 'screen', ',', 'and', 'perhaps', 'in', 'a', 'smaller', 'role', '(', 'in', 'a', 'better', 'movie', ')', 'he', 'might', 'indeed', 'be', 'ingratiating', ',', 'but', 'Zalman', 'King', \"'s\", 'script', 'is', 'full', 'of', 'stereotypical', 'redneck', 'humor', 'and', 'helpless', 'Meat', 'Loaf', 'is', 'kept', 'wide-eyed', 'and', 'moronic', '.', 'Alice', 'Cooper', ',', 'Roy', 'Orbison', ',', 'Hank', 'Williams', ',', 'Jr.', ',', 'and', 'Blondie', 'all', 'make', 'appearances', '--', 'and', 'all', 'look', 'embarrassed', '.', 'They', 'certainly', 'should', ',', '``', 'Roadie', \"''\", 'is', 'one', 'bad', 'trip', '.', 'NO', 'STARS', 'from', '****'], ['The', 'story', 'of', 'a', 'woman', '(', 'Ann', ')', 'on', 'her', 'death', 'bed', ',', 'her', 'two', 'daughters', '(', 'Nina', 'and', 'Constance', ')', 'and', 'her', 'thoughts', 'about', 'her', 'past', '.', 'The', 'flashbacks', 'are', 'concerning', 'a', 'weekend', 'where', 'young', 'Ann', 'is', 'in', 'the', 'wedding', 'of', 'her', 'friend', 'Lila', '.', 'At', 'the', 'wedding', 'she', 'meets', 'Harris', 'who', 'will', 'impact', 'her', 'for', 'the', 'rest', 'of', 'her', 'life', '.', 'Through', 'all', 'the', 'ups', 'and', 'downs', 'of', 'her', 'professional', 'and', 'family', 'life', 'she', 'remembers', 'him', 'as', 'her', 'true', 'love', '.', 'Her', 'daughter', 'Constance', 'is', 'older', ',', 'more', '``', 'responsible', ',', \"''\", 'a', 'mother', 'of', 'two', 'and', 'has', 'things', 'together', '.', 'Nina', 'jumps', 'from', 'boyfriend', 'to', 'boyfriend', 'and', 'job', 'to', 'job', 'and', 'is', 'unsure', 'of', 'her', 'direction', 'in', 'life', '.', 'First', 'of', 'all', 'the', 'good', '.', 'The', 'period', 'detail', 'in', 'the', 'movie', 'is', 'great', '.', 'The', 'dresses', ',', 'hair', ',', 'cars', ',', 'houses', ',', 'etc', '.', 'really', 'put', 'you', 'in', 'another', 'time', 'and', 'place', '.', 'And', 'there', 'is', 'some', 'very', 'quality', 'acting', 'in', 'the', 'movie', '.', 'Vanessa', 'Redgrave', 'is', 'quite', 'good', 'at', 'portraying', 'the', 'main', 'character', 'and', 'her', 'fragile', 'mental', 'state', 'as', 'her', 'life', 'comes', 'to', 'an', 'end', '.', 'Claire', 'Danes', 'is', 'beautiful', 'and', 'does', 'a', 'great', 'job', 'as', 'the', 'main', 'character', 'when', 'she', 'was', 'young', '(', 'and', 'she', 'is', 'an', 'outstanding', 'singer', ')', '.', 'Hugh', 'Dancy', 'brought', 'a', 'lot', 'of', 'life', 'to', 'the', 'character', 'of', 'Lila', \"'s\", 'brother', 'Buddy', '.', 'Now', 'for', 'the', 'bad', ',', 'which', 'unfortunately', 'is', 'everything', 'else', '.', 'Things', 'constantly', 'disrupt', 'the', 'story', 'as', 'it', 'is', 'being', 'unfolded', 'for', 'us', '.', 'The', 'chemistry', 'between', 'young', 'Ann', 'and', 'Buddy', 'is', 'great', '.', 'They', 'have', 'fun', 'and', 'dance', '.', 'Then', '...', 'you', 'are', 'supposed', 'to', 'believe', 'that', 'she', 'does', \"n't\", 'really', 'like', 'him', 'more', 'than', 'a', 'friend', 'and', 'that', 'his', 'pining', 'only', 'annoys', 'her', '.', 'And', 'I', 'thought', 'the', 'whole', ',', '``', 'he', 'might', 'be', 'gay', \"''\", 'thing', 'was', 'out', 'of', 'the', 'blue', 'and', 'did', \"n't\", 'serve', 'a', 'purpose', '.', 'Then', 'we', 'have', 'Harris', '.', 'The', 'character', 'acts', 'wooden', 'and', 'creepy', '.', 'Had', 'this', 'been', 'another', 'genre', ',', 'you', 'would', 'have', 'known', 'that', 'Harris', 'was', 'the', 'serial', 'killer', 'from', 'the', 'get', 'go', '.', 'It', 'is', 'an', 'unbelievable', 'stretch', 'to', 'think', 'that', 'all', 'these', 'girls', 'loved', 'him', 'so', '(', 'but', 'they', 'do', 'portray', 'the', 'other', 'guys', 'as', 'pretty', 'lame', 'to', 'try', 'and', 'help', 'him', 'out', ')', '.', 'And', 'the', 'grandest', 'problem', 'of', 'all', '.', 'Why', 'do', \"n't\", 'Ann', 'and', 'Harris', 'get', 'together', '?', 'They', 'fall', 'for', 'each', 'other', '.', 'They', 'have', 'this', 'great', 'night', 'of', 'sex', 'in', 'an', 'old', 'dirty', 'gardener', \"'s\", 'shack', ',', 'come', 'home', 'to', 'find', 'out', 'about', 'Buddy', \"'s\", 'tragic', 'end', 'and', 'then', '...', 'Nothing', '.', 'They', 'meet', 'up', 'a', 'few', 'years', 'later', 'and', 'get', 'all', 'misty', 'eyed', 'about', 'each', 'other', 'and', 'I', 'could', \"n't\", 'help', 'but', 'wondering', 'why', '.', 'WHY', '?', 'The', 'movie', 'does', \"n't\", 'let', 'you', 'know', 'why', 'they', 'were', 'forced', 'to', 'marry', 'other', 'people', 'and', 'so', 'I', 'had', 'a', 'hard', 'time', 'feeling', 'sorry', 'for', 'them', '.', 'The', 'part', 'of', 'the', 'story', 'in', 'the', 'present', 'is', 'fairly', 'boring', '.', 'The', 'cliché', 'good', 'daughter', 'and', 'the', 'cliché', 'bad', 'daughter', '.', 'Nina', 'changes', 'over', 'the', 'course', 'of', 'the', 'movie', 'but', 'I', 'am', 'not', 'sure', 'why', '.', 'I', \"'m\", 'not', 'sure', 'what', 'convinces', 'her', 'to', 'change', 'her', 'life', '.', 'There', 'is', 'a', '``', 'touching', \"''\", 'scene', 'where', 'the', 'daughters', 'are', 'connecting', 'that', 'coincides', 'with', 'old', 'Ann', 'dreaming', 'she', \"'s\", 'chasing', 'a', 'butterfly', '.', 'It', 'is', 'really', 'lame', 'and', 'embarrassing', '.', '``', 'There', 'are', 'no', 'mistakes', \"''\", ',', 'Ann', 'advises', 'at', 'us', '.', 'The', 'statement', 'does', \"n't\", 'ring', 'true', 'with', 'the', 'story', '.', 'And', 'it', 'does', \"n't\", 'ring', 'true', 'after', 'seeing', 'the', 'movie', 'and', 'wishing', 'they', 'had', \"n't\", 'wasted', 'the', 'talent', 'of', 'such', 'good', 'actors', '.'], ['Why', 'such', 'a', 'generic', 'title', '?', 'Santa', 'Claus', '?', '?', '?', 'So', 'bland', 'and', 'unpredictable', '.', 'Movies', 'before', 'that', 'tried', 'to', 'cash', 'in', 'on', 'the', 'holiday', 'spirit', ',', 'most', 'notably', \"'Santa\", 'Claus', 'Conquers', 'the', 'Martians', \"'\", ',', 'at', 'least', 'was', 'entertaining', 'to', 'watch', 'because', 'of', 'the', 'campiness', 'to', 'it', ',', 'and', 'all', 'the', 'stock', 'footage', 'being', 'used', '...', 'for', 'some', 'reason', ',', 'that', 'seemed', 'happy', 'to', 'me', '.', 'But', 'this', 'movie', 'just', 'screws', 'Christmas', 'in', 'the', 'butt', ',', 'and', 'screws', 'the', 'joy', 'of', 'all', 'the', 'kids', '.', 'Santa', 'lives', 'in', 'space', '?', 'His', 'enemy', 'is', 'a', 'devil', 'named', 'Pitch', '?', 'Santa', 'gets', 'help', 'from', 'Merlin', 'the', 'Magician', '?', 'How', 'random', 'is', 'this', '!', '?', 'Well', ',', 'since', 'it', 'was', 'made', 'in', 'Mexico', 'then', 'some', 'of', 'you', 'might', 'understand', 'the', 'way', 'of', 'how', 'the', 'film', 'was', 'made', '.', 'I', 'had', 'to', 'admit', 'some', 'of', 'the', 'effects', 'were', 'just', 'wacky', 'for', 'the', 'time', '.', 'It', 'was', 'a', 'all-out', 'cluster', 'of', 'madness', '!', 'Though', ',', 'despite', 'all', 'the', 'troubles', 'with', 'the', 'movie', ',', 'it', 'still', 'feels', 'like', 'a', 'Christmas', 'movie', '.', 'Good', 'conquers', 'evil', ',', 'and', 'Christmas', 'still', 'plays', 'a', 'part', 'of', 'our', 'hearts', 'of', 'every', 'good', 'girl', 'or', 'boy', 'in', 'the', 'world', ',', 'or', 'possibly', 'universe', ',', 'thanks', 'to', 'Santa', 'Claus', 'Conquers', 'the', 'Martians..', 'apparently', '.', 'So', ',', 'I', 'think', 'you', 'should', 'give', 'it', 'a', 'try', ',', 'even', 'if', 'it', 'is', 'one', 'of', 'the', 'worst', 'holiday', 'movies', 'of', 'all', 'time', '...', 'though', 'it', 'should', 'put', 'a', 'smile', 'on', 'your', 'face', 'any', 'day', '.'], ['Usually', ',', 'any', 'film', 'with', 'Sylvester', 'Stallone', 'is', 'usually', 'going', 'to', 'suck', 'ass', '.', 'Rambo', ':', 'First', 'Blood', 'Part', 'II', 'was', 'no', 'exception', 'to', 'this', '.', 'The', 'only', 'movies', 'that', 'Sylvester', 'Stallone', 'were', 'in', 'that', 'were', 'good', 'were', 'Rocky', 'and', 'First', 'Blood', '.', 'This', 'film', 'is', 'extreamly', 'unrealistic', ',', 'and', 'boring', '.', 'It', 'has', 'action', ',', 'but', 'not', 'very', 'good', 'action', '.', 'I', 'did', \"n't\", 'enjoy', 'watching', 'it', ',', 'and', 'I', 'would', 'never', 'ever', 'watch', 'this', 'again', '.', 'No', 'wonder', 'why', 'it', 'won', 'the', 'Razzie', 'Award', 'for', 'Worst', 'Picture', '.', 'I', 'would', 'give', 'this', 'a', '3/10', ',', 'the', 'only', 'reason', 'why', 'it', 'got', 'the', '3', 'was', 'because', 'it', 'had', 'somewhat', 'good', 'action', ',', 'but', 'not', 'good', 'enough', '.'], ['Four', 'porn', 'stars', 'romping', 'through', 'the', 'Irish', 'woods', 'sounds', 'like', 'a', 'film', 'to', 'watch', '.', 'We', 'have', 'Ginger', 'Lynn', 'Allen', ',', 'Chasey', 'Lain', ',', 'Taylor', 'Hayes', ',', 'and', 'Jenna', 'Jameson', 'all', 'together', 'in', 'one', 'film', '.', 'Are', 'you', 'licking', 'your', 'lips', '?', 'Well', 'the', 'mutant', 'creatures', 'who', 'resulted', 'from', 'centuries', 'of', 'inbreeding', 'were', 'certainly', 'licking', 'their', 'lips', 'as', 'they', 'feasted', 'on', 'the', 'entrails', 'of', 'their', 'victims', '.', 'Yes', ',', 'there', 'was', 'some', 'flesh', 'exposed', '-', 'far', 'too', 'little', 'considering', 'the', 'cast', '-', 'but', ',', 'it', 'was', 'soon', 'ripped', 'open', 'to', 'expose', 'dinner', 'for', 'these', 'creatures', '.', 'There', 'was', 'definitely', 'some', 'action', 'that', 'probably', 'has', 'not', 'been', 'seen', 'before', ',', 'and', 'more', 'than', 'one', 'person', 'lost', 'their', 'head', 'in', 'the', 'situation', '.', 'Unfortunately', ',', 'director', 'Christian', 'Viel', 'did', 'not', 'show', 'much', 'promise', 'and', 'I', 'am', 'not', 'likely', 'to', 'watch', 'his', 'later', 'efforts', '.'], ['Whoever', 'wrote', 'the', 'script', 'for', 'this', 'movie', 'does', 'not', 'deserve', 'to', 'work', 'in', 'Hollywood', 'at', 'all', '(', 'not', 'even', 'live', 'there', ')', ',', 'and', 'those', 'actors', 'need', 'to', 'find', 'another', 'job', '.', 'The', 'most', 'dreadful', 'hour', 'and', 'some', 'minutes', 'of', 'my', 'life', '...', 'and', 'I', 'only', 'kept', 'watching', 'to', 'see', 'if', 'it', 'would', 'get', 'better', 'which', ',', 'unfortunately', 'for', 'me', 'it', 'did', 'not', '.', 'Even', 'at', 'the', 'end', ',', 'the', 'credits', 'gave', 'me', 'anxiety', '.', 'I', 'guess', 'there', 'were', \"n't\", 'a', 'lot', 'of', 'people', 'behind', 'the', 'movie', 'so', 'they', 'had', 'to', 'roll', 'the', 'credits', 'slowly', '...', 'very', 'slowly', '.', 'This', 'movie', 'is', 'definitely', 'a', 'great', '``', 'How', 'Not', 'To', 'Make', 'a', 'Movie', \"''\", 'guide', '.', 'Too', 'bad', 'I', 'ca', \"n't\", 'give', 'a', '0', '.'], ['Did', 'anyone', 'else', 'feel', 'as', 'betrayed', 'as', 'I', 'did', '?', 'The', 'first', 'hour', 'or', 'so', 'was', 'pretty', 'solid', 'but', 'the', 'last', '.', 'Oh', 'my', 'god', '.', 'It', 'seemed', 'like', 'it', 'was', 'predictable', 'and', 'cheesy', '.', 'Not', 'grandiose', 'and', 'epic', 'like', 'the', 'entire', 'run', 'of', 'the', 'show', 'has', 'been', '.', 'Most', 'reviews', 'have', 'read', 'have', 'been', 'glowing', 'but', 'I', 'really', 'ca', \"n't\", 'understand', 'why', '.', 'I', 'had', 'seriously', 'predicted', 'that', 'general', 'ending', 'WAY', 'earlier', 'on', 'but', 'then', 'retracted', 'it', 'because', 'I', 'thought', '``', 'No', ',', 'they', 'would', 'never', 'do', 'that', ',', 'that', \"'s\", 'FAR', 'too', 'lame', '.', \"''\", 'I', 'can', 'hardly', 'stand', 'it', '.', 'I', 'feel', 'so', 'unsatisfied', '.', 'I', 'think', 'i', \"'m\", 'about', 'to', 'walk', 'out', 'the', 'door', 'to', 'go', 'sell', 'every', 'season', 'I', 'own', '.', 'Someone', 'please', '.', 'Change', 'my', 'mind', '.', 'I', 'want', 'to', 'love', 'this', '.', 'SO', 'bad', '.', 'Someone', 'tell', 'me', 'why', 'I', \"'m\", 'wrong', '.', 'Great', 'show', '.', 'Terrible', 'ending', '.'], ['Ohhh', 'the', 'brutality', ',', 'ohhhhh', 'the', 'dying', 'breed', ',', 'ohhhh', 'the', 'sense', 'of', 'loss', ',', 'ohhhh', 'the', 'prejudice', '!', 'Jeez', ',', 'when', 'are', 'all', 'you', 'whiney', 'revisionists', 'going', 'to', 'stop', 'analyzing', 'Westerns', 'for', 'crying', 'out', 'loud', '?', 'S**t', 'happens', '.', 'If', 'it', 'offends', 'your', 'socially', 'engineered', 'sensibilities', 'then', 'go', 'back', 'to', 'the', 'comfort', 'of', 'your', 'Meryl', 'Steep', 'collection', '.', 'Boring', ',', 'tedious', ',', 'and', 'very', 'tiresome', 'waste', 'of', 'celluloid-particularly', 'in', 'light', 'of', 'Coburn/Hackman/Bergen', \"'s\", 'presence', '.', 'Nothing', 'interesting', 'or', 'intriguing', 'here', ',', 'unless', 'you', 'are', 'obsessed', 'with', '19th', 'century', 'desert', 'dentisty', '.', 'May', 'have', 'been', 'a', 'little', 'better', 'without', 'the', 'constant', 'diversion', 'of', 'the', 'out-of-place', 'mexican', 'guy', 'with', 'the', 'bad', 'tooth', '.', 'A', 'monument', 'to', 'the', 'stupid', 'ultra-left', 'creeping', 'sensitivity', 'of', 'the', '60/70', \"'s\", '.', 'Virtually', 'impossible', 'to', 'sit', 'through', 'the', 'entire', 'film', '.', 'I', 'think', 'I', \"'d\", 'rather', 'have', 'my', 'eyes', 'stapled', 'open', 'for', 'the', 'entire', 'Lucky', 'Luke/Trinity', 'series', '.', '4', 'Horses/10-all', \"deader'n\", 'hell', '.'], ['I', 'just', 'watched', 'this', 'movie', 'last', 'night', ',', 'and', 'I', 'HAD', 'to', 'put', 'a', 'warning', 'out', 'for', 'anybody', 'else', 'considering', 'to', 'see', 'this', 'film', '.', 'In', 'a', 'word', '-', 'do', \"n't\", '.', 'I', 'seriously', 'feel', 'like', 'this', 'is', 'something', 'that', 'a', 'screenwriting', 'student', 'would', 'have', 'written', 'in', 'a', 'Quentin', 'Tarantino/Eddie', 'Murphy', 'phase', ',', 'i.e', '.', 'every', 'other', 'word', 'was', 'a', 'curse', 'word', '.', 'I', 'do', \"n't\", 'have', 'a', 'problem', 'with', 'profuse', 'cursing', ',', 'as', 'in', '``', 'Good', 'Will', 'Hunting', \"''\", ',', 'provided', 'it', 'helps', 'to', 'delve', 'more', 'into', 'the', 'characters', '.', 'In', 'this', 'case', 'it', 'was', 'just', 'hollow', 'banter', 'with', 'the', 'attempt', 'to', 'draw', 'an', 'occassional', '*gasp*', 'or', 'laughter', 'from', 'the', 'audience', '.', 'The', 'three', 'lead', 'characters', 'are', 'all', 'their', 'own', 'unique', 'stereotype', ',', 'the', 'wall', 'street', 'jerk', ',', 'the', 'coffee', 'house', 'jerk', ',', 'and', 'the', '``', \"I'm-Not-Gay-Just-In-Touch-With-My-Feminine-Side\", \"''\", 'slightly-less-of-a-jerk', '.', 'You', 'just', 'do', \"n't\", 'give', 'a', 'damn', 'about', 'any', 'of', 'them', '!', 'They', 'are', 'all', 'shallow', ',', 'unredemable', 'losers', 'who', 'you', 'WANT', 'to', 'see', 'lose', '.', 'For', 'those', 'who', 'dare', ',', 'this', 'film', 'does', 'have', 'a', 'couple', 'funny', 'moments', ',', 'the', 'very', 'beginning', ',', 'and', 'the', 'very', 'end', '.', 'The', 'toilet/vibrator', 'scene', 'is', 'funny', 'in', 'a', 'sick', 'kinda', '``', 'Uh', ',', 'yeah', \"''\", 'way', '.', 'Really', 'though', ',', 'I', 'would', 'only', 'recommend', 'this', 'film', 'to', 'my', 'worst', 'of', 'enemies', '.'], ['I', 'loved', '``', 'The', 'Curse', 'of', 'Frankenstein', \"''\", 'so', 'much', 'that', 'I', 'rushed', 'out', 'to', 'get', '``', 'Frankenstein', 'Must', 'Be', 'Destroyed', \"''\", 'to', 'see', 'Cushing', 'at', 'it', 'again', '...', 'even', 'if', 'it', 'was', 'without', 'Chistopher', 'Lee', 'this', 'time', '.', 'To', 'my', 'great', 'disappointment', ',', 'this', 'movie', 'not', 'only', 'does', 'without', 'Lee', ',', 'but', 'it', 'does', 'without', 'Frankenstein', \"'s\", 'Monster', 'altogether', '!', 'Was', 'it', 'a', 'case', 'of', '``', 'If', 'we', 'ca', \"n't\", 'get', 'Lee', ',', 'we', 'wo', \"n't\", 'have', 'a', 'monster', 'at', 'all', \"''\", '?', 'Why', 'would', 'they', 'do', 'that', '?', 'The', 'monster', 'is', 'half', 'the', 'fun', 'of', 'the', 'whole', 'thing', '!', '!', 'This', 'film', 'is', 'dedicated', 'solely', 'to', 'the', 'study', 'of', 'Baron', 'Frankenstein', 'and', 'his', 'quest', 'to', 'finish', 'experiments', 'he', 'had', 'begun', 'in', 'brain', 'transplants', 'before', 'ending', 'up', 'in', 'an', 'asylum', '.', 'I', 'found', 'the', 'script', 'extremely', 'weak', ',', 'with', 'the', 'need', 'to', 'suspend', 'disbelief', 'forced', 'upon', 'the', 'audience', 'a', 'little', 'too', 'much', '.', 'I', \"'m\", 'willing', 'to', 'suspend', 'a', 'fair', 'amount', ',', 'but', 'this', 'movie', 'got', 'fairly', 'ridiculous', ',', 'which', 'took', 'me', 'out', 'of', 'the', 'film', 'rather', 'than', 'immersing', 'me', 'in', 'it', '.', 'Peter', 'Cushing', ',', 'though', ',', 'is', 'absolutely', 'brilliant', 'playing', 'pure', 'evil', 'in', 'this', 'film', '.', 'For', 'being', 'one', 'of', 'the', 'most', 'beloved', 'actors', 'and', 'notoriously', 'sweet', 'men', ',', 'he', 'sure', 'could', 'play', 'menacing', 'and', 'malevolent', 'extremely', 'well', '.', 'The', 'supporting', 'cast', 'is', 'competent', ',', 'but', 'has', 'little', 'to', 'do', ',', 'even', 'the', 'young', 'doctor', 'and', 'his', 'fiancée', 'blackmailed', 'into', 'helping', 'Frankenstein', '.', 'A', 'bumbling', 'police', 'chief', 'is', 'introduced', ',', 'along', 'with', 'his', 'put-upon', 'sidekick', ',', 'to', 'generate', 'some', 'comic', 'relief', ',', 'then', 'they', 'are', 'completely', 'dropped', 'from', 'the', 'movie', '!', 'Why', '?', 'We', 'are', 'led', 'to', 'believe', 'that', 'the', 'police', 'chief', 'will', 'be', 'the', 'main', 'nemesis', 'of', 'the', 'Baron', ',', 'then', 'we', 'are', 'led', 'to', 'believe', 'it', 'will', 'be', 'the', 'young', 'doctor', ',', 'and', 'then', 'it', 'ends', 'up', 'being', 'the', 'victim', 'of', 'Frankenstein', \"'s\", 'brain', 'transplant', 'experiment', '.', 'There', 'was', 'no', 'tension', ',', 'we', 'were', \"n't\", 'invested', 'in', 'the', '``', 'creature', \"''\", ',', 'and', 'the', 'ending', 'was', 'left', 'so', 'ambiguous', 'as', 'to', 'leave', 'one', 'unsatisfied', 'because', 'it', 'is', 'so', 'clear', 'they', 'are', 'setting', 'up', 'another', 'sequel', '.', 'Also', ',', 'there', 'are', 'virtually', 'no', '``', 'horror', \"''\", 'elements', '.', 'Yes', ',', 'there', 'is', 'a', 'beheading', 'in', 'the', 'beginning', '(', 'off-camera', ')', ',', 'and', 'we', 'are', 'treated', 'to', 'the', 'sounds', 'of', 'Cushing', 'cutting', 'the', 'tops', 'of', 'two', 'men', \"'s\", 'skulls', 'off', '(', 'again', ',', 'off', 'camera', ')', ',', 'and', 'there', 'is', 'the', 'most', 'unsettling', 'and', 'thoroughly', 'unnecessary', 'rape', 'scene', '(', '90', '%', 'of', 'which', 'is', ',', 'again', ',', 'off-camera', ')', '.', 'I', 'understand', 'that', 'there', 'is', 'a', 'love', 'of', '``', 'letting', 'the', 'audience', 'imagine', 'it', 'all', ',', 'for', 'their', 'imaginations', 'are', 'far', 'worse', 'than', 'what', 'we', 'can', 'show', \"''\", ',', 'but', 'come', 'on', ',', 'if', 'you', \"'re\", 'not', 'going', 'to', 'give', 'us', 'a', 'Monster', ',', 'then', 'at', 'least', 'let', 'us', 'SEE', 'the', 'few', '``', 'horrific', \"''\", 'elements', 'you', 'do', 'choose', 'to', 'include', '.', 'Showing', 'us', 'a', 'skeleton', 'in', 'the', 'lab', 'lit', 'with', 'a', 'green', 'light', 'is', 'just', 'not', 'scary', '.', 'On', 'top', 'of', 'a', 'weak', 'script', ',', 'I', 'thought', 'the', 'directing', 'was', 'mostly', 'flat', '.', 'There', 'were', 'a', 'couple', 'of', 'nice', 'shots', ',', 'but', 'otherwise', 'no', 'excitement', ',', 'atmosphere', ',', 'or', 'suspense', 'was', 'generated', '.', 'The', 'same', 'director', 'did', '``', 'Curse', \"''\", 'back', 'in', '1958', 'and', 'I', 'thought', 'it', 'was', 'brilliantly', 'directed', '...', 'guess', 'he', 'was', 'as', 'uninspired', 'by', 'this', 'film', 'as', 'I', 'was', '.', 'The', 'movie', 'gets', 'a', '4', 'out', 'of', '10', 'from', 'me', 'strictly', 'for', 'Peter', 'Cushing', \"'s\", 'powerful', ',', 'nuanced', 'performance', '...', 'beyond', 'that', ',', 'I', 'found', 'little', 'in', 'this', 'movie', 'worth', 'recommending', '.', 'Instead', ',', 'my', 'suggestion', 'is', 'to', 'watch', '``', 'The', 'Curse', 'of', 'Frankenstein', \"''\", 'and', 'see', 'a', 'truly', 'great', 'Hammer', 'horror', 'film', '.'], ['Perhaps', 'it', \"'s\", 'because', 'I', 'am', 'so', 'in', 'love', 'with', 'the', 'William', 'Holden', '-', 'Kim', 'Novak', 'version', ',', 'or', 'because', 'I', \"'m\", 'not', 'a', \"Gen-X'er\", ',', 'but', 'this', 'was', 'absolutely', 'the', 'worst', 'remake', 'I', 'have', 'ever', 'seen', '.', 'Without', 'the', 'original', \"'s\", 'soundtrack', ',', 'it', 'just', 'seemed', 'like', 'another', 'typical', 'TV', 'movie', '...', 'yes', ',', 'about', 'as', 'bland', 'as', 'Kraft', 'cheese', '.'], ['i', 'love', 'bad', 'shark', 'movies', '.', 'i', 'really', 'do', '.', 'i', 'laugh', 'hysterically', 'at', 'them', '.', 'and', 'the', 'scifi', 'channel', 'was', 'having', 'a', 'marathon', 'of', 'them', ',', 'culminating', 'in', 'the', 'premier', 'of', 'their', 'new', 'original', 'picture', ',', 'hammerhead', ':', 'shark', 'frenzy', '.', 'based', 'on', 'the', 'previews', ',', 'it', 'looked', 'like', 'it', 'was', 'going', 'to', 'be', 'HIGHLY', 'amusing', '.', 'essentially', 'a', 'remake', 'of', 'benchley', \"'s\", 'creature', ',', 'really', '.', 'it', 'was', 'prefaced', 'by', 'a', 'showing', 'of', 'shark', 'attack', '3', ':', 'megalodon', ',', 'which', 'is', 'shark', 'movie', 'hilarity', 'at', 'its', 'best', '.', 'i', 'was', 'in', 'the', 'mood', ';', 'i', 'was', 'ready', 'to', 'go', '.', 'bring', 'it', 'on', ',', 'hammerhead-mad-scientist-man', '!', 'oh', ',', 'god', ',', 'was', 'that', 'movie', 'wrong', '.', 'wrong', ',', 'wrong', ',', 'wrong', '.', 'sick', '.', 'twisted', '.', 'MESSED', 'UP', '.', 'this', 'is', 'theoretical', 'reproduction', 'at', 'its', 'very', 'worst', ',', 'my', 'friends', '.', 'when', 'a', 'drugged-out', 'girl', 'is', 'brought', 'out', 'of', 'suspended', 'animation', 'and', 'strapped', 'to', 'a', 'table', 'screaming', 'her', 'head', 'off', 'because', 'the', 'shark-human', 'hybrid', 'fetus', 'the', 'absolutely', 'insane', '``', 'scientist', \"''\", 'deliberately', 'implanted', 'in', 'her', 'womb', 'wants', 'OUT', '...', 'Jesus', 'monkeys', '.', 'that', \"'s\", 'what', 'i', 'call', 'disturbing', '.', 'that', \"'s\", 'really', 'how', 'the', 'plot', 'works', ':', 'hmmm', ',', 'thought', 'the', 'mad', 'scientist', '.', 'my', 'son', 'died', 'of', 'cancer', ',', 'but', 'i', 'brought', 'him', 'back', 'to', 'life', 'by', 'combining', 'his', 'dna', 'with', 'that', 'of', 'a', 'hammerhead', 'shark', ',', 'because', 'sharks', 'do', \"n't\", 'succumb', 'to', 'cancer', 'and', 'further', 'hammerheads', 'reproduce', 'via', 'placenta', '.', 'oh', ',', 'look', '!', 'a', 'perfect', 'amphibious', 'being', '!', 'i', \"'ve\", 'created', 'the', 'next', 'evolution', 'of', 'the', 'human', 'race', '!', 'I', 'KNOW', '!', 'let', \"'s\", 'make', 'him', 'reproduce', '!', 'but', 'darned', 'if', 'all', 'those', 'shark', 'genes', \"have't\", 'made', 'my', 'son', 'bloodthirsty', ';', 'instead', 'of', 'raping', 'the', 'hot', 'babes', 'i', 'keep', 'sending', 'into', 'his', 'little', 'jungle', 'paradise', ',', 'he', 'keeps', 'eating', 'him', '.', 'but', 'check', 'this', 'out', '!', 'among', 'the', 'random', 'people', 'who', 'have', ',', 'by', 'way', 'of', 'some', 'unimportant', 'plot', 'twist', ',', 'ended', 'up', 'on', 'my', 'research', 'island', ',', 'is', 'the', 'woman', 'to', 'whom', 'my', 'son', 'was', 'engaged', 'before', 'he', 'died', '!', 'i', 'bet', 'he', \"'ll\", 'do', 'HER', '!', 'all', 'this', 'leads', 'up', 'to', 'an', 'extremely', 'touching', 'and', 'heartfelt', 'reunion', ':', 'woman', ':', 'you', \"'re\", 'going', 'to', 'impregnate', 'me', '?', 'mad', 'scientist', ':', 'no', '.', 'he', 'is', '.', '(', 'indicates', 'thrashing', 'shark-person', 'in', 'tank', ')', 'how', 'sweet', '.', 'DO', 'NOT', 'WATCH', 'THIS', 'MOVIE', '.', 'ever', '.'], ['I', 'thought', 'that', 'this', 'movie', 'was', 'pretty', 'lame', '.', 'If', 'you', \"'re\", 'looking', 'for', 'cheesey', ',', 'you', 'may', 'like', 'this', '.', 'I', ',', 'myself', ',', 'do', \"n't\", 'mind', 'a', 'fair', 'amount', 'of', 'cheese', ',', 'but', 'this', 'was', 'ridiculous', '.', 'The', 'progression', 'of', 'the', 'movie', 'bored', 'me', 'and', 'the', 'storyline', 'was', 'very', 'weak', '.', 'The', 'only', 'thing', 'entertaining', 'about', 'this', 'movie', 'was', 'the', 'day-glo', 'zombies', ',', 'but', 'even', 'that', 'is', \"n't\", 'reason', 'enough', 'to', 'see', 'this', 'flick', '.'], ['I', 'will', 'probably', 'always', 'go', 'to', 'see', 'a', 'Woody', 'Alleb', 'movie', ',', 'as', 'one', 'never', 'knows', 'when', 'he', 'just', 'might', 'make', 'a', 'real', 'return', 'to', 'his', 'past', 'greatness', '.', 'Just', 'one', 'or', 'two', 'great', 'moments', 'or', 'lines', 'could', 'make', 'it', 'worthwhile', '.', 'sadly', 'however', 'this', 'film', 'just', \"does'nt\", 'make', 'it', 'on', 'any', 'score', '.', 'Saying', 'thar', 'actually', 'makes', 'me', 'sad', 'and', 'even', 'a', 'little', 'guilty', '.', 'I', \"'m\", 'sure', 'my', 'reaction', 'is', 'much', 'like', 'a', 'lot', 'of', 'other', 'fans', 'of', 'Woody', ',', 'but', 'what', 'can', 'one', 'say', '?', 'It', \"'s\", 'probably', 'time', 'for', 'him', 'to', 'concentrate', 'on', 'his', 'Clarinett', ',', 'which', 'in', 'my', 'opinion', ',', 'he', 'is', 'rather', 'quite', 'good', '.', 'Saying', 'all', 'of', 'this', ',', 'I', \"'ll\", 'still', 'probably', 'go', 'to', 'any', 'new', 'film', 'Woody', 'may', 'come', 'out', 'with', 'in', 'the', 'future', '.', 'There', \"'s\", 'always', 'hope', 'and', 'I', \"'ll\", 'continue', 'to', 'love', 'and', 'respect', 'The', 'WOODY', '!', '!'], ['I', 'was', 'dreading', 'taking', 'my', 'nephews', 'to', 'this', 'movie', ',', 'as', 'I', 'did', \"n't\", 'think', 'it', 'was', 'going', 'to', 'be', 'well', 'done', '.', 'The', 'kids', ',', 'ages', '6', 'and', '10', 'were', 'set', 'on', 'seeing', 'it', ',', 'so', 'I', 'caved', '.', 'I', 'must', 'admit', 'that', 'it', 'was', 'not', 'nearly', 'as', 'bad', 'as', 'I', 'had', 'thought', ',', 'but', 'was', 'still', 'a', 'far', 'cry', 'from', 'the', 'book', '.', 'The', 'movie', 'seemed', 'right', 'on', 'with', 'the', '10', 'year', 'old', \"'s\", 'understanding', 'and', 'sense', 'of', 'humor', '.', 'I', 'found', 'that', 'the', '6', 'year', 'old', 'understood', 'what', 'was', 'going', 'on', 'and', 'he', 'was', 'presenting', 'solutions', 'to', 'the', 'issues', 'that', 'were', 'taking', 'place', '.', 'I', 'eventually', 'had', 'to', 'explain', 'that', 'sometimes', 'the', 'movies', 'do', \"n't\", 'show', 'the', 'best', 'solutions', 'to', 'the', 'problems', 'because', 'it', 'is', 'more', 'fun', 'to', 'watch', 'what', 'happens', 'if', 'they', 'make', 'the', '``', 'silly', \"''\", 'or', '``', 'stupid', \"''\", 'choices', '.'], ['I', 'love', 'science', 'fiction', ',', 'I', 'am', 'fascinated', 'by', 'Egyptian', 'mythology', 'and', 'I', 'appreciate', 'digital', 'animation', '.', 'I', 'figured', 'a', 'movie', 'that', 'combines', 'these', 'three', 'would', 'be', 'at', 'least', 'enjoyable', '.', 'I', 'could', 'not', 'have', 'been', 'more', 'wrong', ':', 'The', 'story', '(', 'or', 'actually', 'the', 'lack', 'there', 'of', ')', 'was', 'completely', 'uninspired', 'and', 'lacks', 'imagination', '-', 'while', 'imagination', 'usually', 'is', 'the', 'biggest', 'component', 'of', 'any', 'science', 'fiction', 'story', '.', 'The', 'dialogue', 'and', 'acting', 'are', 'even', 'worse', 'than', 'in', 'an', 'average', 'porno', 'movie', '.', 'Especially', 'Thomas', 'Kretschmann', 'gives', 'new', 'meaning', 'to', 'the', 'term', \"'bad\", 'performance', \"'\", '.', 'Bad', 'acting', 'would', \"n't\", 'have', 'been', 'such', 'a', 'huge', 'problem', 'if', 'only', \"'director\", \"'\", 'Bilal', 'did', \"n't\", 'take', 'himself', 'so', 'seriously', ';', 'all', 'the', 'lines', 'sound', 'like', 'they', 'are', 'supposed', 'to', 'be', 'poetic', ',', 'it', 'looks', 'like', 'Bilal', 'really', 'thinks', 'he', 'has', 'made', 'a', 'piece', 'of', 'art', 'here', '.', 'Well', ',', 'there', \"'s\", 'no', 'art', 'or', 'poetry', 'to', 'be', 'found', 'in', 'this', 'piece', 'of', 'junk', ',', 'only', 'pretentiousness', '!', 'This', 'man', 'should', 'really', 'stick', 'to', 'making', 'comics', ',', 'since', 'he', 'fails', 'on', 'all', 'possible', 'accounts', 'as', 'a', 'director', '.', 'Worst', 'of', 'all', 'is', 'the', 'terrible', 'digital', 'animation', ',', 'which', 'is', 'so', 'ugly', 'that', 'it', 'actually', 'turns', 'watching', 'this', 'movie', 'into', 'a', 'physically', 'painful', 'experience', '.', 'The', 'graphics', 'look', 'so', 'fake', 'they', 'even', 'make', 'the', 'werewolves', 'in', \"'Van\", 'Helsing', \"'\", 'look', 'like', 'live', 'actors', '!', 'And', 'since', 'half', 'the', 'characters', 'are', 'CGI-animated', ',', 'it', 'is', 'quite', 'a', 'problem', 'that', 'the', 'CGI-effects', 'look', 'so', 'fake', '.', 'If', 'the', 'Egyptian', 'Gods', 'actually', 'exist', 'then', 'Bilal', \"'s\", 'a', 'dead', 'guy', ',', 'since', 'they', 'will', 'no', 'doubt', 'take', 'gruesome', 'revenge', 'on', 'him', 'for', 'the', 'ridiculous', 'way', 'in', 'which', 'he', 'portrays', 'them', 'in', 'this', 'disastrously', 'bad', 'movie', '.'], ['There', 'is', 'a', 'bit', 'of', 'a', 'spoiler', 'below', ',', 'which', 'could', 'ruin', 'the', 'surprise', 'of', 'the', 'ONE', 'unexpected', 'and', 'truly', 'funny', 'scene', 'in', 'this', 'film', '.', 'There', 'is', 'also', 'information', 'about', 'the', 'first', 'film', 'in', 'this', 'series', '.', 'I', 'caught', 'this', 'film', 'on', 'DVD', ',', 'which', 'someone', 'gave', 'as', 'a', 'gift', 'to', 'my', 'roommate', '.', 'It', 'came', 'as', 'a', 'set', 'together', 'with', 'the', 'first', 'film', 'in', 'the', '``', 'Blind', 'Dead', \"''\", 'series', '.', 'This', 'movie', 'was', 'certainly', 'much', 'worse', 'than', 'the', 'first', ',', '``', 'La', 'Noche', 'del', 'Terror', 'Ciego', \"''\", '.', 'In', 'addition', ',', 'many', 'of', 'the', 'features', 'of', 'the', 'first', 'movie', 'were', 'changed', 'significantly', '.', 'To', 'boot', ',', 'the', 'movie', 'was', 'dubbed', 'in', 'English', '(', 'the', 'first', 'was', 'subtitled', ')', ',', 'which', 'I', 'tend', 'to', 'find', 'distracting', '.', 'The', 'concept', 'behind', 'the', 'series', 'is', 'that', 'in', 'the', 'distant', 'past', 'a', 'local', 'branch', 'of', 'the', 'Knights', 'Templar', 'was', 'involved', 'in', 'heinous', 'and', 'secret', 'rituals', '.', 'Upon', 'discovery', 'of', 'these', 'crimes', ',', 'the', 'local', 'peasantry', 'put', 'the', 'Templars', 'to', 'death', 'in', 'such', 'a', 'manner', 'that', 'their', 'eyes', 'can', 'no', 'longer', 'be', 'used', ',', 'thus', 'preventing', 'them', 'from', 'returning', 'from', 'Hell', 'to', 'exact', 'their', 'revenge', '.', 'We', 'then', 'jump', 'to', 'modern', 'times', 'where', 'because', 'of', 'some', 'event', ',', 'the', 'Templars', 'arise', 'from', 'the', 'dead', 'to', 'exact', 'their', 'revenge', 'upon', 'the', 'villagers', 'whose', 'ancestors', 'messed', 'them', 'up', 'in', 'the', 'first', 'place', '.', 'Of', 'course', ',', 'since', 'the', 'undead', 'knights', 'have', 'no', 'eyes', ',', 'they', 'can', 'only', 'find', 'their', 'victims', 'when', 'they', 'make', 'some', 'sort', 'of', 'noise', '.', 'The', 'Templars', 'were', 'a', 'secretive', 'order', ',', 'from', 'about', 'the', '12th', 'century', ',', 'coming', 'out', 'of', 'the', 'Crusades', '.', 'They', 'were', 'only', 'around', 'for', 'about', '150', 'years', ',', 'before', 'they', 'were', 'suppressed', 'in', 'the', 'early', '1300s', 'by', 'the', 'Pope', 'and', 'others', '.', 'Because', 'they', 'were', 'secretive', ',', 'there', 'were', 'always', 'rumors', 'about', 'their', 'ceremonies', ',', 'particularly', 'for', 'initiation', '.', 'Also', ',', 'because', 'of', 'the', 'way', 'the', 'society', 'was', 'organized', ',', 'you', 'did', \"n't\", 'necessarily', 'have', 'church', 'officials', 'overseeing', 'things', ',', 'which', 'meant', 'they', 'did', \"n't\", 'have', 'an', 'inside', 'man', 'when', 'things', 'heated', 'up', '.', 'And', ',', 'because', 'of', 'the', 'nature', 'of', 'their', 'trials', ',', 'they', 'were', 'tortured', 'into', 'confessions', '.', 'The', 'order', 'was', 'strongest', 'in', 'France', ',', 'but', 'did', 'exist', 'in', 'Portugal', 'and', 'Spain', ',', 'where', 'the', 'movies', 'take', 'place', '.', 'Where', 'the', 'first', 'movie', 'had', 'a', 'virgin', 'sacrifice', 'and', 'knights', 'drinking', 'the', 'blood', 'directly', 'from', 'the', 'body', 'of', 'the', 'virgin', '(', 'breast', 'shots', 'here', ',', 'of', 'course', ',', 'this', 'is', 'a', 'horror', 'film', 'after', 'all', ')', ',', 'and', 'then', ',', 'once', 'the', 'knights', 'come', 'back', 'to', 'life', ',', 'they', 'attack', 'their', 'victims', 'by', 'eating', 'them', 'alive', 'and', 'sucking', 'their', 'blood', ';', 'in', 'this', 'sequel', ',', 'this', 'all', 'disappears', '.', 'You', 'still', 'have', 'the', 'same', 'scene', '(', 'redone', ',', 'not', 'the', 'same', 'footage', ')', 'of', 'them', 'sacrificing', 'the', 'virgin', ',', 'but', 'they', 'drain', 'the', 'blood', 'into', 'a', 'bowl', 'and', 'drink', 'it', 'from', 'that', '.', 'Thus', ',', 'when', 'they', 'come', 'back', ',', 'they', 'just', 'hack', 'people', 'up', 'with', 'their', 'swords', 'or', 'claw', 'people', 'to', 'death', ',', 'which', 'I', 'have', 'to', 'say', 'is', 'a', 'much', 'less', 'effective', 'means', 'of', 'disturbing', 'your', 'audience', '.', 'There', \"'s\", 'also', 'a', 'time', 'problem', ':', 'in', 'the', 'first', 'film', 'the', 'dating', 'is', 'much', 'closer', 'to', 'the', 'Templars', ',', 'where', 'here', 'they', 'are', 'now', 'saying', 'it', 'is', 'the', '500', 'anniversary', 'of', 'the', 'peasants', 'burning', 'these', 'guys', 'at', 'the', 'stake', ',', 'which', 'would', 'date', 'it', 'around', '1473', '.', 'And', 'the', 'way', 'that', 'the', 'Templars', 'lose', 'their', 'eyes', 'is', 'much', 'less', 'interesting', 'as', 'well', '.', 'In', 'the', 'first', ',', 'they', 'have', 'them', 'pecked', 'out', 'by', 'crows', '.', 'Now', 'they', 'are', 'simply', 'burned', 'out', ',', 'and', 'in', 'quite', 'a', 'ridiculous', 'manner', '.', 'Oh', 'yeah', ',', 'and', 'maybe', 'it', 'was', 'just', 'me', ',', 'but', 'there', 'seemed', 'to', 'be', 'a', 'lot', 'of', 'people', 'from', 'the', 'first', 'movie', 'reappearing', 'in', 'this', 'film', '(', 'despite', 'having', 'died', ')', '.', 'Not', 'really', 'a', 'problem', ',', 'since', 'the', 'movie', 'is', 'completely', 'different', 'and', 'not', 'a', 'sequel', 'in', 'the', 'sense', 'of', 'a', 'continuation', ',', 'but', 'odd', 'none-the-less', '.', 'The', 'highlight', 'of', 'this', 'movie', 'is', 'the', 'rich', 'fellow', 'who', 'uses', 'a', 'child', 'to', 'distract', 'the', 'undead', 'while', 'he', 'makes', 'a', 'break', 'for', 'the', 'jeep', '.', 'The', 'child', \"'s\", 'father', 'had', 'already', 'been', 'suckered', 'by', 'this', 'rich', 'man', 'into', 'making', 'an', 'attempt', 'to', 'get', 'the', 'jeep', ',', 'so', 'he', 'walks', 'out', 'and', 'tells', 'her', 'to', 'find', 'her', 'father', '.', 'It', 'comes', 'somewhat', 'out', 'of', 'the', 'blue', ',', 'and', 'is', 'easily', 'the', 'funniest', 'scene', 'in', 'the', 'film', '.', 'Of', 'course', ',', 'why', 'the', 'child', 'does', \"n't\", 'die', 'at', 'this', 'point', 'is', 'beyond', 'me', ',', 'and', 'disappointed', 'for', 'horror', 'fans', '.', 'I', 'could', \"n't\", 'possibly', 'recommend', 'this', 'film', 'to', 'anyone', '.', 'It', 'is', \"n't\", 'so', 'bad', 'that', 'it', 'becomes', 'funny', ',', 'so', 'it', 'just', 'ends', 'up', 'being', 'a', 'mediocre', 'horror', 'film', '.', 'The', 'bulk', 'of', 'the', 'film', 'has', 'several', 'people', 'holed', 'up', 'in', 'a', 'church', ',', 'each', 'making', 'various', 'attempts', 'to', 'go', 'it', 'alone', 'in', 'order', 'to', 'escape', 'the', 'blind', 'dead', 'who', 'have', 'them', 'surrounded', '.', 'When', 'the', 'film', 'ends', ',', 'you', 'are', 'not', 'surprised', 'at', 'the', 'outcome', 'at', 'all', ';', 'in', 'fact', ',', 'quite', 'disappointed', '.', 'If', 'you', 'are', 'into', 'the', 'novelty', 'of', 'seeing', 'a', 'Spanish', 'horror', 'film', ',', 'see', 'the', 'first', 'movie', ',', 'which', 'at', 'least', 'has', 'some', 'innovative', 'ideas', 'and', 'not', 'so', 'expected', 'outcomes', '.'], ['My', 'ten-year', 'old', 'liked', 'it', '.', 'For', 'me', 'it', 'was', 'hard', 'to', 'get', 'through', 'it', '.', 'Christopher', 'Lloyd', 'played', 'it', 'way', 'over', 'the', 'top', 'and', 'the', 'suit', 'was', 'tedious', 'and', 'unfunny', '.', 'Sorry', 'to', 'see', 'Jeff', 'Daniels', 'in', 'this', '.'], ['I', 'thought', 'that', 'My', 'Favorite', 'Martian', 'was', 'very', 'boring', 'and', 'drawn', 'out', '!', '!', 'It', 'was', 'not', 'funny', 'at', 'all', '.', 'The', 'audience', 'just', 'sat', 'through', 'the', 'whole', 'movie', 'and', 'did', \"n't\", 'laugh', 'at', 'all', '!', '!', '!', 'Not', 'even', 'the', 'kids', 'laughed', '!', '!', 'That', 'is', 'sad', 'for', 'a', 'Disney', 'movie', '!', '!', 'I', 'thought', 'they', 'could', 'have', 'found', 'somebody', 'better', 'to', 'play', 'the', 'martian', 'rather', 'than', 'Christopher', 'Lloyd', '!', '!', 'He', 'was', 'really', 'stupid', '!', '!', 'And', 'he', 'was', 'not', 'funny', '!', '!', 'I', 'thought', 'the', 'talking', 'suit', 'was', 'really', 'dumb', '!', '!', '!', 'In', 'the', 'original', 'television', 'series', 'the', 'suit', 'does', \"n't\", 'talk', 'and', 'move', 'around', '!', '!', 'In', 'my', 'opinion', 'they', 'should', 'not', 'have', 'wasted', 'their', 'time', 'on', 'this', 'movie', '!', '!', 'I', 'give', 'it', 'two', 'thumbes', 'down', '!', '!', 'Really', 'a', 'waste', 'of', 'time', 'and', 'I', 'would', 'not', 'recommend', 'the', 'movie', 'to', 'anybody', '!', '!', '!', 'Thank', 'You', '!', '!'], ['As', 'you', 'may', 'or', 'may', 'not', 'have', 'heard', ',', 'there', 'is', 'no', 'actual', 'fighting', 'between', 'vampires', 'or', 'zombies', 'in', 'this', 'film', '.', 'One', 'may', 'then', 'ask', 'why', 'the', 'title', 'suggested', 'such', 'a', 'thing', ',', 'but', 'really', 'it', \"'s\", 'kind', 'of', 'appropriate', 'because', 'nothing', 'else', 'about', 'this', 'film', 'made', 'any', 'sense', 'either', '.', 'There', 'was', 'absolutely', 'no', 'story', 'or', 'plot', ',', 'just', 'things', 'happening', '.', 'The', 'acting', 'was', 'incredibly', 'bad', ',', 'worse', 'than', 'safeauto', 'commercials', 'bad', '.', 'Not', 'only', 'were', 'there', 'no', 'fighting', 'between', 'vampires', 'and', 'zombies', 'but', 'I', 'think', 'there', 'was', 'only', 'one', 'scene', 'with', 'zombies', 'even', 'in', 'it', '.', 'Their', 'make', 'up', 'looked', 'as', 'if', 'it', 'were', 'applied', 'by', 'an', '8', 'year', 'old', 'girl', '.', 'The', 'scene', 'was', 'totally', 'random', 'and', 'out', 'of', 'place', 'and', 'featured', 'one', 'of', 'the', 'characters', 'fighting', 'the', 'zombies', 'off', 'with', 'a', 'hedge', 'trimmer', '(', 'I', \"'m\", 'not', 'kidding', ')', 'but', 'they', 'used', 'chainsaw', 'sound', 'effects', '.', 'This', 'was', 'undoubtedly', 'the', 'poorest', 'movie', 'I', \"'ve\", 'ever', 'seen', 'in', 'my', 'life', '.', 'The', 'only', 'circumstance', 'that', 'I', 'would', \"n't\", 'totally', 'ridicule', 'every', 'person', 'responsible', 'for', 'production', 'of', 'this', 'film', 'is', 'if', 'I', 'learned', 'that', 'it', 'was', 'produced', 'entirely', 'by', '11', 'year', 'old', \"'s\", '.', 'Really', 'though', ',', 'even', 'with', 'all', 'of', 'the', 'criticism', 'I', 'offer', 'here', ',', 'I', \"'d\", 'suggest', 'watching', 'this', 'movie', 'solely', 'based', 'on', 'the', 'fact', 'that', 'it', 'may', 'very', 'well', 'be', 'the', 'worst', 'movie', 'ever', ',', 'and', 'because', 'of', 'this', 'is', 'quite', 'comical', '.', 'Even', 'just', 'counting', 'the', 'flaws', 'in', 'it', 'should', 'keep', 'you', 'entertained', '.'], ['I', 'do', \"n't\", 'often', 'go', 'out', 'of', 'my', 'way', 'to', 'write', 'comments', ',', 'but', 'for', 'this', 'I', 'had', 'to', ',', 'just', 'to', 'warn', 'anyone', 'that', 'might', 'think', 'that', 'by', 'watching', 'this', 'they', 'will', 'see', 'a', 'comedy', '.', 'This', 'does', \"n't\", 'come', 'close', '.', 'While', 'the', 'premise', '(', 'change', 'in', 'colour/gender/whatever', ')', 'is', 'bad', 'enough', '(', 'and', 'has', 'been', 'done', ',', 'better', ',', 'many', 'times', 'before', ')', 'the', 'actual', 'transformation', 'of', 'two', 'black', 'guys', 'into', 'two', 'white', 'girls', 'is', 'one', 'of', 'the', 'least', 'convincing', 'transformations', 'ever', 'put', 'on', 'screen', '.', 'It', 'would', 'be', 'bad', 'enough', 'if', 'all', 'that', 'was', 'required', 'by', 'the', 'script', 'was', 'a', 'change', 'to', 'white', 'chicks', '.', 'However', 'the', 'Wayans', 'brothers', 'are', 'required', 'to', 'disguise', 'themselves', 'as', 'two', 'specific', 'white', 'women', '.', 'As', 'you', 'will', 'have', 'guessed', 'by', 'now', ',', 'they', 'fail', 'completely', '.', 'I', 'have', 'seen', 'drag', 'queens', 'without', 'makeup', 'make', 'more', 'convincing', 'women', 'than', 'these', 'two', 'do', 'with', 'the', 'best', 'special', 'effects', 'and', 'make-up', 'people', 'that', 'Hollywood', 'can', 'provide', '.', 'Its', 'appalling', '.', 'Add', 'to', 'the', 'mix', 'a', 'basketball', 'player', 'built', 'like', 'a', 'building', ',', 'terrible', 'dialogue', 'and', 'more', 'plot', 'holes', 'than', 'a', 'golf', 'course', 'and', 'this', 'film', 'hits', 'a', 'new', 'personal', 'low', '.', 'And', 'I', 'like', 'bad', 'movies', '!', 'Avoid', 'like', 'the', 'plague', '.'], ['Spoken', 'like', 'a', 'true', 'hard-boiled', \"u'an\", 'gangsta', '.', 'The', 'story', 'is', 'no', 'worse', 'than', 'any', 'number', 'of', 'gangster', 'flicks', ',', 'but', 'never', 'ever', 'confuse', 'this', 'movie', 'with', 'The', 'Godfather', 'I', 'or', 'II', ',', 'or', 'Goodfellas', '.', 'It', 'is', 'not', 'in', 'the', 'same', 'league', '.', 'But', 'what', 'makes', 'the', 'film', 'periodically', 'painful', 'to', 'watch', 'is', 'all', 'these', 'Italian', 'Americans', 'swaggering', 'around', 'dropping', 'bad', 'gangsta', 'lines', 'in', 'an', 'even', 'worse', 'fake', \"u'an\", 'accent', '.', 'Pacino', 'would', 'have', 'been', 'great', 'if', 'they', 'could', 'just', 'have', 'dubbed', 'him', '.', 'I', 'was', 'looking', 'forward', 'to', 'see', 'Abrahams', 'and', 'Loggia', ',', 'but', 'their', 'steenky', 'accents', 'spoiled', 'the', 'fun', '.', 'Ah', 'well', ',', 'the', 'script', 'ai', \"n't\", 'too', 'hot', 'either', '.', 'Don', 'Corleone', 'would', 'have', 'made', 'this', 'disappear', 'five', 'minutes', 'after', 'meeting', 'him', ',', 'smiling', 'and', 'patting', 'him', 'on', 'the', 'back', 'all', 'the', 'while', '.'], ['...', '.', 'may', 'seem', 'far', 'fetched', '...', '.', 'but', 'there', 'really', 'was', 'a', 'real', 'life', 'story..', 'of', 'a', 'man', 'who', 'had', 'an', 'affair', 'with', 'a', 'woman', ',', 'who', 'found', 'out', 'where', 'he', 'and', 'his', 'new', 'wife', 'were', 'staying', ',', ',', 'and', 'she', 'killed', 'the', 'wife', ',', ',', 'making', 'it', 'look', 'like', 'a', 'murder', 'rape', '...', '...', '.', 'in', 'her', 'delusion', 'she', 'had', 'told', 'everyone', 'that', 'the', 'man', 'had', 'asked', 'her', 'to', 'marry', 'him..', 'so', 'she', 'quit', 'her', 'job', 'in', 'Wisconsin', '...', 'and', 'moved', 'to', 'Minnesota', '...', '...', '...', '.', 'last', 'I', 'heard', 'she', 'was', 'in', 'a', 'mental', 'institution', ',', 'Security', 'Prison', '...', '.', 'she', 'was', 'still', 'wearing', 'the', '``', 'engagement', 'ring', '.', \"''\", 'that', 'she', 'has', 'purchased', 'for', 'herself', '...', 'and', 'had', 'told', 'everyone', 'that', 'he', 'had', 'bought', 'it', 'for', 'her', '.', 'The', 'events', 'took', 'place', 'in', 'a', 'small', 'town', 'in', 'Wisconsin', ',', ',', ',', ',', ',', ',', ',', 'and', 'the', 'murder', 'happened', 'in', 'Minnesota', '...', '...', 'There', 'even', 'was', 'a', 'feature', 'story', 'in', '``', 'People', \"''\", 'magazine', '...', 'Spring', 'of', '1988', ',', 'I', 'want', 'to', 'say', 'on', 'Page', '39', '.', 'I', 'remember', 'this', 'as', 'I', 'was', 'in', 'college', 'at', 'the', 'time', ',', ',', 'and', 'a', 'colleague', 'of', 'mine', 'had', 'met', 'the', 'individual', 'in', 'the', 'Security', 'Hospital', '...', '.'], ['First', 'thing', 'I', 'noticed', 'in', 'this', 'movie', 'of', 'course', ',', 'was', 'the', 'unnecessary', 'amount', 'of', 'nudity', '.', 'It', \"'s\", 'not', 'oozing', 'nudity', 'or', 'anything', ',', 'but', 'a', 'lot', 'that', 'was', 'not', 'needed', '.', 'Annik', 'Borel', 'plays', 'a', 'disturbed', 'woman', 'believing', 'her', 'families', 'ghost', 'stories', 'that', 'her', 'ancestor', 'who', 'eerily', 'resembles', 'her', 'was', 'a', 'werewolf', ',', 'and', 'believes', 'their', 'fate', 'are', 'destined', 'to', 'be', 'the', 'same', '.', 'Which', 'actually', 'I', 'found', 'quite', 'interesting', '.', 'The', 'original', 'Wolf', 'Man', 'was', 'intended', 'to', 'be', 'a', 'completely', 'psychological', 'movie', ',', 'but', 'Universal', 'threw', 'in', 'the', 'actual', 'Wolf', 'man', 'you', 'were', 'never', 'supposed', 'to', 'see', 'for', 'n', 'extra', 'buck', 'or', 'two', '.', 'I', 'find', 'this', 'concept', 'of', 'someone', 'not', 'really', 'being', 'a', 'werewolf', 'interesting', '.', 'Unfortunately', 'this', 'is', 'not', 'the', 'film', 'I', 'was', 'searching', 'for', '.', 'Instead', 'we', 'know', 'shes', 'not', 'a', 'werewolf', 'from', 'the', 'beginning', ',', 'so', 'there', \"'s\", 'no', 'thrill', 'or', 'twist', ',', 'also', 'they', 'attempt', 'to', 'make', 'the', 'film', 'seem', 'like', 'a', 'this', 'really', 'happened', 'scenario', '.', 'They', 'fail', 'there', 'too', 'adding', 'one', 'or', 'two', 'parts', 'of', 'the', 'film', 'referring', 'to', 'this', 'being', 'reality', '.', 'At', 'first', 'I', 'was', 'excited', 'upon', 'reading', 'the', 'description', 'of', 'the', 'film', '.', 'But', 'I', 'slowly', 'realized', 'it', 'was', 'a', 'cover', 'just', 'so', 'they', 'could', 'expose', 'the', 'main', 'characters', 'breasts', 'as', 'often', 'as', 'possible', '.', 'Annik', 'Borel', 'is', 'either', 'a', 'decent', 'actor', 'playing', 'a', 'great', 'psychotic', 'role', ',', 'or', 'a', 'really', 'bad', 'actor', 'playing', 'a', 'psychotic', 'role', '.', 'Since', 'the', 'character', 'Danniele', 'has', 'no', 'brains', 'and', 'is', 'just', 'a', 'nut', 'who', 'runs', 'around', 'insane', 'and', 'snarling', 'and', 'snapping', 'like', 'a', 'wolf', ',', 'it', 'takes', 'little', 'skill', 'to', 'play', '.', 'She', 'has', 'moments', 'were', 'her', 'performance', 'breaks', 'through', 'for', 'a', 'creepy', 'moment', 'but', 'is', 'quickly', 'ruined', 'by', 'the', 'poor', 'camera', 'work', 'and', 'light', '.', 'The', 'idea', 'is', 'great', ',', 'but', 'hideously', 'executed', 'throughout', 'the', 'film', '.', '3/10'], ['First', 'thing', 'first', '.', 'In', 'this', 'genre', 'movie', 'the', 'first', 'thing', 'you', 'need', 'is', 'a', 'good', 'music', ',', 'and', 'thats', 'where', 'Mr.', 'shankar', 'and', 'his', 'party', 'fails', '.', 'music', 'is', 'completely', 'pale', 'and', 'uneffective', '.', 'On', 'other', 'hand', 'there', 'is', 'AJAY', 'DEVGAN', ',', 'WHO', 'HAS', 'REMOVED', 'A', 'LETTER', \"'A\", \"'\", 'from', 'his', 'spelling', ',', 'done', 'good', 'job', 'but', 'was', 'of', 'no', 'use', 'to', 'a', 'bad', 'casted', 'movies', 'like', 'this', '.', 'ASIN', 'is', 'like', 'a', 'doll', 'which', 'is', 'used', 'to', 'amuse', 'public', ',', 'even', 'though', 'she', 'is', 'good', 'to', 'look', 'at', 'but', 'her', 'role', 'in', 'movie', 'is', 'to', 'dance', ',', 'actually', 'she', 'is', 'dancing', 'member', 'of', 'a', 'rock', 'band', 'and', 'i', 'do', \"n't\", 'think', 'any', 'rock', 'band', 'have', 'there', 'dancer', 'as', 'a', 'member', 'of', 'band', '.', 'in', 'nut', 'shell', 'this', 'movie', 'is', 'a', 'piece', 'of', 'crap', 'a', 'piece', 'of', '***t.', 'watch', 'it', 'if', 'you', 'wan', 'na', 'get', 'fooled', '.'], ['Antonioni', ',', 'by', 'making', 'this', 'film', ',', 'had', 'assumed', 'the', 'role', 'of', 'Papa', 'Smurf', 'to', 'all', 'the', 'little', 'long-haired', ',', 'American', ',', 'radical', 'student-Smurfs', '.', 'He', 'had', 'taken', 'them', 'under', 'the', 'guiding', 'protection', 'of', 'his', 'European', 'communist', 'wings', ',', 'showing', 'appreciation', 'and', 'support', 'for', 'their', 'confused', 'American', 'ways', '.', '(', 'These', 'Smurfs', 'are', 'red', 'and', 'wear', 'blue', ',', 'not', 'the', 'other', 'way', 'around', '.', ')', 'The', 'radical', 'Smurfs', 'were', 'happy', 'to', 'get', 'the', 'guidance', 'of', 'a', 'wise', 'old', 'man', 'with', 'gray', 'hair', 'who', 'regularly', 'preys', 'to', 'the', 'God', 'of', 'all', 'long-haired', 'Smurfs', ',', 'Lenin', 'the', 'Communist', '-', 'another', 'wise', 'old', 'man', 'whose', 'beard', 'made', 'the', 'Smurfs', 'take', 'him', 'even', 'more', 'seriously', ',', 'for', 'it', 'symbolized', 'something', 'wise', ',', 'though', 'they', 'did', 'not', 'quite', 'know', 'why', 'they', 'regarded', 'the', 'beard', 'to', 'have', 'this', 'kind', 'of', 'deep', 'effect', 'on', 'them', '.', 'Castro', ',', 'another', 'wise', 'bearded', 'man', ',', 'has', 'often', 'profited', 'from', 'this', 'confusion', 'and', 'exuded', 'magical', 'powers', 'with', 'his', 'beard', 'over', 'his', 'naive', 'overseas', 'admirers', '.', '(', 'Not', 'to', 'mention', 'Che', 'Guevara', ':', 'that', 'beard', 'has', 'a', 'certain', 'je-ne-sais-pas-quoi', 'about', 'it', ',', 'makes', 'one', 'want', 'to', 'immediately', 'embrace', 'Marx', 'and', 'his', 'lovely', ',', 'pacifistic', 'teachings', ')', 'The', 'film', 'starts', 'with', 'a', 'muddled', 'meeting', 'of', 'radically', 'stupid', 'radical', 'students', ',', 'who', 'engage', 'in', 'dialogues', 'that', 'truly', 'redefine', 'the', 'word', '``', 'confused', \"''\", '.', 'As', 'confused', 'as', 'a', 'blind-folded', 'dog', 'falling', 'of', 'a', 'high-story', 'building', 'into', 'a', 'bottomless', 'pit', '.', 'Suddenly', ',', 'the', 'movie', \"'s\", '``', 'hero', \"''\", '(', 'well', ',', 'Antonioni', \"'s\", 'hero', ')', 'rises', 'up', 'and', 'says', 'something', 'to', 'his', 'pathetic', 'left-wing', 'peers', 'and', 'then', 'leaves', ',', 'hoping', 'that', 'this', 'display', 'of', '``', 'mega-coolness', \"''\", 'will', 'improve', 'his', 'James', 'Dean', 'image', 'and', 'vastly', 'increase', 'his', 'chances', 'of', 'getting', 'laid', 'with', 'the', 'best', '``', 'chicks', \"''\", 'in', 'the', 'next', 'mass', 'hippie', 'orgy', '.', 'Eventually', 'he', 'gets', 'into', 'trouble', 'with', 'cops', '(', 'i.e', '.', 'pigs', ')', 'at', 'a', 'rally', ',', 'and', 'spends', 'the', 'movie', 'under', 'the', 'blue', 'American', 'capitalist', 'skies', ',', 'looking', 'for', 'freedom', 'Or', 'something', 'like', 'that', '.', 'Antonioni', \"'s\", 'predictable', 'assault', 'on', 'capitalism', 'is', 'not', 'only', 'intellectually', 'hollow', ',', 'but', 'has', '(', 'or', 'had', ')', 'nothing', 'new', 'to', 'offer', ';', 'it', \"'s\", 'just', 'the', 'same', 'old', 'trigger-happy', 'one-dimensional', 'cops', ',', 'businessmen', 'discussing', 'business', 'deals', '(', 'and', 'what', \"'s\", 'wrong', 'with', 'that', ',', 'is', \"n't\", 'that', 'how', 'Antonioni', \"'s\", 'movies', 'get', 'made', '?', ')', ',', 'and', 'endless', 'shots', 'of', 'TV', 'commercials', 'and', 'billboards', 'advertising', 'the', 'oh-so', 'morally', 'decadent', 'products', 'for', 'the', 'abhorrent', ',', 'selfish', ',', 'and', 'greedy', 'right-wing', 'rabble-population', 'who', 'thinks', 'of', 'no', 'one', 'but', 'themselves', ',', 'their', 'families', ',', 'their', 'work', ',', 'and', 'their', 'children', '.', 'Papa', 'Smurf', 'Antonioni', ',', 'just', 'like', 'his', 'long-haired', 'Smurfs', 'and', 'Smurfettes', 'of', 'the', 'late', '60s', ',', 'failed', 'to', 'notice', 'the', 'most', 'obvious', 'and', 'vital', 'aspect', 'about', 'their', 'silly', 'movement', ':', 'they', 'were', 'allowed', 'to', 'have', 'their', 'laughable', 'meetings', 'and', 'express', 'their', 'anti-establishment', 'opinions', 'freely', 'within', 'that', 'very', 'establishment', ',', 'whereas', 'the', 'students', 'in', 'those', 'countries', 'whose', 'left-wing', 'systems', 'they', 'admired', ',', 'did', 'not', '(', 'and', 'still', 'do', 'not', ')', '.', 'By', 'far', 'the', 'greatest', 'irony', 'about', 'the', 'hippies', '-', 'and', 'Antonioni', ',', 'naturally', ',', 'failed', 'to', 'realize', 'this', 'as', 'well', '(', 'his', 'judgment', 'being', 'clouded', 'by', 'cocaine-snorting', 'and', 'an', 'excessive', 'intake', 'of', 'LSD', ')', '-', 'is', 'that', 'hippies', 'were', '(', 'are', ')', 'the', 'garbage-residue', 'of', 'capitalism', '.', 'This', 'is', 'an', 'incredible', 'irony', '.', 'Only', 'in', 'a', 'successfully-functioning', 'capitalist', 'system', 'can', 'you', 'find', 'that', 'species', 'called', '``', 'hippie', \"''\", ';', 'a', 'spoiled', ',', 'ungrateful', ',', 'and', 'selfish', 'bunch', 'of', 'middle', 'and', 'upper-middle', 'class', 'losers', '.', 'The', 'film', 'itself', 'seems', 'to', 'go', 'on', 'forever', '.', 'Antonioni', 'takes', 'his', 'sweet', 'time', 'with', 'getting', 'on', 'with', 'it', ',', 'while', 'including', 'overlong', 'scenes', 'of', 'pointlessness', ',', 'with', 'a', 'high', 'dullness', 'factor', '.', 'His', 'attempts', 'at', 'symbolism', 'are', 'annoying', 'and', 'trite', '.', 'His', 'statements', 'are', 'highly', 'dubious', ',', 'at', 'best', '.', 'This', 'film', 'is', 'Antonioni', \"'s\", 'way', 'of', 'saying', 'that', 'violent', 'revolution', 'is', 'the', 'solution', '.', 'And', 'this', 'is', 'what', 'we', 'get', 'from', 'an', 'old', ',', 'saturated', ',', 'filthy-rich', ',', 'fat', 'film-maker', 'who', 'lives', 'in', 'villas', 'and', 'dines', 'in', 'the', 'best', 'French', 'and', 'Italian', 'restaurants', '.', 'I', 'do', \"n't\", 'remember', 'seeing', 'any', 'major', 'Western', 'movie', 'about', 'the', 'Tiananmen', 'massacre', 'of', 'thousands', 'of', 'students', 'in', 'China', '.', 'But', 'when', 'one', 'Western', 'student', 'gets', 'shot', 'for', 'waving', 'Che', 'Guevara', \"'s\", 'face', 'into', 'all', 'our', 'faces', ',', 'we', 'get', 'ten', 'major', 'films', 'about', 'it', 'at', 'once', '.', 'I', 'suppose', 'this', 'means', 'that', 'a', 'Chinese', 'life', 'is', 'worth', 'a', 'thousand', 'times', 'less', 'than', 'a', 'Western', 'one', '\\x96', 'at', 'least', 'to', 'the', 'left-wing', 'hypocrites', 'who', 'infest', 'movies', '.', 'If', 'you', \"'re\", 'a', 'Marxist', 'neo-hippy', 'and', 'disliked', 'this', 'awful', 'review', ',', 'please', 'klick', '``', 'NO', \"''\", 'below', '.'], ['Cavemen', 'was', 'by', 'far', 'the', 'biggest', 'load', 'of', 'crap', 'I', 'have', 'ever', 'wasted', 'my', 'time', 'watching', '.', 'This', 'show', 'based', 'on', 'the', 'Geico', 'commercials', 'is', 'less', 'entertaining', 'then', 'an', 'actual', '30', 'sec', 'ad', 'for', 'Geico', '.', 'The', 'makeup', 'was', 'half', 'ass-ed', 'to', 'say', 'the', 'least', ',', 'hard', 'to', 'imagine', 'a', 'caveman', 'with', 'prefect', 'white', 'teeth', 'even', 'after', 'going', 'to', 'the', 'dentist', '.', 'This', 'show', 'could', 'of', 'had', 'potential', 'for', 'a', 'funny', 'series', 'if', 'they', 'could', 'of', 'gotten', 'the', 'cast', 'from', 'the', 'commercials', ',', 'that', 'in', 'it', 'self', 'makes', 'for', 'a', 'lousy', 'show', '.', 'Perhaps', 'if', 'the', 'writers', 'were', 'the', 'same', 'from', 'the', 'Geico', 'ads', 'this', 'may', 'of', 'had', 'a', 'chance', ',', 'instead', 'the', 'pilot', 'lacked', 'a', 'good', 'story', 'line', '.', 'I', 'give', 'this', 'show', 'a', '1', 'out', 'of', '10', ',', 'I', 'would', 'of', 'liked', 'to', 'put', 'a', 'zero', 'out', 'of', '10', 'but', 'that', 'was', 'not', 'an', 'option', '.', 'I', 'pray', 'for', 'a', 'quick', 'death', 'to', 'this', 'show', ',', 'I', \"'d\", 'give', 'it', 'less', 'then', '5', 'episodes', 'before', 'it', 'dies', 'a', 'deserving', 'death', '.'], ['I', \"'d\", 'have', 'to', 'admit', 'that', 'the', 'draw', 'of', 'this', 'movie', 'is', 'director', 'Eduardo', 'Sanchez', ',', 'who', 'helmed', 'the', 'wildly', 'popular', 'and', 'successful', 'Blair', 'Witch', 'Project', '.', 'Besides', ',', 'this', 'is', 'an', 'alien', 'movie', 'of', 'sorts', ',', 'and', 'sounded', 'something', 'like', 'Stephen', 'King', \"'s\", 'Dreamcatchers', ',', 'one', 'of', 'those', 'movies', 'that', 'the', 'critics', 'hated', ',', 'but', 'I', 'enjoyed', '.', 'But', 'nope', ',', 'unfortunately', 'I', 'felt', 'that', 'for', 'the', 'most', 'parts', ',', 'Altered', 'is', 'a', 'waste', 'of', 'time', ',', 'so', 'I', 'shall', 'keep', 'this', 'review', 'short', '.', 'Premises', 'are', 'always', 'promising', ',', 'and', 'Altered', \"'s\", 'no', 'different', '.', 'It', 'tells', 'the', 'story', 'of', 'a', 'group', 'of', 'men', 'who', 'experienced', 'strange', 'encounters', 'when', 'they', 'were', 'younger', ',', 'and', 'as', 'usual', ',', 'others', 'will', 'take', 'you', 'as', 'a', 'nutcase', 'imagining', 'stuff', '.', 'Stories', 'about', 'alien', 'abduction', 'always', 'have', 'to', 'deal', 'with', 'probes', 'into', 'the', 'orifices', ',', 'so', 'I', 'shall', 'not', 'go', 'into', 'details', ',', 'but', 'you', 'get', 'the', 'drift', 'it', \"'s\", 'damn', 'uncomfortable', ',', 'and', 'something', 'you', \"'d\", 'like', 'to', 'forget', '.', 'What', 'if', 'you', \"'re\", 'given', 'a', 'chance', 'for', 'revenge', '?', 'That', 'is', ',', 'you', 'manage', 'to', 'successfully', 'hunt', 'down', ',', 'and', 'capture', 'one', 'alive', '.', 'What', 'will', 'you', 'do', '?', 'For', 'this', 'group', ',', 'it', \"'s\", 'a', 'gleeful', 'payback', 'time', ',', 'or', 'so', 'they', 'thought', '.', 'And', 'this', 'is', 'where', 'the', 'movie', 'begins', 'to', 'develop', 'into', 'a', 'snoozefest', ',', 'with', 'bad', ',', 'uninspiring', 'dialogue', ',', 'and', 'even', 'worse', 'acting', '.', 'Even', 'if', 'it', \"'s\", 'low', 'budgeted', ',', 'there', 'are', \"n't\", 'many', 'redeeming', 'factors', ',', 'be', 'it', 'strength', 'of', 'storyline', ',', 'or', 'any', 'help', 'from', 'the', 'cast', 'in', 'making', 'their', 'characters', 'just', 'a', 'tad', 'interesting', '.', 'It', \"'s\", 'the', 'standard', 'cardboard', 'fare', 'from', 'a', 'vanilla', 'plain', 'script', ',', 'coupled', 'with', 'some', 'cheap', 'scare', 'tactics', 'employed', '.', 'What', \"'s\", 'good', 'though', 'is', 'the', 'makeup', '.', 'Much', 'effort', 'has', 'been', 'put', 'into', 'making', 'some', 'of', 'the', 'stuff', 'which', 'I', 'sha', \"n't\", 'mention', ',', 'because', 'that', \"'ll\", 'spoil', 'just', 'the', 'few', 'elements', 'of', 'what', 'makes', 'this', 'movie', 'tolerable', '.', 'Other', 'than', 'that', ',', 'there', 'are', 'the', 'usual', 'cheap', 'special', 'effects', ',', 'blood', 'and', 'gory', 'moments', 'which', 'is', 'nothing', 'you', \"'ve\", 'never', 'seen', 'before', '.', 'Watch', 'this', 'only', 'as', 'a', 'last', 'resort', '.', 'Compared', 'to', 'the', 'other', 'monster', 'movie', 'in', 'town', '-', 'Feast', ',', 'this', 'one', 'is', 'less', 'fun', ',', 'and', 'takes', 'itself', 'too', 'seriously', '.', 'Bogged', 'down', 'by', 'an', 'uninspiring', 'direction', ',', 'you', \"'ve\", 'been', 'warned', '.'], ['I', 'cant', 'believe', 'some', 'people', 'actually', 'like', 'this', '.', 'Yet', 'still', 'call', 'themselves', 'Batman', 'fans', '.', 'Even', 'going', 'as', 'far', 'as', 'to', 'say', 'it', \"'s\", 'better', 'than', 'BTAS', '.', 'Which', 'it', \"'s\", 'not', '.', 'It', 'should', 'be', 'plagiarism', 'for', 'them', 'to', 'use', 'Batman', \"'s\", 'name', 'for', 'this', 'piece', 'of', 'crap', '.', 'It', \"'s\", 'not', 'Batman', '.', 'The', 'whole', 'premise', 'of', 'the', 'show', 'is', \"''if\", 'you', 'cant', 'defeat', 'someone', 'get', 'a', 'bigger', 'weapon', 'to', 'help', 'you', \"''\", 'Batman', 'is', \"n't\", 'all', 'about', 'weapons', '.', 'He', 'uses', 'his', 'batarang', 'and', 'grappling', 'hook', 'and', 'Batmobile', ',', 'thats', 'it', '.', 'He', 'does', \"n't\", 'come', 'up', 'with', 'some', 'new', 'ingenious', 'tech', 'every', 'time', 'he', 'cant', 'beat', 'someone', '.', 'I', 'do', \"n't\", 'know', 'where', 'the', 'hell', 'they', 'got', 'the', 'idea', 'for', 'a', 'Batbot', '.', 'or', 'whatever', '.', 'They', 'have', 'ruined', 'all', 'the', 'villains', '.', 'Mr', '.', 'Freeze', 'has', 'gone', 'from', 'a', 'sympathetic', 'scientist', 'to', 'a', 'petty', 'criminal', 'who', 'fell', 'in', 'some', 'cryofreezing', 'thing', '.', 'Catwoman', 'is', 'now', 'a', '40', 'or', '50', 'year', 'old', 'woman', 'with', 'a', 'dumb', 'costume', '.', 'Penguin', 'is', 'now', 'a', 'ninja', 'with', 'a', '50', 'ft.', 'tall', 'top', 'hat', '.', 'The', 'Ventriloquist', 'is', 'now', 'called', 'Scarface', 'making', 'the', 'Dummy', 'the', 'whole', 'centerpiece', 'for', 'the', 'character', '.', 'They', 'even', 'got', 'a', 'dumb', 'idea', 'to', 'make', 'him', 'a', 'giant', '!', 'wtf', '?', 'and', 'the', 'two', 'worst', 'character', 'changes', 'are', 'that', 'of', 'The', 'Joker', 'and', 'Riddler', '.', 'they', 'have', 'changed', 'Riddler', 'to', 'a', 'Gothic/retro', 'teenage', 'freak', '.', 'and', 'The', 'Joker', 'to', 'an', 'acrobat', 'with', 'dreads', '.', 'He', 'looks', 'like', 'a', 'bob', 'Marley', 'wannabe', '.', 'they', 'have', 'completely', 'and', 'utterly', 'ruined', 'batman', 'even', 'moreso', 'than', 'B', '&', 'R', 'did', '!', 'i', 'wish', 'i', 'could', 'meet', 'the', 'creators', 'and', 'or', 'writers', 'and', 'animators', 'of', 'this', 'show', 'so', 'i', 'could', 'whack', 'them', 'in', 'the', 'head', 'with', 'a', 'metal', 'baseball', 'bat', '.'], ['When', 'a', 'film', 'is', 'independent', 'and', 'not', 'rated', ',', 'such', 'as', 'the', 'Hamiltons', ',', 'I', 'was', 'expecting', 'out', 'of', 'the', 'norm', ',', 'cut', 'out', 'your', 'heart', 'violence', '.', 'I', 'know', 'that', 'good', 'movies', 'do', \"n't\", 'always', 'contain', 'blood', 'and', 'violence', ',', 'but', 'I', 'read', 'reviews', ',', 'I', 'visited', 'the', 'website', ',', 'and', 'I', 'even', 'convinced', 'a', 'few', 'of', 'my', 'friends', 'to', 'pay', '$', '9.50', 'to', 'see', 'this', 'god', 'awful', 'movie', 'with', 'me', '.', 'When', 'there', 'is', 'a', 'festival', 'called', 'Horrorfest', ',', 'I', 'am', 'expecting', 'horror', ',', 'not', 'Dawsons', 'Creek', 'with', 'incestuous', 'undertones', '.', 'My', 'expectations', 'were', 'extremely', 'low', 'for', 'this', 'film', ',', 'yet', 'the', 'little', 'expectations', 'there', 'was', 'for', 'the', 'film', 'were', 'shot', 'to', 'hell', 'once', 'I', 'saw', 'that', 'an', 'hour', 'had', 'passed', 'before', 'we', 'saw', 'the', 'first', 'drop', 'of', 'blood', 'come', 'out', 'of', 'someones', 'finger', '.', 'There', 'were', 'too', 'many', 'plot', 'holes', 'and', 'left', 'too', 'much', 'to', 'the', 'imagination', '.', 'I', 'regret', 'not', 'seeing', 'Happy', 'Feet', '.', 'I', 'think', 'there', 'might', 'have', 'been', 'more', 'violence', 'and', 'gore', 'in', 'that', 'movie', 'than', 'in', 'the', 'Hamiltons', '!'], ['Did', 'I', 'step', 'in', 'something', 'or', 'is', 'that', 'bad', 'smell', 'coming', 'from', 'Daybreak', '1', '+', '2', '?', 'God', 'was', 'behind', 'everything', '?', 'What', 'has', 'God', 'got', 'to', 'do', 'with', 'Sci-Fi', '?', 'God', 'is', 'only', 'the', 'answer', 'when', 'you', 'ca', \"n't\", 'think', 'up', 'a', 'sensible', 'explanation', 'for', 'something', '.', 'In', 'fact', ',', 'this', 'is', 'exactly', 'the', 'problem', 'with', 'the', 'series', 'finale', '-', 'they', 'obviously', 'could', \"n't\", 'think', 'up', 'sensible', 'explanations', 'for', 'the', 'multitude', 'of', 'big', 'questions', 'that', 'were', 'raised', 'throughout', 'the', 'series', 'such', 'as', 'how', 'Kara', 'Thrace', 'come', 'back', 'from', 'the', 'dead', 'in', 'a', 'brand', 'new', 'viper', ',', 'how', 'her', 'old', 'viper', 'and', 'charred', 'body', 'ended', 'up', 'on', 'Earth', '2', ',', 'why', 'Baltar', 'has', 'an', 'imaginary', '6', 'in', 'his', 'head', ',', 'why', '6', 'has', 'an', 'imaginary', 'Baltar', 'in', 'her', 'head', ',', 'etc', '.', 'so', 'they', 'explain', 'it', 'with', '``', 'angels', \"''\", 'or', 'just', 'do', \"n't\", 'explain', 'it', 'at', 'all', '.', 'The', 'plot', 'of', 'the', 'last', '2', 'episodes', 'had', 'holes', 'big', 'enough', 'to', 'fly', 'a', 'Basestar', 'through', '.', 'For', 'example', ',', 'why', 'does', 'Galactica', 'and', 'its', 'crew', 'go', 'on', 'a', 'suicide', 'mission', 'to', 'rescue', 'one', 'girl', '(', 'Hera', ')', ',', 'particularly', 'after', 'Adama', 'said', 'there', 'was', 'no', 'way', 'he', \"'d\", 'attempt', 'a', 'rescue', '?', 'Because', 'they', 'found', 'out', 'the', 'location', 'of', 'the', 'Cylon', 'base', '?', 'That', \"'s\", 'not', 'a', 'good', 'reason', 'to', 'sacrifice', 'the', 'crew', \"'s\", 'lives', '.', 'And', 'how', 'did', 'Anders', 'know', 'the', 'location', '?', 'And', 'what', 'was', 'the', 'point', 'of', 'the', 'flashbacks', 'to', 'the', 'major', 'characters', \"'\", 'lives', 'before', 'the', 'war', '?', 'It', \"'s\", 'like', 'they', 'forgot', 'to', 'do', 'it', 'earlier', 'so', 'they', 'threw', 'something', 'in', 'at', 'the', 'last', 'moment', '.', 'The', 'people', 'who', 'wrote', 'the', 'last', 'two', 'episodes', 'could', 'not', 'have', 'been', 'the', 'same', 'writers', 'who', 'created', 'what', 'has', 'been', 'so', 'far', 'a', 'sensational', 'series', '.', 'Feels', 'like', 'the', 'script', 'writing', 'was', 'take', 'over', 'by', 'evangelical', 'Christians', 'on', 'a', 'mission', 'to', 'spread', \"'The\", 'Word', \"'\", '.', 'Forget', 'trying', 'to', 'tie', 'up', 'the', 'loose', 'ends', 'in', 'the', 'plot', ',', 'the', 'important', 'message', 'the', 'writers', 'wanted', 'to', 'get', 'across', 'is', ':', 'do', \"n't\", 'put', 'your', 'faith', 'in', 'technology', 'as', 'it', 'will', 'lead', 'to', 'your', 'destruction', ';', 'God', 'is', 'your', 'ultimate', 'salvation', '(', 'tough', 'luck', 'if', 'you', 'have', 'an', 'illness', 'that', 'needs', 'medical', 'treatment', ')', '.', 'Imagine', 'in', 'the', 'final', 'movie', 'of', 'the', 'Star', 'Wars', 'series', 'they', 'tell', 'you', 'there', 'is', 'no', '``', 'force', \"''\", '...', 'instead', ',', 'a', 'Jedi', 'actually', 'gets', 'his', 'power', 'from', 'Jesus', '.', 'Then', 'they', 'fly', 'their', 'spaceships', 'into', 'the', 'nearest', 'star', 'and', 'go', 'live', 'in', 'the', 'forest', 'with', 'the', 'Ewoks', '.', 'Would', 'this', 'be', 'a', 'good', 'ending', '?', 'No', 'it', 'frakken', \"'\", 'would', \"n't\", '.'], ['This', 'story', 'had', 'a', 'different', 'angle', 'that', 'intrigued', 'me', ',', 'enough', 'to', 'buy', 'a', 'previously-viewed', 'VHS', 'sight-unseen', '.', 'That', 'was', 'a', 'mistake', '.', 'In', 'what', 'could', 'have', 'been', 'a', 'very', 'nice', 'story', '-', 'about', 'badly', 'crippled', 'people', 'at', 'a', 'hospital', ',', 'and', 'their', 'various', 'personalities', '-', 'turned', 'quickly', 'into', 'a', 'very', 'profane', 'soap', 'opera', 'with', 'unlikeable', 'characters', '.', 'We', 'have', '``', 'Bloss', \"''\", '(', 'William', 'Forsythe', ')', 'the', 'stereotype', 'racist', 'white', 'person', ',', 'who', 'says', 'the', 'f-word', 'every', 'other', 'sentence', 'and', 'is', 'so', 'despicable', 'they', 'did', \"n't\", 'give', 'him', 'a', 'first', 'name', 'in', 'the', 'movie', '.', 'He', \"'s\", 'a', 'lot', 'of', 'fun', 'to', 'be', 'around', '.', 'Then', ',', 'there', 'is', '``', 'Raymond', 'Hill', \"''\", '(', 'Wesley', 'Snipes', ')', ',', 'a', 'fast-talking', 'womanizer', '.', 'Snipes', 'must', 'have', 'liked', 'those', 'fast-talking', '``', 'hip', \"''\", 'arrogant', 'roles', 'because', 'he', 'played', 'in', 'a', 'number', 'of', 'them', ',', 'like', 'in', '``', 'White', 'Men', 'Ca', \"n't\", 'Jump', '.', \"''\", 'Then', 'there', 'is', 'sweet', 'Helen', 'Hunt', 'playing', '``', 'Anna', \"''\", 'that', 'wonderful', 'caring', ',', 'loving', 'person', 'who', 'is', 'having', 'an', 'adulterous', 'affair', 'with', 'the', 'leading', 'character', 'in', 'the', 'film', ',', '``', 'Joel', 'Garcia', \"''\", '(', 'Eric', 'Stoltz', ')', '.', 'Yup', ',', 'this', 'is', 'heartwarming', ',', 'feel-good', 'type', 'stuff', '.', 'It', 'just', 'makes', 'my', 'heart', 'melt', 'watching', 'these', 'nice', 'folks', '.', 'But', ',', 'if', 'you', 'are', 'one', 'of', 'those', 'who', 'loves', 'sleazy', 'characters', 'portrayed', 'by', 'sleazy', 'people', 'in', 'this', 'sleazy', 'film', '...', '..you', 'might', 'really', 'like', 'this', '!', 'Add', 'in', 'a', 'dose', 'of', 'Hollywood', 'political', 'correctness', 'and', 'there', 'you', 'go', '!', 'What', 'more', 'could', 'anyone', 'want', '?'], ['The', 'plot', ',', 'character', 'development', ',', 'and', 'gags', 'in', 'this', 'movie', 'are', 'all', 'extremely', 'weak', '.', 'Quite', 'a', 'waste', 'of', 'time', '.', 'The', 'conclusion', 'of', 'Saving', 'Grace', 'is', 'supposed', 'to', 'make', 'one', 'feel', 'warm', 'and', 'fuzzy', 'as', 'though', 'the', 'characters', 'have', 'grown', 'through', 'their', 'struggles', '.', 'There', 'was', 'no', 'such', 'development', 'to', 'make', 'such', 'warm', 'fuzzy', 'feelings', 'possible', '.', 'The', 'drug', 'gags', 'are', 'cliched', 'and', 'much', 'of', 'the', 'movie', 'does', \"n't\", 'ring', 'true', 'to', 'life', '.', 'The', 'plot', 'builds', 'what', 'is', 'supposed', 'to', 'be', 'tension', 'but', 'the', 'characters', 'are', \"n't\", 'developed', 'enough', 'to', 'care', '.', 'Then', 'it', 'rushes', 'through', 'a', 'resolution', 'of', 'all', 'the', 'outstanding', 'problems', 'in', 'about', 'a', 'minute', 'of', 'screen', 'time', 'leaving', 'the', 'viewer', 'feeling', 'like', 'they', 'have', 'just', 'wasted', 'their', 'time', '.'], ['This', 'film', 'is', 'shoddily-made', ',', 'unoriginal', 'garbage', '.', 'I', 'like', 'romantic', 'comedies', 'sometimes', '.', 'Watching', 'a', 'good', 'one', 'is', 'like', 'eating', 'ice', 'cream', 'for', 'dinner', '.', 'It', \"'s\", 'not', 'something', 'you', 'are', 'going', 'to', 'do', 'all', 'the', 'time', ',', 'but', 'the', 'experience', 'is', 'so', 'pleasurable', 'that', 'you', 'can', 'ignore', 'how', 'unwise', 'you', 'are', 'being', '.', 'This', 'movie', 'made', 'me', 'think', 'about', 'how', 'stupid', 'I', 'was', 'for', 'continuing', 'to', 'remain', 'seated', 'for', 'its', 'entire', 'running', 'time', '.', 'Everything', 'about', 'it', 'screamed', 'made', 'on', 'the', 'cheap', '.', 'It', 'actually', 'looks', 'like', 'they', 'overexposed', 'the', 'film', 'at', 'certain', 'points', 'it', 'is', 'so', 'washed', 'out', '.', 'It', 'boasts', 'cheesy', 'CGI', 'and', 'lame', 'sets', ',', 'too', '.', 'The', 'writing', 'was', 'clunky', '.', 'I', 'know', 'that', 'you', 'can', 'usually', 'expect', 'some', 'plot', 'problems', 'in', 'a', 'screwball', 'comedy', ',', 'but', 'you', 'usually', 'do', \"n't\", 'really', 'care', 'because', 'you', 'are', 'laughing', '.', 'This', 'movie', 'is', 'so', 'unfunny', 'that', 'you', 'actually', 'sit', 'there', 'and', 'wonder', 'about', 'the', 'unlikely', 'series', 'of', 'coincidences', 'and', 'completely', 'unbelievable', 'behavior', 'involved', '.', 'Events', 'were', 'placed', 'in', 'the', 'film', 'just', 'to', 'move', 'the', 'characters', 'from', 'one', 'scene', 'to', 'the', 'next', 'or', 'to', 'provide', 'exposition', '.', 'Sure', ',', 'this', 'is', 'how', 'all', 'movies', 'work', ',', 'but', 'you', 'should', \"n't\", 'notice', 'that', 'it', \"'s\", 'happening', '.', 'Inelegant', '.', 'That', \"'s\", 'the', 'term', 'I', 'should', 'use', '.', 'There', 'was', 'almost', 'no', 'one', 'in', 'the', 'movie', 'who', 'was', 'really', 'likable', '.', 'I', 'did', \"n't\", 'care', 'who', 'ended', 'up', 'with', 'whom', ',', 'as', 'long', 'as', 'they', 'all', 'stayed', 'the', 'hell', 'away', 'from', 'me', ',', 'and', 'I', 'did', \"n't\", 'have', 'to', 'listen', 'to', 'them', 'talk', 'about', 'it', 'anymore', '.', 'Why', 'would', 'the', 'only', 'really', 'cool', 'character', 'in', 'the', 'movie', ',', 'the', 'Paul', 'Rudd', 'character', ',', 'want', 'to', 'have', 'anything', 'to', 'do', 'with', 'the', 'completely', 'bitchy', ',', 'condescending', ',', 'control', 'freak', 'played', 'by', 'Eva', 'Longoria', '?', 'Also', ',', 'almost', 'all', 'of', 'the', 'characters', 'involved', 'consistently', 'picked', 'the', 'sleaziest', 'solution', 'to', 'any', 'situation', '.', 'A', 'straight', 'man', 'pretends', 'to', 'be', 'gay', 'for', 'five', 'years', 'just', 'to', 'hang', 'out', '(', 'and', 'bathe', 'with', ')', 'with', 'a', 'woman', 'he', 'is', 'attracted', 'to', '?', 'The', 'best', 'feel-good', 'moment', 'they', 'could', 'come', 'up', 'with', 'was', 'to', 'tack', 'on', 'a', 'happy', 'ending', 'for', 'the', 'same', 'schmoe', 'where', 'he', 'gets', 'together', 'with', 'Rudd', \"'s\", 'equally', 'annoying', 'lying', ',', 'kleptomaniac', 'sister', '?', 'Lake', 'Bell', 'and', 'Eva', 'Longoria', 'are', 'very', 'attractive', ',', 'appealing', 'women', '.', 'Maybe', 'they', 'will', 'find', 'something', 'better', 'to', 'appear', 'in', 'down', 'the', 'road', '.'], ['I', \"'m\", 'glad', 'some', 'people', 'liked', 'this', ',', 'but', 'I', 'hated', 'this', 'film', '.', 'It', 'had', 'a', 'very', 'good', 'idea', 'for', 'a', 'story', 'line', ',', 'but', 'that', \"'s\", 'where', 'it', 'ended', '.', 'It', 'was', 'badly', 'written', ',', 'badly', 'acted', 'and', 'badly', 'made', '.', 'It', 'had', 'some', 'interesting', 'plot', 'points', ',', 'but', 'they', 'were', 'just', 'skipped', 'over', 'too', 'fast', ',', 'the', 'writers', 'needed', 'to', 'realize', 'what', 'to', 'keep', 'in', 'and', 'expand', 'on', 'these', 'bits', ',', 'like', 'lying', 'about', 'why', 'she', 'was', 'kidnapped', ',', 'and', 'ditch', 'the', 'dross', '.', 'Instead', 'it', 'was', '``', 'what', \"'s\", 'going', 'on', '?', '``', ',', '5', 'seconds', 'later', 'they', 'tell', 'you', '.', 'This', 'film', 'had', 'no', 'suspense', ',', 'and', 'I', 'was', 'bored', 'from', 'start', 'to', 'end', '.', 'I', 'just', 'wanted', 'it', 'to', 'finish', '.', 'Go', 'and', 'rent', 'misery', ',', 'or', 'best', 'laid', 'plans', 'if', 'you', 'want', 'suspense', 'or', 'twists', 'that', 'keep', 'you', 'guessing', 'to', 'the', 'end', '.'], ['It', ',', 'at', 'all', ',', 'you', 'have', 'seen', 'when', 'harry', 'met', 'sally', ',', 'then', 'avoid', 'this', 'one', '.', 'It', 'will', 'not', 'only', 'make', 'you', 'bang', 'your', 'head', 'on', 'the', 'table', 'as', 'why', 'ca', \"n't\", 'bollywood', 'even', 'make', 'a', 'good', 'remake', ';', 'but', 'also', 'annoy', 'you', 'with', 'the', 'so', 'called', 'funny', 'moments', 'in', 'it', '.', 'The', 'charm', 'of', 'the', 'movie', 'is', 'missing', '.', 'Ranee', 'looks', 'terrible', '.', 'Saif', 'tries', 'to', 'act', 'like', 'he', 'is', 'one', 'hell', 'of', 'an', 'actor', '.', 'The', 'plots', 'that', 'have', 'been', 'picked', 'up', 'from', 'the', 'original', ',', 'do', \"n't\", 'look', 'effective', 'either', '.', 'The', 'part', 'where', 'both', 'of', 'them', 'bring', 'their', 'friends', 'along', 'and', 'they', 'hit', 'a', 'note', ',', 'it', 'just', 'does', \"n't\", 'look', 'appealing', '.', 'What', 'can', 'be', 'more', 'disastrous', '?', 'you', 'wan', 'na', 'waste', 'some', 'money', ',', 'this', 'is', 'what', 'you', 'can', 'get', '.', 'Otherwise', ',', 'put', 'some', 'more', 'bucks', ',', 'and', 'watch', 'the', 'original', '.', 'Its', 'too', 'good', 'to', 'miss..'], ['This', 'was', 'a', 'fairly', 'creepy', 'movie', ';', 'I', 'found', 'the', 'music', 'to', 'be', 'effective', 'for', 'this', '.', 'The', 'photographs', 'Mario', 'took', 'of', 'the', 'village', 'were', 'also', 'unnerving', '.', 'However', ',', 'I', 'had', 'three', 'problems', 'with', 'this', 'film', '.', 'One', 'is', 'that', 'the', 'lighting', 'was', 'very', 'dark', 'so', 'some', 'of', 'the', 'time', 'it', 'was', 'hard', 'to', 'tell', 'what', 'was', 'going', 'on', ',', 'but', 'this', 'may', 'have', 'just', 'been', 'my', 'copy', '.', 'The', 'second', 'is', 'that', 'the', 'very', 'beginning', 'is', 'not', 'explained', 'very', 'well', 'and', 'I', \"'m\", 'still', 'not', 'sure', 'what', 'was', 'going', 'on', 'there', '.', 'The', 'third', 'problem', 'is', 'that', 'I', 'did', \"n't\", 'understand', 'the', 'ending', ',', 'but', 'apparently', 'some', 'people', 'do', '.', 'Of', 'course', 'there', 'are', 'also', 'the', 'usual', 'problems', 'of', 'people', 'doing', 'stupid', 'things', ',', 'and', 'the', 'male', 'lead', 'is', 'very', '70s', '.', 'All', 'in', 'all', ',', 'watchable', 'but', 'not', 'even', 'close', 'to', 'being', 'a', 'favorite', '.'], ['I', 'saw', 'the', 'capsule', 'comment', 'said', '``', 'great', 'acting', '.', \"''\", 'In', 'my', 'opinion', ',', 'these', 'are', 'two', 'great', 'actors', 'giving', 'horrible', 'performances', ',', 'and', 'with', 'zero', 'chemistry', 'with', 'one', 'another', ',', 'for', 'a', 'great', 'director', 'in', 'his', 'all-time', 'worst', 'effort', '.', 'Robert', 'De', 'Niro', 'has', 'to', 'be', 'the', 'most', 'ingenious', 'and', 'insightful', 'illiterate', 'of', 'all', 'time', '.', 'Jane', 'Fonda', \"'s\", 'performance', 'uncomfortably', 'drifts', 'all', 'over', 'the', 'map', 'as', 'she', 'clearly', 'has', 'no', 'handle', 'on', 'this', 'character', ',', 'mostly', 'because', 'the', 'character', 'is', 'so', 'poorly', 'written', '.', 'Molasses-like', 'would', 'be', 'too', 'swift', 'an', 'adjective', 'for', 'this', 'film', \"'s\", 'excruciating', 'pacing', '.', 'Although', 'the', 'film', \"'s\", 'intent', 'is', 'to', 'be', 'an', 'uplifting', 'story', 'of', 'curing', 'illiteracy', ',', 'watching', 'it', 'is', 'a', 'true', '``', 'bummer', '.', \"''\", 'I', 'give', 'it', '1', 'out', 'of', '10', ',', 'truly', 'one', 'of', 'the', 'worst', '20', 'movies', 'for', 'its', 'budget', 'level', 'that', 'I', 'have', 'ever', 'seen', '.'], ['This', 'movie', 'is', 'the', 'biggest', 'steaming', 'pile', 'of', 'you', 'know', 'what', ',', 'Being', 'from', 'and', 'growing', 'up', 'in', 'Wichita', 'Kansas', ';', 'I', 'know', 'for', 'a', 'fact', '90', '%', 'of', 'the', 'movie', 'was', 'Bogus', '.', 'Aside', 'from', 'the', 'names', 'of', 'some', 'of', 'the', 'victims', ',', 'nothing', 'else', 'much', 'was', 'correct', '.', 'The', 'movie', 'looks', 'like', 'it', 'was', 'made', 'with', 'dad', \"'s\", 'handy-cam', ',', 'It', 'had', 'footage', 'that', 'I', 'believe', 'came', 'from', 'another', 'film', 'along', 'with', 'stock', 'footage', 'from', 'a', 'slaughter', 'house', '.', 'I', 'usually', 'enjoy', 'watching', 'bad', 'films', 'for', 'the', 'fun', 'of', 'it', ',', 'but', 'due', 'to', 'the', 'bad', 'acting', ',', 'poorly', 'prepared', 'or', 'non', 'existent', 'sets', 'and', 'a', 'very', 'dull', 'and', 'short', 'ending.It', 'was', 'a', 'struggle', 'to', 'watch', 'it', 'through', 'to', 'the', 'ending', '.', 'I', 'recommend', 'that', 'you', 'not', 'waste', 'your', 'money', 'on', 'this', 'film', 'or', 'you', 'will', 'be', 'sorry', '.', 'Crunch'], ['On', 'his', 'birthday', 'a', 'small', 'boys', 'tells', 'his', 'mother', 'he', 'is', 'not', 'her', 'son', ',', 'and', 'that', 'he', 'wants', 'to', 'go', 'home', 'to', 'his', 'real', 'mother', '.', 'In', 'some', 'ways', 'Comedy', 'De', \"L'Innocence\", 'feels', 'like', 'it', 'comes', 'from', 'a', 'different', 'time', 'of', 'movie-making', ',', 'perhaps', 'the', '60', \"'s\", 'or', '70', \"'s\", '.', 'Certainly', 'it', 'reminded', 'me', 'of', 'Losey', \"'s\", 'Secret', 'Ceremony', '(', '1968', ')', ',', 'and', 'Richard', 'Loncraine', \"'s\", 'Full', 'Circle', '(', '1977', ')', ',', 'both', 'of', 'which', 'deal', 'with', 'loss', ',', 'grief', 'and', 'relationships', 'between', 'parents', 'and', \"'lost\", \"'\", 'children', '(', 'curiously', 'both', 'films', 'star', 'Mia', 'Farrow', ')', '.', 'All', 'three', 'films', 'are', 'populated', 'with', 'unsympathetic', 'characters', 'who', 'behave', 'in', 'strange', 'and', 'unexplained', 'ways', '.', 'All', 'three', 'films', 'have', 'a', 'chilly', 'feel', ',', 'both', 'emotionally', 'and', 'literally', '.', 'All', 'three', 'films', 'focus', 'on', 'mother-child', 'relationships', ',', 'and', 'ultimately', 'all', 'three', 'films', 'pose', 'the', 'question', '-', \"'what\", 'is', 'real', ',', 'what', 'is', 'imagined', '?', \"'\", 'Beautiful', 'but', 'flawed', ',', 'it', 'offers', 'no', 'easy', 'answers', 'and', 'leaves', 'much', 'hanging', ',', 'unexplained', 'and', 'strange', '.'], ['The', 'Prophecy', 'II', ',', 'what', \"'s\", 'there', 'to', 'say', 'about', 'it', '?', 'They', \"'ve\", 'completely', 'abandoned', 'the', 'originality', 'of', 'the', 'first', 'film', ',', 'and', 'simply', 'made', 'a', 'Chris', 'Walken', 'splatter', 'film', '.', 'It', \"'s\", 'not', 'even', 'written', 'by', 'the', 'original', 'writer', '!', 'If', 'you', \"'ve\", 'seen', 'Nr', '.', '1', 'do', \"n't\", 'watch', 'Nr', '.', '2', 'it', \"'s\", 'a', 'real', 'disappointment', '...', 'If', 'you', 'have', \"n't\", 'seen', 'Nr', '.', '1', 'do', \"n't\", 'watch', 'Nr', '.', '2', '!', 'Go', 'see', 'Nr', '.', '1', 'to', 'experience', 'something', 'original', 'and', 'fun'], ['This', 'was', 'the', 'only', 'time', 'I', 'ever', 'walked', 'out', 'on', 'a', 'movie', '.', 'Years', 'later', ',', 'I', 'saw', 'it', 'in', 'the', 'cable', 'listings', 'and', 'thought', ',', '``', 'Maybe', 'I', 'should', 'give', 'it', 'another', 'try', '.', \"''\", 'Suffice', 'to', 'say', 'that', 'I', 'was', 'right', 'the', 'first', 'time', '.', 'This', 'ranks', 'second', 'only', 'to', 'Godzilla', '1998', 'as', 'the', 'worst', 'movie', 'I', \"'ve\", 'ever', 'seen', '.'], ['What', 'else', 'is', 'left', 'to', 'say', '?', 'I', \"'ve\", 'read', 'all', 'the', 'reviews', 'here', 'and', 'most', 'are', 'right', 'on', '.', '.', 'However', ',', 'one', 'person', 'even', 'went', 'so', 'far', 'as', 'to', 'call', 'this', 'movie', 'evil', 'and', 'that', 'Satan', 'tainted', 'it', '(', 'or', 'something', 'along', 'those', 'lines', ')', '.', 'Evil', '?', '!', 'Wow', ',', 'what', 'a', 'shocker', '.', '.', 'I', 'mean', ',', 'TBN', 'basically', 'made', 'this', 'film', '.', 'Open', 'your', 'eyes', 'please', '.', 'Anway', ',', 'this', 'was', 'the', 'very', 'lowest', 'grade', 'of', 'propoghanda', 'nonsense', 'that', 'has', 'come', 'along', 'in', 'years', '.', 'The', 'most', 'terrifying', 'thing', 'about', 'Omega', 'Code', 'is', 'how', 'much', 'money', 'they', 'spent', 'to', 'make', 'it', '.', 'If', 'this', 'movie', 'can', 'be', 'made', ',', 'there', 'are', 'no', 'limits', ',', 'and', 'therefore', ',', 'we', 'have', 'no', 'choice', 'but', 'to', 'get', 'ready', 'for', '``', 'Yentl', '2', \"''\", ',', 'and', '``', 'Ernest', 'Loses', 'the', 'Omega', 'Codes', '.', \"''\", 'For', 'those', 'of', 'you', 'who', 'are', 'into', 'the', 'biblical', 'stories', ',', 'the', 'new', 'movie', 'Dogma', 'will', 'pickup', 'where', 'Omega', 'Code', 'never', 'started', '.'], ['Last', 'week', ',', 'I', 'took', 'a', 'look', 'at', 'the', 'weekly', 'Nielsen', 'ratings', ',', 'and', 'there', 'was', 'Veronica', 'Mars', ',', 'supposedly', '``', 'the', 'best', 'show', 'you', \"'re\", 'not', 'watching', \"''\", '.', 'Well', ',', 'they', \"'re\", 'right', 'that', 'you', \"'re\", 'not', 'watching', 'it', '.', 'It', 'aired', 'twice', 'and', 'was', 'ranked', '147', 'and', '145', 'out', 'of', '147', '.', 'Translation', ':', 'this', 'is', 'the', 'lowest-rated', 'show', 'on', 'any', 'nationally', 'broadcast', 'network', '...', 'and', 'deservedly', 'so', '.', 'I', 'tried', 'to', 'watch', 'it', 'a', 'couple', 'of', 'times', 'because', 'of', 'all', 'the', 'press', 'coverage', 'hyping', 'it', 'as', 'a', '``', 'great', \"''\", 'show', ',', 'a', '``', 'realistic', 'look', \"''\", 'at', 'life', 'and', 'all', 'such', 'nonsense', '.', 'The', 'reality', 'was', 'otherwise', '.', 'Veronica', 'Mars', 'is', 'a', 'bore', '.', 'It', \"'s\", 'as', 'unrealistic', 'as', 'it', 'gets', ',', 'and', 'it', 'richly', 'deserves', 'to', 'be', 'canceled', '.', 'The', 'only', 'Mystery', 'is', 'why', 'CW', 'felt', 'compelled', 'to', 'put', 'on', 'its', 'inaugural', 'schedule', 'the', 'lowest-rated', 'show', 'in', 'memory', ',', 'after', 'two', 'years', 'of', 'continued', 'commercial', 'and', 'artistic', 'failure', '.'], ['I', 'really', 'do', 'fail', 'to', 'see', 'the', 'actual', 'surplus', 'value', 'of', 'this', 'movie', '.', 'It', \"'s\", 'not', 'bad', 'enough', 'to', 'be', 'hilarious', '.', 'There', \"'s\", 'no', 'sleaze', 'or', 'gratuitous', 'nudity', '(', 'although', 'there', 'was', 'plenty', 'of', 'opportunity', ')', '.', 'There', \"'s\", 'no', 'gore', '.', 'There', \"'s\", 'no', 'suspense', 'in', 'the', 'first', 'hour', 'of', 'the', 'movie', \"'cause\", 'there', \"'s\", 'way', 'to', 'much', 'scenes', 'of', 'tourist', 'having', 'a', 'party', 'and', 'natives', 'playing', 'funky', 'tribal', 'music', '.', 'That', 'last', 'part', 'was', 'actually', 'funny', 'on', 'many', 'occasions', ':', 'You', 'see', 'these', 'natives', 'hitting', 'congas', 'and', \"'jembés\", \"'\", 'and', 'that', \"'s\", 'indeed', 'what', 'you', 'hear', '(', 'badly', 'synchronized', ')', 'on', 'the', 'soundtrack', '.', 'But', 'they', 'also', 'added', 'this', 'funky', 'bass-line', 'on', 'the', 'soundtrack', '.', 'So', ',', 'where', 'was', 'the', 'bass-player', '?', 'At', 'one', 'point', 'the', 'natives', 'get', 'angry', 'and', 'start', 'killing', 'the', 'tourists', '.', 'Why', 'all', 'of', 'the', 'sudden', '?', 'It', \"'s\", 'supposed', 'to', 'be', 'because', 'the', 'evil', 'white', 'men', 'build', 'this', 'tourist', 'complex', ',', 'which', 'according', 'to', 'their', 'myth', 'awakened', 'the', 'wrath', 'of', 'the', 'river-alligator-god', '(', 'I', 'actually', 'missed', 'the', 'explanation', 'for', 'that', 'one', ')', '.', 'But', 'the', 'natives', 'did', 'help', 'for', 'several', 'months', 'to', 'build', 'the', 'tourist', 'complex', ',', 'so', 'why', 'the', 'sudden', 'angriness', '?', 'And', 'how', 'in', 'the', 'hell', 'did', 'they', 'manage', 'to', 'push', 'the', 'helicopter', 'in', 'the', 'water', '?', '?', '?', 'It', \"'s\", 'all', 'silly', 'and', 'pointless', '.', 'This', 'movie', 'also', 'features', 'the', 'skinniest', 'Afro-American', 'model', 'I', \"'ve\", 'ever', 'seen', '.', 'At', 'one', 'point', 'our', 'heroic', 'leading', 'couple', 'visits', 'this', 'cave', 'where', 'a', 'weird', ',', 'crazy', 'old', 'man', 'lives', '.', 'The', 'only', 'point', 'to', 'that', 'scene', 'is', 'that', 'they', 'make', 'the', '``', 'shocking', \"''\", 'discovery', 'that', 'the', 'killer-crocodile', 'is', 'actually', 'an', 'alligator', '.', 'Crocodile', 'or', 'alligator', ',', 'what', \"'s\", 'the', 'difference', '?', 'It', \"'s\", 'big', ',', 'it', \"'s\", 'made', 'out', 'of', 'plastic', 'and', 'it', 'eats', 'people', '.', 'All', 'the', 'same', 'to', 'me', '.', 'The', 'alligator', 'is', 'a', 'rather', 'silly', 'creation', '.', 'It', \"'s\", 'very', 'stiff', '&', 'motionless', 'and', 'does', \"n't\", 'even', 'flap', 'its', 'feet', 'when', 'it', 'swims', '.', 'The', 'eyes', 'do', \"n't\", 'even', 'move', 'when', 'they', \"'re\", 'shot', 'in', 'close-up', '.', 'I', 'guess', 'they', 'did', \"n't\", 'know', \"'animatronics\", \"'\", 'back', 'then', 'in', 'Italy', 'during', '1979', '.', 'There', \"'s\", 'also', 'a', 'lot', 'of', 'pointless', 'inter-cut', 'shots', 'of', 'the', 'local', 'wildlife', '.', 'I', 'suspect', 'it', \"'s\", 'stock', 'footage', '.', 'Like', ',', 'I', 'said', ',', 'the', 'first', 'hour', 'was', 'pretty', 'lame', 'and', 'the', 'only', 'reason', 'I', 'did', \"n't\", 'switch', 'off', 'the', 'movie', 'was', 'because', 'my', 'cat', 'was', 'asleep', 'on', 'my', 'lap', 'and', 'I', 'did', \"n't\", 'want', 'to', 'wake', 'the', 'sweet', 'thing', '.', 'But', 'the', 'last', 'half', 'hour', 'of', 'the', 'movie', 'did', 'get', 'better', '.', 'We', 'finally', 'get', 'to', 'see', 'some', 'action', 'when', 'the', 'alligator', 'swims', 'through', 'a', 'horde', 'of', 'panicking', 'people', 'snapping', 'its', 'teeth', 'and', 'munching', 'on', 'them', '.', 'The', 'most', 'entertaining', '(', 'and', 'at', 'the', 'same', 'time', 'funny', ')', 'scene', 'is', 'when', 'Alice', 'and', 'Daniel', 'drive', 'a', 'van', 'over', 'a', 'bridge', 'and', 'it', 'collapses', '.', 'We', \"'re\", 'looking', 'at', 'a', 'matchbox-version', 'of', 'the', 'van', 'falling', 'in', 'the', 'river', 'here', '.', 'Funny', '.', 'But', 'nicely', 'shot', '.', 'In', 'fact', 'there', 'are', 'several', 'other', 'nice', 'traveling', 'camera-moves', '.', 'Surprisingly', 'for', 'this', 'type', 'of', 'flick', '.', 'I', 'was', 'gon', 'na', 'point', 'out', 'some', 'stupid', 'details', 'concerning', 'the', 'end', 'of', 'the', 'movie', ',', 'but', 'I', 'do', \"n't\", 'wan', 'na', 'spoil', 'it', 'completely', ',', 'in', 'case', 'you', 'do', 'decide', 'to', 'watch', 'this', 'movie', '.', 'My', 'advice', 'is', 'to', 'stay', 'away', 'from', 'it', '.', 'If', 'you', 'wan', 'na', 'see', 'a', 'decent', 'alligator', 'movie', ',', 'then', 'see', 'Lewis', 'Teague', \"'s\", 'ALLIGATOR', '.', 'I', 'admit', ',', 'that', 'one', 'is', \"n't\", 'Italian', 'and', 'is', \"n't\", 'a', 'JAWS', 'rip-off', ',', 'but', 'it', 'certainly', 'is', 'more', 'fun', '.', 'And', 'if', 'you', \"'re\", 'interested', 'in', 'other', 'movies', 'made', 'by', 'director', 'Sergio', 'Martino', ',', 'then', 'I', 'strongly', 'recommend', 'the', 'highly', 'entertaining', '2019', ':', 'AFTER', 'THE', 'FALL', 'OF', 'NEW', 'YORK', '.', 'That', 'one', \"'s\", 'an', 'over-the-top', 'rip-off', 'of', 'every', 'possible', 'existing', 'post-apocalyptic-future-of-doom-movie', '.', '``', 'Italians', \"''\", 'and', '``', 'rip-offs', \"''\", ',', 'two', 'words', 'that', 'go', 'together', 'very', 'well', '.'], ['I', 'really', 'wanted', 'to', 'like', 'this', ',', 'but', 'in', 'the', 'end', 'it', \"'s\", 'a', 'poorly', 'made', 'film', 'with', 'too', 'few', 'laughs', '.', 'The', 'politics', 'are', 'spot', 'on', ',', 'it', \"'s\", 'gon', 'na', 'offend', 'the', 'hell', 'out', 'of', 'republicans', 'but', 'that', \"'s\", 'what', 'it', \"'s\", 'designed', 'to', 'do', '.', 'That', 'alone', 'gives', 'me', 'reason', 'to', 'chuckle', '.', 'The', 'problem', 'is', ',', 'it', 'looks', 'like', 'it', 'was', 'made', 'in', 'a', 'REAL', 'hurry', '(', 'like', 'about', 'a', 'week', ')', '.', 'And', 'it', 'contains', 'a', 'stupid', 'subplot', 'about', 'some', 'bimbo', 'singer', ',', 'which', 'seems', 'to', 'be', 'completely', 'off', 'topic', '.', 'Turiqistan', 'is', 'obviously', 'Iraq', ',', 'or', 'Afghanistan', ',', 'or', 'any', 'other', 'number', 'of', 'countries', 'the', 'US', 'has', 'f**ked', 'with', 'since', 'the', '50s', '.', 'The', 'humour', 'is', 'a', 'little', 'dark', '(', 'amputees', 'dancing', 'with', 'prosthetic', 'legs', 'made', 'by', 'Tamerlane', 'corporation', ')', 'but', 'it', 'IS', 'on', 'the', 'mark', ',', 'especially', 'with', 'the', 'corporations', 'cashing', 'in', 'on', 'the', 'reconstruction', '(', '``', 'democracy', 'lite', \"''\", '!', ')', 'However', 'like', 'a', 'lot', 'of', 'satire', 'criticising', 'the', 'US', ',', 'it', 'seems', 'terribly', 'heavy', 'handed', 'and', 'laboured', '.', 'I', 'guess', 'it', \"'s\", 'running', 'counter', 'to', 'so', 'much', 'bs', 'propaganda', 'so', 'it', 'has', 'to', 'bludgeon', 'people', 'over', 'the', 'head', 'to', 'make', 'a', 'point', '.', 'Who', 'knows', '.', 'I', 'prefer', 'more', 'of', 'a', 'nudge', ',', 'wink', 'approach', '-', 'a', 'bit', 'of', 'subtlety', '.', 'But', 'that', \"'s\", 'just', 'me', '.', 'Anyway', 'I', 'might', 'watch', 'it', 'again', ',', 'perhaps', 'I', 'missed', 'something', '.', 'I', \"'m\", 'hoping', '``', 'W', \"''\", 'is', 'more', 'on', 'the', 'mark', '.'], ['I', 'am', 'a', 'great', 'fan', 'of', 'David', 'Lynch', 'and', 'have', 'everything', 'that', 'he', \"'s\", 'made', 'on', 'DVD', 'except', 'for', 'Hotel', 'Room', '&', 'the', '2', 'hour', 'Twin', 'Peaks', 'movie', '.', 'So', ',', 'when', 'I', 'found', 'out', 'about', 'this', ',', 'I', 'immediately', 'grabbed', 'it', 'and', '...', 'and', '...', 'what', 'IS', 'this', '?', 'It', \"'s\", 'a', 'bunch', 'of', 'crudely', 'drawn', 'black', 'and', 'white', 'cartoons', 'that', 'are', 'loud', 'and', 'foul', 'mouthed', 'and', 'unfunny', '.', 'Maybe', 'I', 'do', \"n't\", 'know', 'what', \"'s\", 'good', ',', 'but', 'maybe', 'this', 'is', 'just', 'a', 'bunch', 'of', 'crap', 'that', 'was', 'foisted', 'on', 'the', 'public', 'under', 'the', 'name', 'of', 'David', 'Lynch', 'to', 'make', 'a', 'few', 'bucks', ',', 'too', '.', 'Let', 'me', 'make', 'it', 'clear', 'that', 'I', 'did', \"n't\", 'care', 'about', 'the', 'foul', 'language', 'part', 'but', 'had', 'to', 'keep', 'adjusting', 'the', 'sound', 'because', 'my', 'neighbors', 'might', 'have', '.', 'All', 'in', 'all', 'this', 'is', 'a', 'highly', 'disappointing', 'release', 'and', 'may', 'well', 'have', 'just', 'been', 'left', 'in', 'the', 'deluxe', 'box', 'set', 'as', 'a', 'curiosity', '.', 'I', 'highly', 'recommend', 'you', 'do', \"n't\", 'spend', 'your', 'money', 'on', 'this', '.', '2', 'out', 'of', '10', '.'], ['Judging', 'by', 'the', 'hype', ',', 'and', 'other', 'reviews', 'on', 'this', 'site', ',', 'I', 'was', 'ready', 'for', 'an', 'awesome', 'horror', 'movie', 'focusing', 'on', 'junkies', '.', 'What', 'i', 'got', 'was', 'complete', 'crap', 'focusing', 'on', 'junkies', '.', 'I', 'wonder', 'if', 'there', \"'s\", 'another', 'movie', 'called', '``', 'Cookers', \"''\", 'that', 'these', 'people', 'reviewed', '?', 'There', 'are', 'only', '3', 'main', 'characters', ',', 'and', 'none', 'of', 'them', 'struck', 'me', 'as', 'well-written', 'or', 'well-acted', '.', 'Basically', 'the', 'whole', 'movie', 'I', 'just', 'spent', 'shaking', 'my', 'head', 'and', 'marveling', 'at', 'the', 'stupidity', 'of', 'these', 'drug', 'addicts', '.', 'Do', 'yourself', 'a', 'favor', '.', 'Do', \"n't\", 'rent', 'this', 'movie', '.', 'Rent', '``', 'Cabin', 'Fever', \"''\", 'or', 'some', 'other', 'decent', 'horror', 'movie', '.', 'Hell', ',', 'rent', '``', 'Mary', 'Poppins', \"''\", '!', 'The', 'animated', 'penguins', 'are', 'scarier', 'and', 'more', 'convincing', 'than', 'anything', 'you', \"'ll\", 'find', 'in', '``', 'Cookers', '.', \"''\"], ['First', 'off', '-', 'there', \"'s\", 'absolutely', 'no', 'flirting', 'going', 'on', 'in', 'this', 'film', '-', 'with', 'Anthony', 'or', 'anyone', 'else', '.', 'These', 'people', 'do', \"n't\", 'flirt', '-', 'they', 'just', 'do', 'it', '.', 'Your', 'first', 'test', 'of', 'endurance', 'is', 'to', 'wade', 'through', 'more', 'than', '15', 'minutes', 'of', 'intense', 'violence', 'and', 'sexual', 'perversion', '.', 'This', 'would', \"n't\", 'be', 'so', 'bad', '-', 'hell', ',', 'I', 'like', 'violence', 'and', 'perversion', 'as', 'much', 'as', 'the', 'next', 'reviewer', ',', 'but', 'without', 'a', 'context', 'to', 'put', 'it', 'in', ',', 'it', 'is', 'repellent', '.', 'So', 'you', 'make', 'it', 'through', 'the', 'torture', 'and', 'mayhem', '.', 'Then', 'we', 'meet', 'Donna', 'and', 'the', 'movie', 'turns', 'into', 'something', 'all', 'together', 'different', '-', 'not', 'better', '-', 'just', 'different', ':', 'a', 'road', 'picture', 'without', 'heart', '.', 'There', 'are', 'lame', 'attempts', 'at', 'comedy', 'thanks', 'to', 'cameos', '-', 'broadly', 'written', 'and', 'broadly', 'played', 'by', 'broads', 'like', 'Judy', 'Tenuta', 'and', 'Mink', 'Stole', '(', 'and', 'a', 'few', 'hookers', 'and', 'drag', 'queens', ',', 'too', ')', '.', 'They', 'all', 'deserve', 'better', '.', 'The', 'photography', 'is', 'purposely', 'disorienting', ',', 'so', 'if', 'you', 'get', 'motion', 'sickness', '(', 'or', 'really', 'ANY', 'kind', 'of', 'sickness', ')', '-', 'this', 'flick', 'is', 'not', 'for', 'you', '.', 'Come', 'to', 'think', 'of', 'it', ',', 'I', \"'m\", 'not', 'sure', 'just', 'who', 'this', 'flick', 'IS', 'for', '-except', 'maybe', 'gay', 'and', 'bi-sexual', 'S', '&', 'M', 'fans', 'who', 'like', 'poorly', 'scripted', ',', 'poorly', 'shot', 'indy', 'films', 'about', 'themselves', '.'], ['WARNING', '!', 'This', 'review', 'will', 'reveal', 'the', 'ending', 'of', 'the', 'movie', ',', '``', 'Scoop', '.', \"''\", 'If', 'you', 'do', \"n't\", 'want', 'to', 'know', 'how', 'the', 'movie', 'ends', ',', 'do', \"n't\", 'read', 'this', 'review', '!', '``', 'Scoop', \"''\", 'is', 'so', 'bad', 'you', \"'ll\", 'think', '``', 'Annie', 'Hall', \"''\", 'was', 'a', 'fluke', '.', 'It', 'gets', 'one', 'star', 'because', 'you', 'get', 'to', 'see', 'Hugh', 'Jackman', \"'s\", 'naked', 'chest', '.', 'That', \"'s\", 'the', 'only', 'thing', '``', 'Scoop', \"''\", 'has', 'going', 'for', 'it', '.', 'Woody', 'Allen', \"'s\", 'misogyny', ',', 'and', 'his', 'fixation', 'on', 'women', 'young', 'enough', ',', 'at', 'this', 'point', ',', 'to', 'be', 'his', 'granddaughter', ',', 'has', 'crippled', 'any', 'ability', 'to', 'make', 'movies', 'he', 'may', 'have', 'had', 'at', 'any', 'point', '.', 'The', 'plot', 'seems', 'promising', ':', 'a', 'ghost', ',', 'Ian', 'McShane', ',', 'directs', 'a', 'fluffy', 'headed', 'student', ',', 'Scarlett', 'Johansson', ',', 'to', 'investigate', 'whether', 'or', 'not', 'an', 'English', 'Lord', ',', 'Hugh', 'Jackman', ',', 'is', 'the', 'notorious', 'Tarot', 'Card', 'Killer', 'of', 'prostitutes', '.', 'A', 'magician', ',', 'Woody', 'Allen', ',', 'helps', 'the', 'girl', '.', 'Promising', 'plot', 'notwithstanding', ',', 'the', 'movie', 'completely', 'lacks', 'charm', ',', 'or', 'humor', ',', 'or', 'atmosphere', '.', 'It', \"'s\", 'an', 'amazingly', 'leaden', ',', 'amateurish', 'effort', 'for', 'someone', 'who', 'has', 'made', 'even', 'one', 'previous', 'film', ',', 'never', 'mind', 'dozens', '.', 'Perhaps', 'Allen', 'has', 'had', 'a', 'stroke', 'that', 'has', 'gone', 'unreported', 'in', 'the', 'press', '.', 'Much', 'is', 'made', 'of', 'the', 'fact', 'that', 'unlike', 'in', 'his', 'previous', 'films', ',', 'Woody', 'Allen', ',', 'now', 'a', 'septuagenarian', ',', 'has', 'FINALLY', 'allowed', 'a', 'younger', 'male', 'lead', 'to', 'get', 'the', 'girl', '.', 'Not', 'so', '.', 'In', 'fact', ',', 'the', 'plot', 'is', 'constructed', 'in', 'such', 'a', 'way', 'so', 'that', 'the', 'girl', 'gets', 'no', 'one', '.', 'There', 'is', 'an', 'early', 'scene', 'where', 'Johansson', ',', 'for', 'no', 'reason', 'central', 'to', 'the', 'movie', ',', 'allows', 'herself', 'to', 'be', 'gotten', 'drunk', ',', 'and', 'seduced', ',', 'by', 'a', 'powerful', ',', 'older', 'director', '.', '``', 'Seduced', \"''\", 'is', 'a', 'euphemism', 'for', 'what', 'happens', '.', 'It', \"'s\", 'a', '``', 'slam', ',', 'bam', ',', 'I', \"'ve\", 'got', 'ta', 'go', \"''\", 'kind', 'of', 'moment', '.', 'It', 'bears', 'no', 'relation', 'to', 'the', 'plot', 'whatsoever', ',', 'and', 'it', 'cheapens', 'Johansson', 'in', 'the', 'viewer', \"'s\", 'eye', '.', 'Why', 'did', 'Allen', 'add', 'that', 'unnecessary', 'scene', 'to', 'the', 'movie', '?', 'Because', 'it', 'shows', 'a', 'powerful', 'director', '-', 'like', 'Allen', '-', 'having', 'sex', 'with', 'the', 'female', 'lead', '.', 'Allen', 'gets', 'to', 'have', 'his', 'cake', 'and', 'eat', 'it', ',', 'too', '.', 'Johansson', 'is', 'not', 'yet', 'an', 'actress', '.', 'She', 'does', \"n't\", 'know', 'how', 'to', 'command', 'the', 'screen', 'except', 'by', 'wearing', 'a', 'tight', ',', 'low', 'cut', 'top', '.', 'She', 'imitates', 'Allen', 'in', 'a', 'couple', 'of', 'scenes', ',', 'and', 'that', 'just', 'looks', 'weird', 'and', 'sad', '.', 'It', 'does', \"n't\", 'help', 'that', 'her', 'character', 'is', 'scripted', 'as', 'a', 'doll', 'who', 'ca', \"n't\", 'function', 'without', 'a', 'ghost', ',', 'or', 'an', 'elderly', 'and', 'less', 'than', 'awe-inspiring', 'magician', ',', 'telling', 'her', 'what', 'to', 'do', 'at', 'every', 'turn', '.', 'She', 'is', 'approximately', 'half', 'Jackman', \"'s\", 'age', ',', 'and', 'she', 'comes', 'across', 'as', 'a', 'very', 'vapid', 'screen', 'presence', 'in', 'their', 'scenes', 'together', '.', 'Audience', 'members', 'not', 'obsessed', 'with', 'breasts', 'deserve', 'better', 'in', 'their', 'heroines', ',', 'and', 'Jackman', 'deserves', 'better', ',', 'too', '--', 'a', 'script', 'that', 'gives', 'the', 'heroine', 'some', 'intelligence', 'and', 'agency', ',', 'and', 'an', 'actress', 'who', 'can', 'convey', 'those', 'qualities', '.', 'Hugh', 'Jackman', 'is', 'similarly', 'cheated', 'by', 'the', 'script', '.', 'Allen', 'apparently', 'ca', \"n't\", 'stand', 'it', 'that', 'Jackman', 'is', 'so', 'stunningly', 'good', 'looking', 'and', 'young', ',', 'and', 'so', 'he', 'gives', 'Jackman', 'nothing', 'to', 'say', 'or', 'do', '.', 'Like', 'Johansson', ',', 'he', 'is', 'used', 'merely', 'for', 'his', 'good', 'looks', '.', 'This', 'is', 'a', 'shame', ',', 'because', ',', 'as', 'Jackman', 'has', 'shown', 'in', 'any', 'number', 'of', 'productions', ',', 'from', '``', 'Oklahoma', \"''\", 'to', '``', 'X', 'Men', ',', \"''\", 'he', 'CAN', 'act', '.', 'Here', \"'s\", 'the', 'big', 'plot', 'twist', '--', 'Jackman', ',', 'suave', ',', 'charming', 'English', 'Lord', ',', 'really', 'is', 'a', 'killer', '.', 'So', ',', 'though', 'the', 'movie', 'says', 'it', 'is', 'all', 'about', 'letting', 'someone', 'else', ',', 'other', 'than', 'Allen', ',', 'get', 'the', 'girl', ',', 'she', 'does', \"n't\", 'get', 'anyone', '.', 'Jackman', ',', 'the', 'man', 'she', \"'s\", 'been', 'making', 'love', 'to', ',', 'is', 'a', 'man', 'who', 'murdered', 'a', 'prostitute', '.', 'Nice', ',', 'Woody', '.', 'Nice', 'way', 'to', 'punish', 'your', 'heroine', 'for', 'being', 'beyond', 'your', 'grasp', '.', 'In', 'a', 'passive', 'aggressive', 'touch', ',', 'Allen', 'deprives', 'his', 'heroine', 'of', 'his', 'own', 'presence', ',', 'as', 'well', ',', 'killing', 'off', 'his', 'character', ',', 'the', 'magician', ',', 'leaving', 'Scarlett', 'Johansson', 'all', 'alone', 'at', 'the', 'end', 'of', 'the', 'film', '.', 'A', 'final', 'note', ':', 'at', 'my', 'screening', ',', 'not', 'a', 'single', 'audience', 'member', 'laughed', 'at', 'any', 'point', 'during', 'the', 'film', '.', 'Always', 'a', 'bad', 'sign', 'when', 'a', 'film', 'is', 'advertised', 'as', 'a', 'comedy', '.'], ['Wow', ',', 'how', 'bad', 'can', 'it', 'get', '.', 'This', 'was', 'seriously', 'bad', '.', 'Not', 'in', 'terms', 'of', 'the', 'gore', '-', 'which', 'was', 'mainly', 'laughable', 'CGI', '-', 'but', 'in', 'acting', ',', 'atmosphere', 'and', 'direction', '.', 'The', 'story', 'was', 'dreadful', '-', 'the', 'character', 'arc', 'of', 'the', 'main', 'lead', 'was', 'a', 'total', 'joke', '.', 'Within', 'a', 'few', 'nights', 'of', 'stalking', 'Vinnie', 'Jones', ',', 'he', 'starts', 'to', 'become', \"'haunted\", \"'\", 'to', 'the', 'point', 'of', 'crying', 'when', 'photographing', 'his', 'girlfriend', '.', 'Um', '...', 'are', 'all', 'New', 'York', 'photographers', 'this', 'childish', ',', 'suggestible', 'and', 'weak', '?', 'His', 'character', 'development', 'had', 'absolutely', 'no', 'justification', 'or', 'point', 'whatsoever', '-', 'and', 'by', 'the', 'very', 'end', 'you', \"'ll\", 'be', 'laughing', 'out', 'loud', 'at', 'the', 'utterly', 'predictable', ',', 'and', 'totally', 'absurd', 'twist', 'his', 'character', 'takes', '.', 'The', 'gory', 'moments', 'were', 'clearly', 'just', 'a', 'weak', ',', 'low-self-esteemed', 'effort', 'to', 'jump', 'onto', 'the', 'modern', 'MTV', 'style', 'gore', 'wagon', '-', 'all', 'cgi', ',', 'blood', 'yet', 'no', 'real', 'emotion', 'whatsoever', '.', 'These', 'parts', 'were', 'unintentionally', 'funny', '-', 'and', 'distracting', 'by', 'their', 'self-consciousness', '-', 'wacky', 'camera', 'angles', 'etc', '.', 'Overall', 'this', 'film', 'commits', 'the', 'crime', 'of', 'blowing', 'another', 'potential', 'idea', '.', 'What', 'could', 'have', 'had', 'atmosphere', '(', 'until', 'the', 'stupid', 'monsters', 'at', 'the', 'end', ')', 'is', 'ruined', 'in', 'favour', 'of', \"'look\", 'at', \"me'style\", 'self-conscious', 'directing', '.', 'This', 'film', 'was', \"n't\", 'made', 'for', 'and', 'audience', '-', 'it', 'was', 'made', 'for', 'a', 'CV', '-', 'a', 'deeply', 'selfish', 'motive', '.'], ['This', 'is', \"n't\", 'a', 'movie', '.', 'It', 'is', 'a', 'collection', 'of', 'unrelated', ',', 'ill-conceived', 'and', 'poorly', 'assembled', 'scenes', 'that', 'look', 'like', 'the', 'unedited', 'results', 'of', 'a', 'dim', '10', 'year', 'old', 'with', 'a', 'mini-DV', 'camera', '.', 'In', 'fact', ',', 'I', 'have', 'a', 'theory', 'that', 'the', 'extremely', 'abrasive', 'girl', 'in', 'the', 'train', 'corridor', '-', 'the', 'one', 'with', 'the', 'greasy', 'hair', ',', 'dead-pan', 'stare', ',', 'ipod', 'and', 'nervous', 'tic', '-', 'probably', 'shot', 'it', 'herself', 'in', 'a', 'creative', 'phase', '.', 'If', 'you', 'made', 'it', 'further', 'than', 'the', 'ten', 'minutes', 'I', 'did', ',', 'do', \"n't\", 'bother', 'trying', 'to', 'fit', 'what', 'you', 'saw', 'into', 'the', 'context', 'of', 'the', 'European', 'Artiste', 'mentality', 'praised', 'above', '.', 'This', 'is', 'a', 'true', 'and', 'complete', 'waste', 'of', 'time', ',', 'money', 'and', 'film', 'that', 'would', 'have', 'made', 'William', 'One-Shot', 'Beaudine', 'cringe', '.', 'The', 'unfortunate', 'part', 'is', 'that', 'the', 'endless', 'series', 'of', 'vacuum-packed', 'characters', 'is', 'representative', 'of', 'what', 'now', 'passes', 'for', 'much', 'of', 'humanity', '.', 'What', \"'s\", 'next', '?', 'Six', 'directors', 'shooting', 'social', 'intercourse', 'at', 'the', 'Wal-Mart', 'snack', 'counter', '?'], ['May', 'I', 'start', 'off', 'by', 'saying', 'that', 'Casey', 'Affleck', 'is', 'a', 'very', 'talented', 'actor', 'and', 'I', 'respect', 'his', 'work', 'very', 'much', '.', 'I', 'wish', 'he', 'was', 'in', 'more', 'movies', 'that', 'showcased', 'his', 'talent', '.', 'With', 'this', 'said', ',', 'Soul', 'Survivors', 'was', 'a', 'very', ',', 'very', 'bad', 'movie', '.', 'Very', 'bad', '.', 'I', 'would', 'have', 'to', 'say', 'that', 'I', 'lay', 'almost', 'all', 'the', 'blame', 'on', 'the', 'poor', 'script', '.', 'Affleck', 'is', 'a', 'very', 'talented', 'actress', ',', 'Wes', 'Bentley', 'had', 'an', 'outstanding', 'performance', 'in', 'American', 'Beauty', ',', 'Melissa', 'Sagemiller', 'did', 'well', ',', 'and', 'Eliza', 'Dushku', 'is', 'currently', 'the', 'it', 'girl', 'in', 'Hollywood', '.', 'I', 'do', \"n't\", 'think', 'any', 'of', 'the', 'actors', 'really', 'got', 'into', 'the', 'script', ',', 'and', 'I', 'understand', 'why', '.', 'To', 'say', 'that', 'this', 'movie', 'belongs', 'to', 'the', 'horror', 'genre', 'is', 'an', 'overstatement', '.', 'It', 'did', 'have', 'the', 'twists', 'and', 'turns', 'you', 'would', 'expect', ',', 'but', 'they', 'just', 'did', \"n't\", 'lead', 'anywhere', '...', 'except', 'to', 'more', 'confusion', '.', 'I', 'just', 'found', 'the', 'ending', 'very', 'anti-climatic', ',', 'because', 'it', 'just', 'did', \"n't\", 'seem', 'to', 'make', 'any', 'sense', 'or', 'really', 'answer', 'any', 'of', 'the', 'questions', 'that', 'I', 'had', 'about', 'the', 'storyline', '.', 'I', 'wish', 'I', 'could', 'give', 'this', 'movie', 'a', 'good', 'review', ',', 'but', 'I', 'ca', \"n't\", '.', 'In', 'all', 'honesty', ',', 'the', 'only', 'thing', 'I', 'think', 'you', 'will', 'find', 'scary', 'about', 'this', 'movie', 'is', 'that', 'you', 'paid', 'for', 'it', '.'], ['Despite', 'pretty', 'bad', 'reviews', ',', 'I', 'just', 'had', 'to', 'give', 'this', 'film', 'a', 'go', '\\x96', 'it', 'does', ',', 'after', 'all', ',', 'star', 'HK', 'super-babe', 'Shu', 'Qi', 'plus', '6', 'other', 'oriental', 'lovelies', 'as', 'a', 'team', 'of', 'all-action', 'cat-burglars', '.', 'Surely', 'that', \"'s\", 'worth', 'checking', 'out', '?', 'Well', ',', 'as', 'babe-fests', 'go', ',', 'Martial', 'Angels', 'is', 'hard', 'to', 'beat', '.', 'The', 'eye', 'candy', 'is', 'top', 'quality', '.', 'Shu', 'Qi', 'looks', 'as', 'fantastic', 'as', 'always', ',', 'and', 'of', 'the', 'rest', 'of', 'the', 'girls', ',', 'Rosemary', 'Vandebrouck', 'and', 'Amanda', 'Strang', 'caught', 'my', 'roving', 'eye', 'in', 'particular', '.', 'Unfortunately', ',', 'if', 'one', 'is', 'to', 'judge', 'this', 'movie', 'by', 'any', 'other', 'possible', 'merits', ',', 'it', 'is', 'an', 'absolute', 'stinker', '!', 'The', 'story', 'is', 'weak', ',', 'the', 'action', 'shoddy', 'and', 'the', 'special', 'effects', 'downright', 'pathetic', '.', 'Director', 'Clarence', 'Fok', 'and', 'Producer', 'Wong', 'Jing', 'have', 'given', 'us', 'a', 'photogenic', 'cast', 'and', 'little', 'else', '.', 'If', 'Shu', 'Qi', 'is', 'the', 'only', 'reason', 'you', \"'re\", 'contemplating', 'seeing', 'this', 'one', ',', 'you', 'would', 'be', 'better', 'off', 'watching', 'Sex', 'and', 'Zen', '2', 'again', '!'], ['If', 'there', 'was', 'ever', 'a', 'call', 'to', 'make', 'a', 'bad', 'film', 'that', 'reflected', 'how', 'stupid', 'humanity', 'could', 'become', ',', 'this', 'one', 'would', 'take', 'the', 'prize', '.', 'The', 'plot', 'centers', 'around', 'bible', 'prophecies', 'that', 'lie', 'in', 'hidden', 'messages', 'of', 'the', 'scriptures', 'that', 'prompt', 'a', 'group', 'of', 'power-seeking', 'thugs', 'to', 'attempt', 'total', 'control', 'of', 'the', 'world', '.', 'Just', 'how', 'stupid', 'does', 'this', 'writer', 'believe', 'people', 'to', 'actually', 'be', '?', 'The', 'acting', 'was', 'bad', 'at', 'best', '.', 'Casper', 'Van', 'Dien', 'wasted', 'his', 'talent', 'doing', 'this', 'film', '.', 'Michael', 'York', \"'s\", 'work', 'was', 'a', 'fair', 'match', 'for', 'the', 'role', ',', 'since', 'he', 'was', 'the', 'center', 'of', 'the', 'film', ',', 'and', 'did', 'a', 'good', 'job', '.', 'This', 'plot', 'was', 'sickening', 'and', 'very', 'disturbing', '.', 'No', 'tender', 'or', 'immature', 'minds', 'should', 'see', 'this', 'film', '.', 'This', 'is', 'how', 'a', 'basic', 'good', 'vs.', 'evil', 'plot', 'can', 'go', 'astray', '.', 'There', 'must', 'be', 'a', 'lot', 'of', 'mental', 'disease', 'floating', 'around', 'the', 'film', 'circles', ',', 'who', 'look', 'for', 'ways', 'to', 'market', 'this', 'type', 'of', 'junk', '.', 'There', 'must', 'have', 'been', 'something', 'censored', 'out', 'to', 'get', 'a', 'PG-13', 'rating', ',', 'but', 'it', 'was', 'still', 'awful', '.'], ['Creepy', '&', 'lascivious', 'wolf', '.', 'The', 'young', '``', 'Red', \"''\", 'is', 'wearing', 'full', 'make-up', ',', 'and', 'extremely', 'short', 'shorts', '&', 'robe', '.', 'Got', 'about', '20', 'minutes', 'through', 'and', 'realized', 'it', 'could', 'be', 'a', 'pedophile', \"'s\", 'dream', 'come', 'true', '.', 'The', '``', 'up-beat', \"''\", 'music', 'sounds', 'a', 'lot', 'like', 'something', 'I', \"'d\", 'hear', 'at', 'a', 'strip', 'club', '.', 'I', 'actually', 'think', 'this', 'movie', 'is', 'a', 'sick', 'joke', '-', 'it', \"'s\", 'not', 'a', 'family', 'movie', '.', 'Gross', ',', 'glad', 'I', 'was', 'watching', 'this', 'with', 'my', 'daughter', ',', 'I', 'do', \"n't\", 'want', 'her', 'to', 'think', 'it', \"'s\", 'normal', 'for', 'families', 'to', 'view', 'quasi', 'kiddie', 'porn', 'together', '.', 'Very', 'bad', ',', 'Very', 'sad', 'it', \"'s\", 'sold', 'as', 'a', 'family', 'film', ',', 'Joey', 'Fatone', 'will', 'probably', 'be', 'embarrassed', 'he', 'was', 'in', 'it', '.', 'And', 'what', \"'s\", 'with', 'advertising', 'it', 'as', 'a', '``', 'special', 'effects', 'spectacular', \"''\", '?', '?', '?', 'The', 'effects', 'do', 'look', 'low', 'budget', ',', 'gawd', 'awful', '.'], ['Well', ',', 'it', \"'s\", 'all', 'been', 'said', 'about', 'this', 'movie', 'and', 'I', 'hate', 'it', 'when', 'writing', 'reviews', 'where', 'everyone', 'else', 'already', 'said', 'what', \"'s\", 'to', 'be', 'said', '.', 'But', 'the', 'thing', 'is', ',', 'I', 'have', 'seen', 'zillions', 'of', 'movies', 'and', 'I', 'am', 'working', 'on', 'writing', 'reviews', 'on', 'all', 'the', 'movies', 'that', 'I', \"'ve\", 'seen', '.', 'So', ',', 'I', 'have', 'to', 'write', 'something', '.', 'The', 'acting', 'is', 'stupid', '.', 'It', \"'s\", 'truly', 'stupid', 'how', 'the', 'news', 'anchor', 'expresses', 'her', 'sadness', 'towards', 'the', 'plane', 'crash', '.', 'The', 'nun', 'is', 'nice', 'though', 'and', 'the', 'professional', 'assistant', 'who', 'comes', 'to', 'take', 'care', 'of', 'the', 'child', '.', 'the', 'three', 'main', 'killings', 'in', 'the', 'movie', 'are', 'just', 'so', 'weak', 'that', 'you', 'wonder', 'how', 'stupid', 'can', 'the', 'makers', 'of', 'this', 'movie', 'be', '.', 'Do', \"n't\", 'they', 'realize', 'that', 'even', 'rip-offs', 'can', 'still', 'be', 'scary', '.', 'We', 'do', \"n't\", 'see', 'how', 'the', 'granpa', 'is', 'killed', '.', 'The', 'dentist', 'and', 'his', 'assistant', 'made', 'me', 'feel', 'they', 'deserve', 'to', 'die', ',', 'you', 'just', 'do', \"n't\", 'sympathize', 'with', 'them', '.', 'And', 'uncle', 'tony', 'in', 'the', 'garage', 'dies', 'in', 'a', 'way', 'that', 'could', 'have', 'been', 'worked', 'better', '.', 'We', 'just', 'hear', 'him', 'scream', 'and', 'we', 'see', 'nothing', '!'], ['Something', 'very', 'strange', 'happens', 'when', 'you', 'talk', 'about', 'Global', 'Warming', ':', 'science', 'goes', 'out', 'the', 'window', 'and', '``', 'belief', \"''\", 'and', '``', 'consensus', \"''\", 'becomes', 'the', 'topic', 'of', 'discussion', '.', 'It', \"'s\", 'because', 'of', 'that', 'fact', 'that', 'I', 'give', 'a', 'failing', 'mark', 'to', 'Al', 'Gore', \"'s\", 'documentary', '.', 'Instead', 'of', 'promoting', 'intelligent', 'discussion', ',', 'he', 'kept', 'the', 'debate', 'at', 'the', 'level', 'of', '``', 'belief', \"''\", 'and', '``', 'consensus', \"''\", '.', 'Of', 'course', ',', 'when', 'you', \"'re\", 'trying', 'to', 'sell', 'the', 'world', 'into', 'spending', 'trillions', 'of', 'dollars', 'to', '``', 'stop', 'Global', 'Warming', \"''\", 'you', 'may', 'thing', 'it', \"'s\", 'a', 'problem', 'to', 'tell', 'the', 'scientific', 'truth', ':', 'we', 'do', \"n't\", 'know', 'how', 'much', 'of', 'the', 'current', 'warming', 'was', 'caused', 'by', 'humans', '.', 'Maybe', 'none', 'of', 'it', ',', 'maybe', 'some', 'of', 'it', ',', 'or', 'maybe', 'it', 'has', 'over-ceded', 'the', 'next', 'Ice', 'Age', 'and', 'we', 'got', 'really', 'lucky', 'not', 'to', 'have', 'boiled', 'the', 'planet', '.', 'But', 'the', 'fact', 'remains', 'that', 'we', 'do', \"n't\", 'know', '.', 'so', 'we', \"'re\", 'asked', 'to', '``', 'believe', \"''\", 'in', 'the', '``', 'consensus', \"''\", '.', 'Never', 'mind', 'that', 'any', 'scientist', 'that', 'strays', 'from', 'the', '``', 'consensus', \"''\", 'is', 'ostracized', '.', 'Never', 'mind', 'that', 'scientific', 'inquiry', 'is', 'about', 'straying', 'from', 'the', 'consensus', '.', 'Einstein', 'did', \"n't\", '``', 'believe', \"''\", 'in', 'the', 'consensus', ',', 'neither', 'did', 'Copernicus', 'or', 'Galileo', '.', 'So', 'why', 'so', 'much', 'scorn', 'placed', 'on', 'those', 'very', 'researchers', 'who', 'would', 'advance', 'the', 'field', 'by', 'asking', 'the', 'tough', 'questions', '?', 'If', 'Global', 'Warming', 'is', 'so', 'incontrovertible', ',', 'surely', 'a', 'few', 'people', 'testing', 'that', 'theory', 'ca', \"n't\", 'be', 'so', 'threatening', '.', 'What', 'is', 'going', 'on', 'here', '?', 'That', \"'s\", 'the', 'movie', 'I', 'was', 'hoping', 'Al', 'Gore', 'would', 'have', 'made', '.', 'Istead', ',', 'he', 'chose', 'to', 'shore', 'up', 'his', 'support', 'with', 'the', 'true', '``', 'believers', \"''\", 'of', 'the', '``', 'consensus', \"''\", '.', 'Sad', ',', 'really', '.'], ['The', 'saddest', 'part', 'of', 'this', 'is', 'the', 'fact', 'that', 'these', 'are', '87', 'minutes', 'I', \"'ll\", 'never', 'get', 'back', '.', 'I', 'knew', 'this', 'was', 'terrible', 'from', 'the', 'get-go', ',', 'with', 'the', 'guy', 'dressed', 'as', 'a', 'lunatic', 'Indian', 'chief', 'on', 'top', 'of', 'the', 'roof', '.', '(', 'See', 'if', 'they', 'could', 'get', 'away', 'with', 'that', 'in', '2008', ')', '.', 'My', '10-year-old', 'boy', 'is', 'really', 'into', 'baseball', 'right', 'now', ',', 'so', 'we', 'decided', 'to', 'rent', 'it', 'on', 'a', 'rainy', 'day', '.', 'Even', 'though', 'he', 'seemed', 'to', 'enjoy', 'parts', 'of', 'it', ',', 'I', 'had', 'to', 'cringe', 'when', 'I', 'heard', 'all', 'the', 'needless', 'foul', 'language', '.', 'Bad', ',', 'bad', 'movie', '.', 'This', 'was', 'an', 'awful', 'ripoff', 'of', 'Bad', 'News', 'Bears', '.', 'Completely', 'shameless', 'and', 'completely', 'predictable', '.', 'I', 'do', \"n't\", 'mind', 'a', 'predictable', 'movie', 'if', 'it', \"'s\", 'done', 'well', ',', 'but', 'this', 'one', 'absolutely', 'was', 'not', '.'], ['This', 'movie', 'shows', 'us', 'nothing', 'original', '.', 'Every', 'idea', 'or', '(', 'action', ')', 'scene', 'can', 'be', 'found', 'in', 'many', 'previously', 'released', 'movies', '.', 'Fabulous', 'Nick', 'is', 'completely', 'plain', 'here', '.', 'Even', 'Will', 'Patton', 'is', 'calm', 'and', 'evil', 'nor', 'good', '.', 'Mr.', 'Duvall', 'is', 'ok', ',', 'but', 'has', 'a', 'very', 'small', 'part', '.', 'So', 'does', 'Angelina', ',', 'so', 'how', 'can', 'we', 'determine', 'her', 'newly', 'acclaimed', 'stardom', '?', 'Overall', ',', 'there', 'are', 'too', 'many', 'characters', ',', 'so', 'that', 'nobody', 'and', 'nothing', 'is', 'especially', 'detailed', '.', 'This', 'makes', 'the', 'movie', 'easy', 'to', 'forget', '.', 'Too', 'bad', ',', 'do', \"n't\", 'you', 'think', '?'], ['As', 'horror', 'fans', 'we', 'all', 'know', 'that', 'blind', 'rentals', 'are', 'a', 'crap-shoot', '.', 'Sometimes', 'we', 'find', 'a', 'real', 'gem', ',', 'but', 'many', 'times', 'we', 'find', 'that', 'the', 'film', 'we', \"'ve\", 'just', 'spent', 'our', 'hard', 'earned', 'money', 'on', 'is', 'nothing', 'more', 'than', 'a', 'putrid', 'steamer', 'made', 'worse', 'by', 'the', 'completely', 'undeserved', 'rave', 'reviews', 'and', 'film', 'fest', 'awards', 'listed', 'on', 'the', 'box', '.', 'Such', 'is', 'the', 'case', 'with', 'Five', 'Across', 'the', 'Eyes', '(', 'a', 'title', 'I', \"'m\", 'sure', 'is', 'a', 'double', 'entendre', 'referring', 'to', 'both', 'the', 'films', 'budget', 'and', 'the', 'compulsion', 'anyone', 'watching', 'it', 'might', 'have', 'to', 'using', 'all', 'five', 'fingers', 'to', 'stab', 'their', 'eyes', 'out', ')', '.', 'The', 'story', ',', 'or', ',', 'at', 'least', 'what', 'the', '*ahem*', 'writers', 'think', 'passes', 'for', 'one', ',', 'centers', 'on', 'a', 'group', 'of', 'teen', 'girls', 'who', 'unwisely', 'decide', 'to', 'go', 'on', 'a', 'backwoods', 'joyride', 'late', 'at', 'night', 'after', 'leaving', 'a', 'football', 'game', 'and', 'run', 'afoul', 'of', 'a', 'crazy', 'woman', 'who', 'plays', 'cat', 'and', 'mouse', 'with', 'them', 'as', 'punishment', 'for', 'what', 'she', 'thinks', 'the', 'girls', 'found', 'in', 'her', 'car', 'after', 'a', 'fender-bender', 'in', 'a', 'gas', 'station', 'parking', 'lot', '.', 'In', 'fairness', ',', 'it', \"'s\", 'an', 'interesting', 'idea', '.', 'Some', 'of', 'the', 'best', 'horrors', 'have', 'very', 'simple', 'story', 'lines', '.', 'It', \"'s\", 'in', 'the', 'execution', 'of', 'Five', 'Across', 'the', 'Eyes', 'that', 'this', 'idea', 'falls', 'flat', '.', 'The', 'film', 'tries', 'to', 'be', 'a', 'cross', 'between', 'The', 'Blair', 'Witch', 'Project', 'with', 'its', 'shaky', 'camera', 'work', 'and', 'The', 'Texas', 'Chainsaw', 'Massacre', 'in', 'its', 'bare-bones', 'approach', 'to', 'the', 'material', 'but', 'succeeds', 'at', 'being', 'neither', '.', 'What', 'we', 'get', 'instead', 'are', 'redundant', 'scenes', 'of', 'chase', ',', 'torture', ',', 'release', ';', 'chase', 'torture', ',', 'release', ',', 'in', 'that', 'order', 'for', '94', 'minutes', 'with', 'long', 'interludes', 'of', 'bitching', ',', 'moaning', ',', 'and', 'incoherent', 'rambling', 'acting', 'as', 'plenty', 'of', 'padding', 'in-between', 'chase', 'sequences', '.', 'The', 'look', 'of', 'the', 'film', 'is', 'incredibly', 'grainy', 'and', 'dark', ',', 'which', ',', 'in', 'a', 'better', 'made', 'film', 'might', 'have', 'enhanced', 'the', 'tension', 'and', 'the', 'realism', '.', 'Here', 'it', \"'s\", 'merely', 'annoying', '.', 'The', 'characters', 'are', 'undeveloped', 'and', 'the', 'viewer', 'is', 'hard-pressed', 'to', 'find', 'anything', 'to', 'sympathize', 'with', 'them', '.', 'One', 'character', 'stops', 'to', 'get', 'a', 'first-aid', 'kit', 'and', 'tend', 'to', 'some', 'scrapes', 'on', 'her', 'face', 'while', 'gunshots', 'heard', 'in', 'the', 'background', 'indicate', 'her', 'friends', 'may', 'be', 'getting', 'killed', '.', 'Another', 'girl', 'mutters', 'hilariously', 'dumb', 'lines', 'like', '``', 'Do', \"n't\", 'go', 'out', 'there', ',', 'she', \"'ll\", 'get', 'you', ',', 'if', 'she', 'gets', 'you', 'she', \"'ll\", 'kill', 'you', 'and', 'if', 'she', 'kill', \"'s\", 'you', 'you', \"'re\", 'dead', \"''\", '.', 'It', 'was', 'an', 'accolade', 'from', 'Fangoria', 'magazine', 'and', 'Dreadcentral.com', 'listed', 'on', 'the', 'box', 'that', 'compelled', 'me', 'to', 'check', 'this', 'one', 'out', '.', 'Talk', 'about', 'a', 'fake', 'orgasm', '!', 'Perhaps', 'my', 'expectations', 'would', 'have', 'been', 'met', 'had', 'this', 'been', 'in', 'the', 'comedy', 'section', '.', 'I', \"'m\", 'all', 'for', 'low-budget', 'Indie', 'horror', 'but', 'this', 'one', 'takes', 'the', 'crap-cake', '.', 'Give', 'Five', 'Across', 'the', 'Eyes', '(', 'or', 'FATE', ';', 'get', 'it', '?', ')', 'a', 'pass', '.', 'RazorFriendly', 'gives', 'FATE', '1', 'slash', 'out', 'of', 'five', '/'], ['Watching', 'this', 'I', 'mainly', 'noticed', 'the', 'ad', 'placements', '.', 'DHL', ',', 'Aquawhite', 'Strips', ',', 'Rockstar', 'and', 'more', '.', 'It', \"'s\", 'one', 'product', 'placement', 'after', 'another', '.', 'It', \"'s\", 'quite', 'obvious', 'how', 'this', 'movie', 'got', 'its', 'funding', '.', 'Jessica', 'Simpson', \"'s\", '``', 'acting', \"''\", 'is', 'laughable', '.', 'Any', 'Dick', 'should', \"n't\", 'ever', 'get', 'work', 'because', 'he', 'plays', 'the', 'same', 'lame', 'character', '.', 'The', '``', 'story', \"''\", 'is', 'just', 'a', 'backdrop', 'for', 'this', 'very', 'long', 'commercial', '.', 'I', 'ca', \"n't\", 'believe', 'this', 'movie', 'was', 'even', 'considered', 'for', 'theatrical', 'release', '.', 'The', 'longer', 'you', 'watch', 'this', 'movie', 'the', 'more', 'you', \"'re\", 'embarrassed', 'for', 'everyone', 'involved', '.', 'The', 'only', 'minor', 'saving', 'grace', 'is', 'Larry', 'Miller', 'and', 'Rachael', 'Lee', 'Cook', ',', 'who', 'gets', 'almost', 'no', 'screen', 'time', 'as', 'Jessica', \"'s\", 'cousin', '.', 'I', \"'m\", 'embarrassed', 'I', 'watched', 'the', 'whole', 'thing', '.', 'I', 'would', 'recommend', 'avoiding', 'this', 'one', '.'], ['I', 'had', 'just', 'watched', 'one', 'episode', 'of', 'this', 'program', 'and', 'I', 'could', \"n't\", 'even', 'get', 'to', 'the', 'end', 'of', 'the', 'program', '.', 'Every', 'minute', 'I', 'had', 'watched', 'this', 'program', 'my', 'I.Q', 'must', 'of', 'dropped', 'about', '10', 'points', '.', 'This', 'is', 'basically', 'like', 'a', 'children', \"'s\", 'program', 'but', 'with', 'swearing', '.', 'Not', 'even', 'the', 'swearing', 'and', 'the', 'insults', 'she', 'tells', 'other', 'people', 'made', 'me', 'laugh', '.', 'Anyways', 'the', 'story', 'must', 'of', 'been', 'written', 'by', 'a', 'monkey', 'and', 'the', 'people', 'who', 'actually', 'put', 'this', 'script', 'for', 'this', 'program', 'through', 'for', 'filming', 'must', 'of', 'been', 'held', 'at', 'gun', 'point', 'and', 'had', 'no', 'choice', 'but', 'to', 'film', 'this', 'retarded', ',', 'disappointing', ',', 'horribly', 'acted', 'program', '.', 'Sarah', 'Silvermann', 'should', 'use', 'the', 'little', 'money', 'she', 'actually', 'made', 'from', 'this', 'program', 'and', 'get', 'some', 'god', 'damn', 'acting', 'lessons', '.'], ['ba', 'ba', 'ba', 'boring', '...', '...', 'this', 'is', 'next', 'to', 'battlefield', 'earth', 'in', 'science', 'fiction', 'slumberness', '.', 'genie', 'francis', '(', 'aka', 'general', 'hospital', \"'s\", 'laura', ')', 'has', 'a', 'small', 'role', 'as', 'a', 'reporter', 'and', 'that', 'in', 'itself', 'should', 'tell', 'you', 'that', 'this', 'movie', 'must', 'be', 'bad', '...', '.', 'there', 'is', 'ben', 'kingsley', '(', 'an', 'academy', 'award', 'winning', 'actor', ')', 'in', 'this', 'stinker', 'and', 'a', 'few', 'others', 'decent', 'actors', '.', 'You', 'have', 'to', 'wonder', 'what', 'possessed', 'them', 'to', 'decide', 'to', 'do', 'this', 'awful', 'movie', '.', 'The', 'music', 'dramatically', 'goes', 'up', 'and', 'down', 'like', 'it', \"'s\", 'a', 'major', 'dramatic', 'story', '.', 'Even', 'if', 'you', 'pay', 'attention', 'the', 'plot', 'is', 'impossible', 'to', 'follow', '.', 'The', 'effects', 'are', 'mediocre', 'as', 'well', 'and', 'seem', 'really', 'dated', '.', 'All', 'of', 'the', 'actors', 'speak', 'in', 'a', 'monotone', 'voice', 'and', 'have', 'no', 'realism', 'to', 'their', 'dialogue', '.', 'I', 'could', 'go', 'on', 'and', 'on', 'on', 'how', 'this', 'is', 'a', 'bad', 'movie', '.', 'At', 'least', 'with', 'Battlefield', 'Earth', 'it', \"'s\", 'so', 'bad', 'it', \"'s\", 'funny', 'but', 'this', 'is', 'just', 'b', 'o', 'r', 'i', 'n', 'g.', 'Avoid', 'unless', 'you', 'want', 'to', 'be', 'lulled', 'to', 'sleep', '.']]\n"
          ],
          "name": "stdout"
        }
      ]
    },
    {
      "metadata": {
        "colab_type": "code",
        "id": "DrxFWNmFi07d",
        "colab": {}
      },
      "cell_type": "code",
      "source": [
        "from collections import Counter\n",
        "import numpy as np"
      ],
      "execution_count": 0,
      "outputs": []
    },
    {
      "metadata": {
        "colab_type": "code",
        "id": "TdNEv_DKi07l",
        "colab": {}
      },
      "cell_type": "code",
      "source": [
        "stop = stopwords.words('english') + list(string.punctuation) + [\"''\", '``', '...', \"'s\", \"n't\"]\n",
        "\n",
        "total_counts = Counter()\n",
        "all_reviews = positive_tokenized + negative_tokenized\n",
        "for r in all_reviews:\n",
        "    sig_words = [w.lower() for w in r if w.lower() not in stop]\n",
        "    for word in sig_words:\n",
        "        total_counts[word] += 1"
      ],
      "execution_count": 0,
      "outputs": []
    },
    {
      "metadata": {
        "colab_type": "code",
        "id": "IiMud9kdi07u",
        "colab": {}
      },
      "cell_type": "code",
      "source": [
        "VOCAB_SIZE = 1000\n",
        "\n",
        "vocab = total_counts.most_common(VOCAB_SIZE)\n",
        "vocab = [t[0] for t in vocab]\n"
      ],
      "execution_count": 0,
      "outputs": []
    },
    {
      "metadata": {
        "id": "J3bghzl0Tcpz",
        "colab_type": "code",
        "outputId": "43e7cfcf-cc66-4a41-a93e-588a2e7dd94f",
        "colab": {
          "base_uri": "https://localhost:8080/",
          "height": 55
        }
      },
      "cell_type": "code",
      "source": [
        "print(vocab)"
      ],
      "execution_count": 133,
      "outputs": [
        {
          "output_type": "stream",
          "text": [
            "['movie', 'film', 'one', 'like', 'good', 'would', 'even', 'time', 'story', 'really', 'see', 'much', 'well', 'could', 'get', 'bad', 'people', 'also', 'great', 'first', 'made', 'way', 'make', 'movies', 'think', 'character', 'watch', 'characters', 'many', 'two', 'films', 'seen', 'never', 'little', 'plot', 'best', 'acting', 'show', 'love', 'life', 'know', 'ever', 'still', 'man', 'better', 'end', 'say', 'scene', 'scenes', 'go', \"'ve\", 'something', 'back', '--', \"'m\", 'real', 'watching', 'thing', 'another', 'years', 'though', 'funny', 'actors', 'work', 'actually', 'nothing', 'makes', 'find', 'new', 'director', 'look', 'going', 'old', 'lot', 'every', 'part', \"'re\", 'us', 'things', 'world', 'cast', 'quite', 'ca', 'want', 'pretty', 'fact', 'got', 'seems', 'however', 'around', 'young', 'may', 'take', 'enough', 'series', 'give', 'thought', 'horror', 'original', 'big', 'family', 'always', 'without', 'point', 'gets', 'right', 'times', 'come', 'must', 'action', 'least', 'whole', 'long', 'comedy', 'bit', 'almost', 'saw', 'role', 'done', 'music', 'interesting', 'minutes', 'far', 'guy', 'last', 'script', 'probably', \"'ll\", 'feel', 'might', 'performance', 'since', 'woman', 'anything', 'kind', 'girl', 'yet', 'away', 'rather', 'worst', 'sure', 'played', 'tv', 'anyone', 'course', 'making', 'day', 'found', 'fun', 'especially', 'comes', 'looks', 'although', 'trying', 'believe', 'goes', 'place', 'hard', 'let', 'book', 'reason', 'money', 'put', 'different', '2', 'shows', 'everything', 'dvd', 'main', 'screen', \"'d\", 'said', 'sense', 'someone', 'worth', 'ending', 'maybe', 'set', 'instead', 'version', 'john', 'job', 'true', 'audience', 'everyone', 'looking', 'together', 'watched', 'plays', 'later', 'three', 'actor', '10', 'beautiful', 'seem', 'effects', 'american', 'takes', 'idea', 'play', 'special', 'night', 'seeing', 'left', 'father', 'excellent', 'war', 'wife', 'house', 'nice', 'women', 'men', 'year', 'else', 'read', 'shot', 'simply', 'used', 'black', 'less', 'home', 'kids', 'poor', 'fan', 'wrong', 'mind', 'help', 'rest', 'try', 'high', 'given', 'enjoy', 'completely', 'either', 'second', 'along', 'use', 'need', 'star', 'hollywood', 'truly', 'death', 'performances', 'classic', 'remember', 'production', 'couple', 'short', 'friends', 'line', 'boring', 'tell', 'perhaps', 'half', 'came', 'start', 'dead', 'stupid', 'episode', 'full', 'video', 'awful', 'wonderful', 'next', 'recommend', 'camera', 'others', 'gives', 'mean', 'name', 'moments', 'understand', 'children', 'keep', 'terrible', 'often', 'person', 'getting', 'face', 'lost', 'stars', 'top', 'playing', 'sex', 'finally', 'perfect', 'become', 'definitely', 'small', 'certainly', 'mother', 'dialogue', 'early', 'problem', 'piece', 'liked', 'yes', 'school', 'overall', 'human', 'supposed', 'picture', 'went', 'written', 'worse', 'evil', 'cinema', 'case', 'loved', 'entertaining', 'absolutely', 'felt', 'head', 'hope', 'entire', 'lines', 'live', 'title', 'friend', '\\x96', 'style', 'waste', 'becomes', 'killer', 'budget', 'boy', 'unfortunately', 'sort', 'seemed', '3', 'fans', 'care', 'michael', 'works', 'throughout', 'several', 'lives', 'child', 'despite', 'wanted', 'based', 'dark', 'beginning', 'direction', 'white', 'wants', 'son', 'sound', 'viewer', 'guess', 'final', 'turn', 'totally', 'called', 'oh', 'example', 'already', 'act', 'lead', 'amazing', 'drama', 'humor', 'game', '1', 'wo', 'history', 'writing', 'low', 'fine', 'decent', 'town', 'past', 'quality', 'guys', 'turns', 'laugh', 'soon', 'today', 'enjoyed', 'days', 'tries', 'sometimes', 'able', 'city', 'horrible', 'behind', 'favorite', 'starts', 'flick', 'brilliant', 'girls', 'car', 'kill', 'side', 'gave', 'daughter', 'directed', 'highly', 'feeling', 'stuff', 'took', 'eyes', 'hand', 'kid', 'run', 'heard', 'thinking', 'actress', 'obviously', 'blood', 'heart', 'genre', 'expect', 'matter', 'chance', 'parts', 'extremely', 'group', 'leave', 'alone', 'age', 'including', 'violence', 'says', 'moment', 'strong', 'roles', 'killed', 'art', 'anyway', 'stories', 'late', 'god', 'usually', 'none', 'living', 'score', 'close', 'brother', 'police', 'ago', 'told', 'attempt', 'hour', 'please', 'happen', 'wonder', 'particularly', 'complete', 'ends', 'involved', 'husband', 'fight', 'happens', 'voice', 'whose', 'slow', 'coming', 'shown', 'number', 'lack', 'interest', 'obvious', 'happened', 'etc', 'mr.', 'type', 'hero', 'simple', 'except', 'annoying', 'song', 'across', 'released', 'saying', 'possible', 'serious', 'looked', 'save', 'hit', 'musical', 'james', 'running', 'murder', 'taken', 'novel', 'crap', 'known', 'experience', 'somewhat', 'david', 'seriously', 'relationship', 'sad', 'hell', 'cinematography', 'stop', 'opinion', 'started', 'hours', 'gore', 'usual', 'career', 'ok', 'talking', 'finds', 'paul', 'taking', 'exactly', 'songs', 'call', 'huge', 'female', 'problems', 'talent', 'power', 'room', 'mostly', 'king', 'basically', 'cool', 'reality', 'shots', 'wish', 'country', 'bring', 'opening', 'apparently', 'robert', 'events', 'five', 'word', 'ridiculous', '4', 'order', 'knows', 'level', 'hilarious', 'documentary', 'strange', 'knew', 'ones', 'animation', 'turned', 'view', 'silly', 'jack', 'scary', 'disappointed', 'local', 'tells', 'jokes', 'supporting', 'important', 'richard', 'change', 'body', 'cheap', 'due', 'attention', 'episodes', 'major', 'talk', 'easily', 'cut', '5', 'whether', 'happy', 'falls', 'entertainment', 'english', 'similar', 'earth', 'points', 'television', 'feels', 'modern', 'disney', 'appears', 'lee', 'theater', 'four', 'words', 'named', 'storyline', 'review', 'giving', 'future', 'beyond', 'clearly', 'upon', 'rating', 'mention', 'single', 'sequence', 'message', 'needs', 'sets', 'clear', 'british', 'ways', 'lady', 'writer', 'team', 'sister', 'dull', 'within', 'romantic', 'fantastic', 'avoid', 'miss', 'sequel', 'george', 'ten', 'rock', 'french', 'predictable', 'add', 'surprised', 'enjoyable', 'elements', 'release', 'light', 'among', 'buy', 'gone', 'peter', 'hate', 'theme', 'nearly', 'sorry', 'actual', 'particular', 'moving', 'stay', 'imagine', 'japanese', 'tried', 'effort', 'tale', 'viewers', 'material', 'lots', 'general', 'somehow', 'famous', 'middle', 'doubt', 'dog', 'thriller', 'using', 'kept', 'york', 'straight', 'greatest', 'easy', 'oscar', 'form', 'bunch', 'stand', 'comments', 'comic', 'move', 'near', 'leads', 'working', 'mystery', 'atmosphere', 'fast', 'indeed', 'typical', 'subject', 'begins', 'class', 'filmed', 'learn', 'surprise', 'society', 'dialog', 'feature', 'deal', 'red', 'means', 'season', 'fall', 'certain', 'possibly', 'viewing', 'weak', 'period', 'brought', 'suspense', 'america', 'lame', 'sit', 'soundtrack', 'reviews', 'sexual', 'forget', 'decided', 'check', 'showing', 'editing', 'dance', 'sequences', 'die', 'realistic', 'average', 'crime', 'figure', 'eventually', 'believable', 'parents', 'third', 'hear', 'okay', 'wait', 'tom', 'premise', 'nature', 'follow', 'difficult', 'eye', 'emotional', 'shame', 'de', 'directors', 'truth', 'male', 'unless', 'leaves', 'zombie', 'reading', 'needed', 'forced', 'monster', 'space', 'otherwise', 'rent', 'screenplay', 'became', 'begin', 'development', 'romance', 'whatever', 'bill', 'meet', 'situation', 'minute', 'earlier', 'deep', 'question', 'admit', 'creepy', 'meets', 'note', 'stage', 'hardly', 'personal', 'imdb', 'sounds', 'ben', 'laughs', 'write', 'older', 'expected', 'interested', 'superb', 'result', 'ideas', 'badly', 'crazy', 'plus', 'total', 'appear', 'mark', 'beauty', 'killing', 'mess', 'brings', 'street', 'footage', 'worked', 'fails', 'dramatic', 'slightly', 'fire', 'poorly', 'towards', 'weird', 'credits', 'match', 'baby', 'powerful', 'directing', 'ask', 'memorable', 'comment', 'boys', 'perfectly', 'setting', 'leading', 'business', 'joke', 'incredibly', 'plenty', 'inside', 'writers', 'effect', 'jane', '20', 'married', 'escape', 'william', 'realize', 'hot', 'acted', 'background', 'odd', 'casting', 'secret', 'hands', 'quickly', 'meant', 'christmas', 'apart', 'telling', 'box', 'open', 'dream', 'present', 'air', 'features', 'return', 'expecting', 'villain', 'island', 'fantasy', 'pure', 'various', 'attempts', 'political', 'battle', 'nudity', 'success', 'keeps', 'forward', 'deserves', 'cartoon', 'missing', 'wrote', 'cheesy', 'dumb', 'joe', 'pay', 'previous', 'unique', 'doctor', 'twist', 'potential', 'fairly', 'recently', 'outside', 'girlfriend', 'reasons', 'flat', 'crew', 'list', 'social', 'gay', 'front', 'scott', 'sadly', 'hold', 'suddenly', 'free', 'members', 'create', 'copy', 'fighting', 'cute', 'portrayed', 'trouble', 'mentioned', 'talented', 'break', 'amount', 'western', 'rich', 'dr.', 'masterpiece', 'brothers', 'missed', 'compared', 'remake', 'following', '80', 'cat', 'party', 'unlike', 'office', 'large', 'mary', 'era', 'agree', \"'the\", 'pace', 'effective', 'fit', 'common', 'uses', 'waiting', 'public', 'plain', 'caught', 'water', 'band', 'incredible', 'manages', 'tension', 'control', 'credit', 'ended', 'entirely', 'successful', 'sweet', 'solid', 'filmmakers', 'revenge', 'wasted', 'spent', 'consider', 'b', 'decide', 'cop', 'force', 'rate', 'neither', 'considering', 'popular', 'moves', '7', 'bizarre', 'science', 'sees', 'kills', 'familiar', 'spend', 'century', 'convincing', 'singing', 'audiences', 'positive', 'exciting', 'cold', 'clever', 'decides', 'aside', 'zombies', 'sci-fi', 'impressive', 'died', 'basic', 'speak', 'produced', 'steve', 'violent', 'created', 'value', 'planet', 'choice', 'visual', 'intelligent', 'biggest', 'language', 'concept', 'laughing', 'amusing', 'fear', 'recommended', 'tone', 'cause', 'filled', 'impossible', 'focus', '30', 'spirit', 'situations', 'animated', 'showed', 'adult', 'jim', 'depth', 'dancing', 'books', 'former', 'italian', 'ghost', 'respect', 'accent']\n"
          ],
          "name": "stdout"
        }
      ]
    },
    {
      "metadata": {
        "colab_type": "code",
        "id": "I8DCTKf7i078",
        "colab": {}
      },
      "cell_type": "code",
      "source": [
        "# Create a dictionary of words in the vocabulary mapped to index positions\n",
        "# (to be used in layer_0)\n",
        "word2index = {}\n",
        "for i,word in enumerate(vocab):\n",
        "    word2index[word] = i"
      ],
      "execution_count": 0,
      "outputs": []
    },
    {
      "metadata": {
        "colab_type": "code",
        "id": "1y_wEoNPi08E",
        "outputId": "bf5c180e-f88f-41ee-af56-d7d0d118d363",
        "colab": {
          "base_uri": "https://localhost:8080/",
          "height": 35
        }
      },
      "cell_type": "code",
      "source": [
        "print(\"ID of 'movie' = {}\".format(word2index['movie']))"
      ],
      "execution_count": 135,
      "outputs": [
        {
          "output_type": "stream",
          "text": [
            "ID of 'movie' = 0\n"
          ],
          "name": "stdout"
        }
      ]
    },
    {
      "metadata": {
        "colab_type": "code",
        "id": "Rnt7_kXii08M",
        "colab": {}
      },
      "cell_type": "code",
      "source": [
        "def convert_to_bag(review):\n",
        "    bag = np.zeros(VOCAB_SIZE)\n",
        "    for word in review:\n",
        "        if word in vocab:\n",
        "          i = word2index[word.lower()]\n",
        "          bag[i]+=1\n",
        "    return bag"
      ],
      "execution_count": 0,
      "outputs": []
    },
    {
      "metadata": {
        "colab_type": "code",
        "id": "BLn_ywWwi08S",
        "colab": {}
      },
      "cell_type": "code",
      "source": [
        "test_bag = convert_to_bag(all_reviews[0])"
      ],
      "execution_count": 0,
      "outputs": []
    },
    {
      "metadata": {
        "colab_type": "code",
        "id": "BWXsLsrTi08X",
        "colab": {}
      },
      "cell_type": "code",
      "source": [
        "all_reviews_encoded = [convert_to_bag(x) for x in all_reviews]"
      ],
      "execution_count": 0,
      "outputs": []
    },
    {
      "metadata": {
        "colab_type": "code",
        "id": "hlrsPRWWi08f",
        "outputId": "a98e23c2-0165-4bc5-e2f5-71babdbddcae",
        "colab": {
          "base_uri": "https://localhost:8080/",
          "height": 35
        }
      },
      "cell_type": "code",
      "source": [
        "all_reviews_encoded[0].shape"
      ],
      "execution_count": 139,
      "outputs": [
        {
          "output_type": "execute_result",
          "data": {
            "text/plain": [
              "(1000,)"
            ]
          },
          "metadata": {
            "tags": []
          },
          "execution_count": 139
        }
      ]
    },
    {
      "metadata": {
        "colab_type": "code",
        "id": "ZPEW66FQi08z",
        "colab": {}
      },
      "cell_type": "code",
      "source": [
        "import random\n",
        "\n",
        "positive_labels = []\n",
        "for i in range(len(positive_tokenized)):\n",
        "    positive_labels.append('POSITIVE')\n",
        "negative_labels = []\n",
        "for i in range(len(negative_tokenized)):\n",
        "    negative_labels.append('NEGATIVE')\n",
        "   "
      ],
      "execution_count": 0,
      "outputs": []
    },
    {
      "metadata": {
        "colab_type": "code",
        "id": "w__rOGc7i085",
        "colab": {}
      },
      "cell_type": "code",
      "source": [
        "labels = positive_labels + negative_labels\n",
        "\n",
        "num_lables = []\n",
        "\n",
        "for val in labels:\n",
        "    if val == 'POSITIVE':\n",
        "       num_lables.append(1)\n",
        "    else:\n",
        "       num_lables.append(0) \n",
        "    "
      ],
      "execution_count": 0,
      "outputs": []
    },
    {
      "metadata": {
        "colab_type": "code",
        "id": "V75H_F9Gi08-",
        "colab": {}
      },
      "cell_type": "code",
      "source": [
        "reviews_and_labels = list(zip(all_reviews_encoded, num_lables))\n",
        "random.shuffle(reviews_and_labels)\n",
        "reviews, labels = zip(*reviews_and_labels)"
      ],
      "execution_count": 0,
      "outputs": []
    },
    {
      "metadata": {
        "colab_type": "code",
        "id": "HFOEHypri09D",
        "colab": {}
      },
      "cell_type": "code",
      "source": [
        "labels = np.array(labels)"
      ],
      "execution_count": 0,
      "outputs": []
    },
    {
      "metadata": {
        "id": "ExIGdNTQPZvr",
        "colab_type": "code",
        "colab": {}
      },
      "cell_type": "code",
      "source": [
        "def saveTrainingMetrics(title):\n",
        "  df = pd.DataFrame(results.history)\n",
        "  df=df[df['val_acc']==df.val_acc.max()]\n",
        "  df=df[df['acc']==df.acc.min()]\n",
        "\n",
        "  df.reset_index(inplace=True)\n",
        "    \n",
        "  df[\"title\"]=[title]\n",
        "  df[\"sample_size\"]=[SAMPLE_SIZE]\n",
        "  df[\"batch_size\"]=[BATCH_SIZE]\n",
        "  df[\"train_test_ratio\"]=[TRAIN_TEST_RATIO]\n",
        "  df[\"training_set_size\"]=[TRAINING_SET_SIZE]\n",
        "  df[\"validation_set_size\"]=[VALIDATION_SET_SIZE]\n",
        "  df[\"vocab_size\"]=[VOCAB_SIZE]  \n",
        "  df[\"nb_epochs\"]=[EPOCHS]\n",
        "  df[\"training_duration_in_secs\"]=[training_duration_in_secs]\n",
        "  df.drop(labels=\"index\",axis=1,inplace=True)\n",
        "  print(df)\n",
        "  df.to_csv(path_or_buf=df.iloc[0].title+\".csv\")"
      ],
      "execution_count": 0,
      "outputs": []
    },
    {
      "metadata": {
        "id": "qeAuh5wcPZvU",
        "colab_type": "text"
      },
      "cell_type": "markdown",
      "source": [
        "## Create a sparse matrix from reviews (where we keep the order of the words)"
      ]
    },
    {
      "metadata": {
        "id": "OpYv1kJXPZvV",
        "colab_type": "code",
        "outputId": "b196e23b-eac0-4263-ec4d-a3b9da8fa997",
        "colab": {
          "base_uri": "https://localhost:8080/",
          "height": 55
        }
      },
      "cell_type": "code",
      "source": [
        "positive_strings[0]"
      ],
      "execution_count": 145,
      "outputs": [
        {
          "output_type": "execute_result",
          "data": {
            "text/plain": [
              "\"There's a good reason that Walter Pidgeon is warning off Leslie Nielson and his crew from the relief ship, stuff he dare not dream about.  As Doctor Edward Morbius, Pidgeon is the last survivor of an expedition that came to this planet 20 years earlier. Since that time he married another member of the expedition and had a daughter, Anne Francis. They are the only humans left on this planet which was once the home world of an ancient civilization known as the Krell.  The records as deciphered by Pidgeon indicate the Krell came to a cataclysmic ending of unknown origin. The machinery they left behind is still functioning.  Maybe functioning too well as members of the relief party start dying and in a particular gruesome fashion.   I see all kinds of speculation about a remake and this is one film not to remake because it's as fresh as it was in 1956. The terms would change, we would now say warp speed instead of hyper drive, courtesy of the enduring popularity of Star Trek.  We might not see the men in the relief expedition in a flying saucer like space ship. It might look a lot more like the Starship Enterprise or the Ship from 2001 A Space Odyssey. It's interesting to look at science fiction films from different generations and see how are conceptions of the future do change.  The story behind Forbidden Planet is a timeless one, about mortal beings trying to play God.  You can't write about Forbidden Planet without commenting on Robby the Robot. This mechanical marvel, put together by Pidgeon with the knowledge he gained from studying the Krell was quite the hit back in the day. He got a new lease on life in the sixties with the character of the Robot from Lost In Space. His scenes with Earl Holliman who plays the cook on the space ship and his complying with Earl's request for some home spirits are very funny.  Robby and the other special effects were nominated for an Oscar, but lost to The Ten Commandments and the parting of the Red Sea. Forbidden Planet's bad luck to run up against a Hollywood founder like Cecil B. DeMille.  Classicists among you will recognize Forbidden Planet as a futuristic reworking of The Tempest which when you think about it could have been Shakespeare's one venture into science fiction.   My favorite among the cast is Warren Stevens who's sacrifice enables Leslie Nielsen to learn exactly what he's dealing with.  Never miss this one whenever it's broadcast.\""
            ]
          },
          "metadata": {
            "tags": []
          },
          "execution_count": 145
        }
      ]
    },
    {
      "metadata": {
        "id": "WPJRAN45PZvb",
        "colab_type": "code",
        "colab": {}
      },
      "cell_type": "code",
      "source": [
        "### We need to found out why we need this code and possibly who has written this code\n",
        "# reviews=[]\n",
        "# for sentence in positive_strings:\n",
        "#     reviews.append([sentence,1])\n",
        "# for sentence in negative_strings:\n",
        "#     reviews.append([sentence,0])\n",
        "# random.shuffle(reviews)\n"
      ],
      "execution_count": 0,
      "outputs": []
    },
    {
      "metadata": {
        "id": "YDQ10eDrPZvf",
        "colab_type": "code",
        "colab": {}
      },
      "cell_type": "code",
      "source": [
        "# tokenizer = keras.preprocessing.text.Tokenizer(num_words=None, filters='!\"#$%&()*+,-./:;<=>?@[\\]^_`{|}~',\\\n",
        "#                                    lower=True, split=' ', char_level=False, oov_token=None, document_count=0)"
      ],
      "execution_count": 0,
      "outputs": []
    },
    {
      "metadata": {
        "id": "LC4R-X_4PZvk",
        "colab_type": "code",
        "colab": {}
      },
      "cell_type": "code",
      "source": [
        "# len(reviews)"
      ],
      "execution_count": 0,
      "outputs": []
    },
    {
      "metadata": {
        "id": "gEmgoPp-PZvv",
        "colab_type": "text"
      },
      "cell_type": "markdown",
      "source": [
        "<a href='#table'>Back</a>\n",
        "# Train models<a class=\"anchor\" id=\"train\"></a>\n",
        "## Train NN 50 - 10 - 1 <a class=\"anchor\" id=\"train1\"></a>\n"
      ]
    },
    {
      "metadata": {
        "colab_type": "code",
        "id": "RsW4fg5wi09R",
        "colab": {}
      },
      "cell_type": "code",
      "source": [
        "X_train, X_test, y_train, y_test = train_test_split(np.array(reviews), np.array(labels), test_size=0.25)"
      ],
      "execution_count": 0,
      "outputs": []
    },
    {
      "metadata": {
        "id": "tpher_taUnSR",
        "colab_type": "code",
        "outputId": "90997b78-8058-4cf8-dd3b-2bed4d05a117",
        "colab": {
          "base_uri": "https://localhost:8080/",
          "height": 138
        }
      },
      "cell_type": "code",
      "source": [
        "X_train"
      ],
      "execution_count": 149,
      "outputs": [
        {
          "output_type": "execute_result",
          "data": {
            "text/plain": [
              "array([[ 1.,  0.,  0., ...,  0.,  0.,  0.],\n",
              "       [ 3.,  1.,  2., ...,  0.,  0.,  0.],\n",
              "       [ 0., 15.,  2., ...,  0.,  0.,  0.],\n",
              "       ...,\n",
              "       [ 2.,  0.,  0., ...,  0.,  0.,  0.],\n",
              "       [ 1.,  0.,  1., ...,  0.,  0.,  0.],\n",
              "       [ 1.,  4.,  2., ...,  0.,  0.,  0.]])"
            ]
          },
          "metadata": {
            "tags": []
          },
          "execution_count": 149
        }
      ]
    },
    {
      "metadata": {
        "colab_type": "code",
        "id": "94uBoS1xi09X",
        "outputId": "ed95aa5a-21dc-4271-fbad-2ead80816667",
        "colab": {
          "base_uri": "https://localhost:8080/",
          "height": 242
        }
      },
      "cell_type": "code",
      "source": [
        "startTime=time.time()\n",
        "model = keras.Sequential()\n",
        "model.add(layers.Dense(50, activation = \"relu\", input_shape=(VOCAB_SIZE, )))\n",
        "model.add(layers.Dense(10, activation = \"relu\"))\n",
        "model.add(layers.Dense(1, activation = \"sigmoid\"))\n",
        "model.summary()"
      ],
      "execution_count": 150,
      "outputs": [
        {
          "output_type": "stream",
          "text": [
            "_________________________________________________________________\n",
            "Layer (type)                 Output Shape              Param #   \n",
            "=================================================================\n",
            "dense_120 (Dense)            (None, 50)                50050     \n",
            "_________________________________________________________________\n",
            "dense_121 (Dense)            (None, 10)                510       \n",
            "_________________________________________________________________\n",
            "dense_122 (Dense)            (None, 1)                 11        \n",
            "=================================================================\n",
            "Total params: 50,571\n",
            "Trainable params: 50,571\n",
            "Non-trainable params: 0\n",
            "_________________________________________________________________\n"
          ],
          "name": "stdout"
        }
      ]
    },
    {
      "metadata": {
        "colab_type": "code",
        "id": "bJDNCzSui09e",
        "colab": {}
      },
      "cell_type": "code",
      "source": [
        "model.compile(\n",
        " optimizer = \"adam\",\n",
        " loss = \"binary_crossentropy\",\n",
        "   metrics = [\"accuracy\"]\n",
        ")"
      ],
      "execution_count": 0,
      "outputs": []
    },
    {
      "metadata": {
        "colab_type": "code",
        "id": "YvcEJsRxi09j",
        "outputId": "82273eb1-69f6-4d9d-b9af-fcaac4f4384b",
        "colab": {
          "base_uri": "https://localhost:8080/",
          "height": 745
        }
      },
      "cell_type": "code",
      "source": [
        "EPOCHS=20\n",
        "results=model.fit(\n",
        "   X_train, y_train,\n",
        "   epochs=EPOCHS,\n",
        "   validation_data=(X_test, y_test),\n",
        "   batch_size=BATCH_SIZE\n",
        "  )\n",
        "endTime=time.time()"
      ],
      "execution_count": 152,
      "outputs": [
        {
          "output_type": "stream",
          "text": [
            "Train on 9375 samples, validate on 3125 samples\n",
            "Epoch 1/20\n",
            "9375/9375 [==============================] - 3s 296us/sample - loss: 0.5005 - acc: 0.7572 - val_loss: 0.3792 - val_acc: 0.8384\n",
            "Epoch 2/20\n",
            "9375/9375 [==============================] - 1s 123us/sample - loss: 0.3404 - acc: 0.8639 - val_loss: 0.3828 - val_acc: 0.8314\n",
            "Epoch 3/20\n",
            "9375/9375 [==============================] - 1s 130us/sample - loss: 0.2828 - acc: 0.8906 - val_loss: 0.3763 - val_acc: 0.8371\n",
            "Epoch 4/20\n",
            "9375/9375 [==============================] - 1s 127us/sample - loss: 0.2310 - acc: 0.9117 - val_loss: 0.3934 - val_acc: 0.8291\n",
            "Epoch 5/20\n",
            "9375/9375 [==============================] - 1s 125us/sample - loss: 0.1767 - acc: 0.9371 - val_loss: 0.4347 - val_acc: 0.8259\n",
            "Epoch 6/20\n",
            "9375/9375 [==============================] - 1s 129us/sample - loss: 0.1213 - acc: 0.9657 - val_loss: 0.4618 - val_acc: 0.8291\n",
            "Epoch 7/20\n",
            "9375/9375 [==============================] - 1s 120us/sample - loss: 0.0811 - acc: 0.9808 - val_loss: 0.5194 - val_acc: 0.8278\n",
            "Epoch 8/20\n",
            "9375/9375 [==============================] - 1s 130us/sample - loss: 0.0499 - acc: 0.9895 - val_loss: 0.5747 - val_acc: 0.8320\n",
            "Epoch 9/20\n",
            "9375/9375 [==============================] - 1s 122us/sample - loss: 0.0285 - acc: 0.9945 - val_loss: 0.6436 - val_acc: 0.8259\n",
            "Epoch 10/20\n",
            "9375/9375 [==============================] - 1s 124us/sample - loss: 0.0158 - acc: 0.9983 - val_loss: 0.7059 - val_acc: 0.8240\n",
            "Epoch 11/20\n",
            "9375/9375 [==============================] - 1s 122us/sample - loss: 0.0093 - acc: 0.9995 - val_loss: 0.7601 - val_acc: 0.8266\n",
            "Epoch 12/20\n",
            "9375/9375 [==============================] - 1s 122us/sample - loss: 0.0060 - acc: 0.9995 - val_loss: 0.8039 - val_acc: 0.8272\n",
            "Epoch 13/20\n",
            "9375/9375 [==============================] - 1s 122us/sample - loss: 0.0042 - acc: 0.9997 - val_loss: 0.8445 - val_acc: 0.8253\n",
            "Epoch 14/20\n",
            "9375/9375 [==============================] - 1s 127us/sample - loss: 0.0031 - acc: 0.9998 - val_loss: 0.8731 - val_acc: 0.8266\n",
            "Epoch 15/20\n",
            "9375/9375 [==============================] - 1s 129us/sample - loss: 0.0023 - acc: 0.9999 - val_loss: 0.9039 - val_acc: 0.8269\n",
            "Epoch 16/20\n",
            "9375/9375 [==============================] - 1s 140us/sample - loss: 0.0018 - acc: 0.9999 - val_loss: 0.9311 - val_acc: 0.8259\n",
            "Epoch 17/20\n",
            "9375/9375 [==============================] - 1s 142us/sample - loss: 0.0014 - acc: 0.9999 - val_loss: 0.9564 - val_acc: 0.8269\n",
            "Epoch 18/20\n",
            "9375/9375 [==============================] - 1s 130us/sample - loss: 0.0012 - acc: 0.9999 - val_loss: 0.9774 - val_acc: 0.8253\n",
            "Epoch 19/20\n",
            "9375/9375 [==============================] - 1s 134us/sample - loss: 9.9826e-04 - acc: 0.9999 - val_loss: 1.0006 - val_acc: 0.8266\n",
            "Epoch 20/20\n",
            "9375/9375 [==============================] - 1s 150us/sample - loss: 8.3351e-04 - acc: 0.9999 - val_loss: 1.0181 - val_acc: 0.8256\n"
          ],
          "name": "stdout"
        }
      ]
    },
    {
      "metadata": {
        "id": "9gpws5-VY17J",
        "colab_type": "code",
        "outputId": "cb65ab1d-62bf-4e97-c45a-24d48891ce22",
        "colab": {
          "base_uri": "https://localhost:8080/",
          "height": 155
        }
      },
      "cell_type": "code",
      "source": [
        "training_duration_in_secs=endTime - startTime\n",
        "saveTrainingMetrics(\"Opti-NN-Train NN 50 - 10 - 1\")"
      ],
      "execution_count": 153,
      "outputs": [
        {
          "output_type": "stream",
          "text": [
            "        acc      loss  val_acc  val_loss                         title  \\\n",
            "0  0.757227  0.500543   0.8384  0.379216  Opti-NN-Train NN 50 - 10 - 1   \n",
            "\n",
            "   sample_size  batch_size  train_test_ratio  training_set_size  \\\n",
            "0        12500          64              0.25               9375   \n",
            "\n",
            "   validation_set_size  vocab_size  nb_epochs  training_duration_in_secs  \n",
            "0                 3125        1000         20                  34.612682  \n"
          ],
          "name": "stdout"
        }
      ]
    },
    {
      "metadata": {
        "id": "vPb3tdEfPZv9",
        "colab_type": "text"
      },
      "cell_type": "markdown",
      "source": [
        "## Train NN 256 - 128 - 1 <a class=\"anchor\" id=\"train2\"></a>"
      ]
    },
    {
      "metadata": {
        "colab_type": "code",
        "id": "IG7nratoi09w",
        "colab": {}
      },
      "cell_type": "code",
      "source": [
        "startTime=time.time()\n",
        "model = keras.Sequential([\n",
        "    layers.Dense(256, activation = \"relu\", input_shape=(VOCAB_SIZE, )),\n",
        "    layers.Dense(128, activation = \"relu\"),\n",
        "    layers.Dense(1, activation = \"sigmoid\")\n",
        "])"
      ],
      "execution_count": 0,
      "outputs": []
    },
    {
      "metadata": {
        "colab_type": "code",
        "id": "IOI6rAd_i091",
        "outputId": "082684ad-fd7c-45df-9f12-1172be5b964a",
        "colab": {
          "base_uri": "https://localhost:8080/",
          "height": 242
        }
      },
      "cell_type": "code",
      "source": [
        "model.summary()"
      ],
      "execution_count": 155,
      "outputs": [
        {
          "output_type": "stream",
          "text": [
            "_________________________________________________________________\n",
            "Layer (type)                 Output Shape              Param #   \n",
            "=================================================================\n",
            "dense_123 (Dense)            (None, 256)               256256    \n",
            "_________________________________________________________________\n",
            "dense_124 (Dense)            (None, 128)               32896     \n",
            "_________________________________________________________________\n",
            "dense_125 (Dense)            (None, 1)                 129       \n",
            "=================================================================\n",
            "Total params: 289,281\n",
            "Trainable params: 289,281\n",
            "Non-trainable params: 0\n",
            "_________________________________________________________________\n"
          ],
          "name": "stdout"
        }
      ]
    },
    {
      "metadata": {
        "colab_type": "code",
        "id": "tHpN5VM8i097",
        "colab": {}
      },
      "cell_type": "code",
      "source": [
        "model.compile(\n",
        " optimizer = \"adam\",\n",
        " loss = \"binary_crossentropy\",\n",
        " metrics = [\"accuracy\"]\n",
        ")"
      ],
      "execution_count": 0,
      "outputs": []
    },
    {
      "metadata": {
        "colab_type": "code",
        "id": "FhcPKZnFi0-D",
        "outputId": "f982efa8-7d70-49f0-c450-473ba756efa6",
        "colab": {
          "base_uri": "https://localhost:8080/",
          "height": 227
        }
      },
      "cell_type": "code",
      "source": [
        "EPOCHS=5\n",
        "results = model.fit(\n",
        " X_train, y_train,\n",
        " epochs=EPOCHS,\n",
        " validation_data=(X_test, y_test),\n",
        "batch_size=BATCH_SIZE\n",
        ")"
      ],
      "execution_count": 157,
      "outputs": [
        {
          "output_type": "stream",
          "text": [
            "Train on 9375 samples, validate on 3125 samples\n",
            "Epoch 1/5\n",
            "9375/9375 [==============================] - 3s 278us/sample - loss: 0.4559 - acc: 0.7931 - val_loss: 0.3827 - val_acc: 0.8349\n",
            "Epoch 2/5\n",
            "9375/9375 [==============================] - 1s 133us/sample - loss: 0.2857 - acc: 0.8854 - val_loss: 0.3713 - val_acc: 0.8403\n",
            "Epoch 3/5\n",
            "9375/9375 [==============================] - 1s 144us/sample - loss: 0.1700 - acc: 0.9382 - val_loss: 0.4355 - val_acc: 0.8301\n",
            "Epoch 4/5\n",
            "9375/9375 [==============================] - 1s 140us/sample - loss: 0.0559 - acc: 0.9841 - val_loss: 0.5963 - val_acc: 0.8314\n",
            "Epoch 5/5\n",
            "9375/9375 [==============================] - 1s 151us/sample - loss: 0.0140 - acc: 0.9968 - val_loss: 0.7090 - val_acc: 0.8266\n"
          ],
          "name": "stdout"
        }
      ]
    },
    {
      "metadata": {
        "colab_type": "code",
        "id": "i2T7Tom0i0-O",
        "outputId": "ec9440c2-c856-4f5c-90e8-dc761c7bb053",
        "colab": {
          "base_uri": "https://localhost:8080/",
          "height": 225
        }
      },
      "cell_type": "code",
      "source": [
        "results.history"
      ],
      "execution_count": 158,
      "outputs": [
        {
          "output_type": "execute_result",
          "data": {
            "text/plain": [
              "{'acc': [0.7930667, 0.88544, 0.93824, 0.98410666, 0.9968],\n",
              " 'loss': [0.4559395123545329,\n",
              "  0.28566976681550343,\n",
              "  0.16996731958468755,\n",
              "  0.05591647620439529,\n",
              "  0.013990674645056328],\n",
              " 'val_acc': [0.83488, 0.84032, 0.83008, 0.83136, 0.82656],\n",
              " 'val_loss': [0.3827115871334076,\n",
              "  0.3712874647331238,\n",
              "  0.4354873935127258,\n",
              "  0.596313157980442,\n",
              "  0.7090018062019349]}"
            ]
          },
          "metadata": {
            "tags": []
          },
          "execution_count": 158
        }
      ]
    },
    {
      "metadata": {
        "id": "X3N7EaCHYHgJ",
        "colab_type": "code",
        "outputId": "220c63b1-30eb-44ca-9108-b1310448be12",
        "colab": {
          "base_uri": "https://localhost:8080/",
          "height": 155
        }
      },
      "cell_type": "code",
      "source": [
        "endTime=time.time()\n",
        "training_duration_in_secs=endTime - startTime\n",
        "saveTrainingMetrics(\"Opti-NN-Train NN 256 - 128 - 1\")"
      ],
      "execution_count": 159,
      "outputs": [
        {
          "output_type": "stream",
          "text": [
            "       acc     loss  val_acc  val_loss                           title  \\\n",
            "0  0.88544  0.28567  0.84032  0.371287  Opti-NN-Train NN 256 - 128 - 1   \n",
            "\n",
            "   sample_size  batch_size  train_test_ratio  training_set_size  \\\n",
            "0        12500          64              0.25               9375   \n",
            "\n",
            "   validation_set_size  vocab_size  nb_epochs  training_duration_in_secs  \n",
            "0                 3125        1000          5                  16.742604  \n"
          ],
          "name": "stdout"
        }
      ]
    },
    {
      "metadata": {
        "id": "C1QyhP2mPZwd",
        "colab_type": "text"
      },
      "cell_type": "markdown",
      "source": [
        "## Train NN with K-Fold cross validation <a class=\"anchor\" id=\"kfold\"></a>"
      ]
    },
    {
      "metadata": {
        "id": "FNUp99AK1xlu",
        "colab_type": "code",
        "colab": {}
      },
      "cell_type": "code",
      "source": [
        "from keras.callbacks import History\n",
        "\n",
        "def getBestResultsFrom(bestResults,results):\n",
        "  if bestResults is None:\n",
        "    return results\n",
        "  \n",
        "  bestResultsDf = pd.DataFrame(data=bestResults.history)\n",
        "  bestResultsDf=bestResultsDf.sort_values(['val_acc'], ascending=False)\n",
        "  resultsDf = pd.DataFrame(data=results.history)\n",
        "  resultsDf=resultsDf.sort_values(['val_acc'], ascending=False)\n",
        "  \n",
        "  if bestResultsDf['val_acc'].iloc[0] > resultsDf['val_acc'].iloc[0]:    \n",
        "    return bestResults\n",
        "  \n",
        "  if bestResultsDf['val_acc'].iloc[0] == resultsDf['val_acc'].iloc[0]:\n",
        "    if bestResultsDf['acc'].iloc[0] < resultsDf['acc'].iloc[0]:\n",
        "      return bestResults\n",
        "    else:\n",
        "      return results\n",
        "\n",
        "  return results"
      ],
      "execution_count": 0,
      "outputs": []
    },
    {
      "metadata": {
        "colab_type": "code",
        "id": "_LwIgaq-i0-a",
        "colab": {}
      },
      "cell_type": "code",
      "source": [
        "X_train, X_test, y_train, y_test = train_test_split(np.array(reviews), np.array(labels), test_size=0.25)"
      ],
      "execution_count": 0,
      "outputs": []
    },
    {
      "metadata": {
        "colab_type": "code",
        "id": "c60zERWRi0-e",
        "colab": {}
      },
      "cell_type": "code",
      "source": [
        "FOLDS=3\n",
        "kfold = KFold(FOLDS, True, 1)"
      ],
      "execution_count": 0,
      "outputs": []
    },
    {
      "metadata": {
        "colab_type": "code",
        "id": "OR8fKYxai0-j",
        "colab": {}
      },
      "cell_type": "code",
      "source": [
        "train_data = list(zip(X_train, y_train))"
      ],
      "execution_count": 0,
      "outputs": []
    },
    {
      "metadata": {
        "colab_type": "code",
        "id": "pV3wG31Qi0-o",
        "outputId": "ee0b5600-7f67-480f-fbcc-f4b530407bd9",
        "colab": {
          "base_uri": "https://localhost:8080/",
          "height": 35
        }
      },
      "cell_type": "code",
      "source": [
        "train_data[0][0].shape"
      ],
      "execution_count": 164,
      "outputs": [
        {
          "output_type": "execute_result",
          "data": {
            "text/plain": [
              "(1000,)"
            ]
          },
          "metadata": {
            "tags": []
          },
          "execution_count": 164
        }
      ]
    },
    {
      "metadata": {
        "id": "6_sF9E7XtyAI",
        "colab_type": "code",
        "colab": {}
      },
      "cell_type": "code",
      "source": [
        "EPOCHS=5\n",
        "SAMPLE_SIZE=len(X_train)\n",
        "TRAIN_TEST_RATIO=(1/FOLDS)\n",
        "TRAINING_SET_SIZE=int(SAMPLE_SIZE * (1 - TRAIN_TEST_RATIO))\n",
        "VALIDATION_SET_SIZE=int(SAMPLE_SIZE * TRAIN_TEST_RATIO)\n",
        "histories=[]"
      ],
      "execution_count": 0,
      "outputs": []
    },
    {
      "metadata": {
        "colab_type": "code",
        "id": "5sw1JTMli0-u",
        "outputId": "556505a7-aea7-4d3b-cec4-15c451415442",
        "colab": {
          "base_uri": "https://localhost:8080/",
          "height": 607
        }
      },
      "cell_type": "code",
      "source": [
        "startTime=time.time()\n",
        "bestResults=None\n",
        "for train_indices, test_indices in kfold.split(X_train,y=y_train):\n",
        "    model = keras.Sequential([\n",
        "      layers.Dense(256, activation = \"relu\", input_shape=(VOCAB_SIZE,)),\n",
        "      layers.Dense(128, activation = \"relu\"),\n",
        "      layers.Dense(1, activation = \"sigmoid\")\n",
        "    ])\n",
        "    model.compile(\n",
        "      optimizer = \"adam\",\n",
        "      loss = \"binary_crossentropy\",\n",
        "      metrics = [\"accuracy\"]\n",
        "    )\n",
        "    K_X_train = X_train[train_indices]\n",
        "    K_y_train = y_train[train_indices]\n",
        "    K_X_test = X_train[test_indices]\n",
        "    K_y_test = y_train[test_indices]\n",
        "    results=model.fit(\n",
        "      K_X_train, K_y_train,\n",
        "      epochs=EPOCHS,\n",
        "      validation_data=(K_X_test, K_y_test),\n",
        "      batch_size=BATCH_SIZE\n",
        "    )\n",
        "    histories.append(results.history)\n",
        "    bestResults=getBestResultsFrom(bestResults,results)\n",
        "    \n",
        "results=bestResults\n",
        "endTime=time.time()"
      ],
      "execution_count": 166,
      "outputs": [
        {
          "output_type": "stream",
          "text": [
            "Train on 6250 samples, validate on 3125 samples\n",
            "Epoch 1/5\n",
            "6250/6250 [==============================] - 2s 381us/sample - loss: 0.4767 - acc: 0.7787 - val_loss: 0.4123 - val_acc: 0.8307\n",
            "Epoch 2/5\n",
            "6250/6250 [==============================] - 1s 134us/sample - loss: 0.2749 - acc: 0.8942 - val_loss: 0.3975 - val_acc: 0.8349\n",
            "Epoch 3/5\n",
            "6250/6250 [==============================] - 1s 154us/sample - loss: 0.1549 - acc: 0.9451 - val_loss: 0.4577 - val_acc: 0.8298\n",
            "Epoch 4/5\n",
            "6250/6250 [==============================] - 1s 138us/sample - loss: 0.0528 - acc: 0.9875 - val_loss: 0.6269 - val_acc: 0.8272\n",
            "Epoch 5/5\n",
            "6250/6250 [==============================] - 1s 157us/sample - loss: 0.0150 - acc: 0.9984 - val_loss: 0.7421 - val_acc: 0.8333\n",
            "Train on 6250 samples, validate on 3125 samples\n",
            "Epoch 1/5\n",
            "6250/6250 [==============================] - 2s 390us/sample - loss: 0.4755 - acc: 0.7749 - val_loss: 0.3900 - val_acc: 0.8442\n",
            "Epoch 2/5\n",
            "6250/6250 [==============================] - 1s 151us/sample - loss: 0.2670 - acc: 0.8926 - val_loss: 0.4132 - val_acc: 0.8381\n",
            "Epoch 3/5\n",
            "6250/6250 [==============================] - 1s 131us/sample - loss: 0.1492 - acc: 0.9442 - val_loss: 0.4842 - val_acc: 0.8304\n",
            "Epoch 4/5\n",
            "6250/6250 [==============================] - 1s 141us/sample - loss: 0.0527 - acc: 0.9864 - val_loss: 0.6296 - val_acc: 0.8294\n",
            "Epoch 5/5\n",
            "6250/6250 [==============================] - 1s 139us/sample - loss: 0.0128 - acc: 0.9984 - val_loss: 0.7395 - val_acc: 0.8272\n",
            "Train on 6250 samples, validate on 3125 samples\n",
            "Epoch 1/5\n",
            "6250/6250 [==============================] - 2s 396us/sample - loss: 0.4745 - acc: 0.7802 - val_loss: 0.4025 - val_acc: 0.8240\n",
            "Epoch 2/5\n",
            "6250/6250 [==============================] - 1s 137us/sample - loss: 0.2816 - acc: 0.8867 - val_loss: 0.4202 - val_acc: 0.8202\n",
            "Epoch 3/5\n",
            "6250/6250 [==============================] - 1s 132us/sample - loss: 0.1645 - acc: 0.9398 - val_loss: 0.4866 - val_acc: 0.8077\n",
            "Epoch 4/5\n",
            "6250/6250 [==============================] - 1s 129us/sample - loss: 0.0600 - acc: 0.9838 - val_loss: 0.6493 - val_acc: 0.8090\n",
            "Epoch 5/5\n",
            "6250/6250 [==============================] - 1s 125us/sample - loss: 0.0122 - acc: 0.9987 - val_loss: 0.7805 - val_acc: 0.8128\n"
          ],
          "name": "stdout"
        }
      ]
    },
    {
      "metadata": {
        "id": "K3Wmz90j1efN",
        "colab_type": "code",
        "outputId": "b52c012e-b390-45c4-af02-17d52c171cf9",
        "colab": {
          "base_uri": "https://localhost:8080/",
          "height": 207
        }
      },
      "cell_type": "code",
      "source": [
        "training_duration_in_secs=endTime - startTime\n",
        "saveTrainingMetrics(\"Opti-NN-Train NN with K-Fold cross validation\")"
      ],
      "execution_count": 167,
      "outputs": [
        {
          "output_type": "stream",
          "text": [
            "       acc      loss  val_acc  val_loss  \\\n",
            "0  0.77488  0.475486  0.84416  0.389954   \n",
            "\n",
            "                                           title  sample_size  batch_size  \\\n",
            "0  Opti-NN-Train NN with K-Fold cross validation         9375          64   \n",
            "\n",
            "   train_test_ratio  training_set_size  validation_set_size  vocab_size  \\\n",
            "0          0.333333               6250                 3125        1000   \n",
            "\n",
            "   nb_epochs  training_duration_in_secs  \n",
            "0          5                  45.120075  \n"
          ],
          "name": "stdout"
        }
      ]
    },
    {
      "metadata": {
        "colab_type": "code",
        "id": "s5ouE4n7i0-3",
        "outputId": "902f1f99-6b03-4eea-905e-76abdb3149f5",
        "colab": {
          "base_uri": "https://localhost:8080/",
          "height": 151
        }
      },
      "cell_type": "code",
      "source": [
        "df = pd.DataFrame(data=histories)\n",
        "for col in df.columns:\n",
        "    df[col] =  df[col].apply(lambda x: x[-1])\n",
        "plot=df[[\"acc\",\"val_acc\"]].plot()\n",
        "plot.set_ylim([0,1])\n",
        "\n",
        "means=df[[\"acc\",\"val_acc\"]].mean()\n",
        "print(\"mean acc: {}, mean val_acc: {}\".format(means[\"acc\"],means[\"val_acc\"]))"
      ],
      "execution_count": 168,
      "outputs": [
        {
          "output_type": "stream",
          "text": [
            "mean acc: 0.9985066453615824, mean val_acc: 0.8244266708691915\n"
          ],
          "name": "stdout"
        },
        {
          "output_type": "display_data",
          "data": {
            "image/png": "[encoded data removed]",
            "text/plain": [
              "<Figure size 1224x108 with 1 Axes>"
            ]
          },
          "metadata": {
            "tags": []
          }
        }
      ]
    },
    {
      "metadata": {
        "id": "MhsXqWp2PZw6",
        "colab_type": "text"
      },
      "cell_type": "markdown",
      "source": [
        "## Train RNN <a class=\"anchor\" id=\"rnn\"></a>"
      ]
    },
    {
      "metadata": {
        "id": "hIVA8Xr9PZw-",
        "colab_type": "code",
        "colab": {}
      },
      "cell_type": "code",
      "source": [
        ""
      ],
      "execution_count": 0,
      "outputs": []
    },
    {
      "metadata": {
        "id": "-rDReAbCPZxA",
        "colab_type": "text"
      },
      "cell_type": "markdown",
      "source": [
        "<a href='#table'>Back</a>\n",
        "# OPTIMIZE<a class=\"anchor\" id=\"opti\"></a>"
      ]
    },
    {
      "metadata": {
        "id": "14G1v5TEPZxB",
        "colab_type": "text"
      },
      "cell_type": "markdown",
      "source": [
        "## Optimize on dropout<a class=\"anchor\" id=\"opti_d\"></a>"
      ]
    },
    {
      "metadata": {
        "colab_type": "code",
        "id": "Wn6ISenGq7Aa",
        "colab": {}
      },
      "cell_type": "code",
      "source": [
        "X_train, X_test, y_train, y_test = train_test_split(np.array(reviews), np.array(labels), test_size=0.25)"
      ],
      "execution_count": 0,
      "outputs": []
    },
    {
      "metadata": {
        "colab_type": "code",
        "id": "nzc1nQ7wq7Am",
        "colab": {}
      },
      "cell_type": "code",
      "source": [
        "FOLDS=3\n",
        "kfold = KFold(FOLDS, True, 1)"
      ],
      "execution_count": 0,
      "outputs": []
    },
    {
      "metadata": {
        "colab_type": "code",
        "id": "V2iZzqKVq7Ax",
        "colab": {}
      },
      "cell_type": "code",
      "source": [
        "train_data = list(zip(X_train, y_train))"
      ],
      "execution_count": 0,
      "outputs": []
    },
    {
      "metadata": {
        "colab_type": "code",
        "id": "8VNkRI_f36lv",
        "colab": {}
      },
      "cell_type": "code",
      "source": [
        "from pdb import set_trace\n",
        "\n",
        "def getMeansFromResultsHistory(histories):\n",
        "  df = pd.DataFrame(data=histories)\n",
        "  for col in df.columns:\n",
        "      df[col] =  df[col].apply(lambda x: x[-1])\n",
        "  means=df[[\"acc\",\"val_acc\"]].mean()\n",
        "  return means\n",
        "\n",
        "def trainModel(epochs_nb=5,customLayers=[]):\n",
        "  EPOCHS=5\n",
        "  SAMPLE_SIZE=len(X_train)\n",
        "  TRAIN_TEST_RATIO=(1/FOLDS)\n",
        "  TRAINING_SET_SIZE=int(SAMPLE_SIZE * (1 - TRAIN_TEST_RATIO))\n",
        "  VALIDATION_SET_SIZE=int(SAMPLE_SIZE * TRAIN_TEST_RATIO)\n",
        "\n",
        "  histories=[]\n",
        "  bestResults=None\n",
        "  for train_indices, test_indices in kfold.split(X_train,y=y_train):\n",
        "      model = keras.Sequential(customLayers)\n",
        "      model.compile(\n",
        "       optimizer = \"adam\",\n",
        "       loss = \"binary_crossentropy\",\n",
        "       metrics = [\"accuracy\"]\n",
        "      )\n",
        "      model.summary()\n",
        "      K_X_train = X_train[train_indices]\n",
        "      K_y_train = y_train[train_indices]\n",
        "      K_X_test = X_train[test_indices]\n",
        "      K_y_test = y_train[test_indices]\n",
        "      results=model.fit(\n",
        "          K_X_train, K_y_train,\n",
        "          epochs=epochs_nb,\n",
        "          validation_data=(K_X_test, K_y_test),\n",
        "          batch_size=BATCH_SIZE\n",
        "      )\n",
        "      histories.append(results.history)\n",
        "      bestResults=getBestResultsFrom(bestResults,results)\n",
        "  \n",
        "  means=getMeansFromResultsHistory(histories)\n",
        "  print(means) \n",
        "  return bestResults,means"
      ],
      "execution_count": 0,
      "outputs": []
    },
    {
      "metadata": {
        "colab_type": "code",
        "id": "9s4XxkFy2gaU",
        "colab": {}
      },
      "cell_type": "code",
      "source": [
        "dropout_means=[]"
      ],
      "execution_count": 0,
      "outputs": []
    },
    {
      "metadata": {
        "id": "vUGkh0VEPZxR",
        "colab_type": "text"
      },
      "cell_type": "markdown",
      "source": [
        "### No dropout\n"
      ]
    },
    {
      "metadata": {
        "colab_type": "code",
        "id": "jOicSA33xPyy",
        "outputId": "3842bc2b-019f-4f3b-df8c-cdbb21a1d74c",
        "colab": {
          "base_uri": "https://localhost:8080/",
          "height": 1644
        }
      },
      "cell_type": "code",
      "source": [
        "rate=0.0\n",
        "EPOCHS=5\n",
        "startTime=time.time()\n",
        "def layersWithNoDropouts():\n",
        "  print(\"No dropouts on any layers\")\n",
        "  return [\n",
        "      layers.Dense(256, activation = \"relu\", input_shape=(VOCAB_SIZE, )),\n",
        "      layers.Dropout(rate),\n",
        "      layers.Dense(128, activation = \"relu\"),\n",
        "      layers.Dense(1, activation = \"sigmoid\")\n",
        "  ]\n",
        "  \n",
        "results,means=trainModel(epochs_nb=EPOCHS, customLayers=layersWithNoDropouts())\n",
        "dropout_means.append([means[\"acc\"],means[\"val_acc\"], rate,0])\n",
        "endTime=time.time()\n",
        "training_duration_in_secs=endTime - startTime\n",
        "saveTrainingMetrics(\"Opti-NN-Optimise with K-folds - No dropouts\")"
      ],
      "execution_count": 194,
      "outputs": [
        {
          "output_type": "stream",
          "text": [
            "No dropouts on any layers\n",
            "_________________________________________________________________\n",
            "Layer (type)                 Output Shape              Param #   \n",
            "=================================================================\n",
            "dense_168 (Dense)            (None, 256)               256256    \n",
            "_________________________________________________________________\n",
            "dropout_50 (Dropout)         (None, 256)               0         \n",
            "_________________________________________________________________\n",
            "dense_169 (Dense)            (None, 128)               32896     \n",
            "_________________________________________________________________\n",
            "dense_170 (Dense)            (None, 1)                 129       \n",
            "=================================================================\n",
            "Total params: 289,281\n",
            "Trainable params: 289,281\n",
            "Non-trainable params: 0\n",
            "_________________________________________________________________\n",
            "Train on 6250 samples, validate on 3125 samples\n",
            "Epoch 1/5\n",
            "6250/6250 [==============================] - 3s 485us/sample - loss: 0.4818 - acc: 0.7746 - val_loss: 0.3878 - val_acc: 0.8272\n",
            "Epoch 2/5\n",
            "6250/6250 [==============================] - 1s 133us/sample - loss: 0.2856 - acc: 0.8859 - val_loss: 0.3911 - val_acc: 0.8314\n",
            "Epoch 3/5\n",
            "6250/6250 [==============================] - 1s 130us/sample - loss: 0.1679 - acc: 0.9389 - val_loss: 0.4542 - val_acc: 0.8230\n",
            "Epoch 4/5\n",
            "6250/6250 [==============================] - 1s 132us/sample - loss: 0.0588 - acc: 0.9859 - val_loss: 0.6135 - val_acc: 0.8138\n",
            "Epoch 5/5\n",
            "6250/6250 [==============================] - 1s 132us/sample - loss: 0.0140 - acc: 0.9979 - val_loss: 0.7491 - val_acc: 0.8176\n",
            "_________________________________________________________________\n",
            "Layer (type)                 Output Shape              Param #   \n",
            "=================================================================\n",
            "dense_168 (Dense)            (None, 256)               256256    \n",
            "_________________________________________________________________\n",
            "dropout_50 (Dropout)         (None, 256)               0         \n",
            "_________________________________________________________________\n",
            "dense_169 (Dense)            (None, 128)               32896     \n",
            "_________________________________________________________________\n",
            "dense_170 (Dense)            (None, 1)                 129       \n",
            "=================================================================\n",
            "Total params: 289,281\n",
            "Trainable params: 289,281\n",
            "Non-trainable params: 0\n",
            "_________________________________________________________________\n",
            "Train on 6250 samples, validate on 3125 samples\n",
            "Epoch 1/5\n",
            "6250/6250 [==============================] - 3s 503us/sample - loss: 0.2778 - acc: 0.9061 - val_loss: 0.0752 - val_acc: 0.9965\n",
            "Epoch 2/5\n",
            "6250/6250 [==============================] - 1s 136us/sample - loss: 0.0809 - acc: 0.9792 - val_loss: 0.0331 - val_acc: 0.9952\n",
            "Epoch 3/5\n",
            "6250/6250 [==============================] - 1s 132us/sample - loss: 0.0232 - acc: 0.9958 - val_loss: 0.0269 - val_acc: 0.9965\n",
            "Epoch 4/5\n",
            "6250/6250 [==============================] - 1s 132us/sample - loss: 0.0067 - acc: 0.9997 - val_loss: 0.0248 - val_acc: 0.9955\n",
            "Epoch 5/5\n",
            "6250/6250 [==============================] - 1s 133us/sample - loss: 0.0026 - acc: 1.0000 - val_loss: 0.0248 - val_acc: 0.9942\n",
            "_________________________________________________________________\n",
            "Layer (type)                 Output Shape              Param #   \n",
            "=================================================================\n",
            "dense_168 (Dense)            (None, 256)               256256    \n",
            "_________________________________________________________________\n",
            "dropout_50 (Dropout)         (None, 256)               0         \n",
            "_________________________________________________________________\n",
            "dense_169 (Dense)            (None, 128)               32896     \n",
            "_________________________________________________________________\n",
            "dense_170 (Dense)            (None, 1)                 129       \n",
            "=================================================================\n",
            "Total params: 289,281\n",
            "Trainable params: 289,281\n",
            "Non-trainable params: 0\n",
            "_________________________________________________________________\n",
            "Train on 6250 samples, validate on 3125 samples\n",
            "Epoch 1/5\n",
            "6250/6250 [==============================] - 3s 505us/sample - loss: 0.0226 - acc: 0.9925 - val_loss: 0.0040 - val_acc: 0.9994\n",
            "Epoch 2/5\n",
            "6250/6250 [==============================] - 1s 139us/sample - loss: 0.0055 - acc: 0.9992 - val_loss: 0.0033 - val_acc: 1.0000\n",
            "Epoch 3/5\n",
            "6250/6250 [==============================] - 1s 133us/sample - loss: 0.0018 - acc: 0.9997 - val_loss: 0.0051 - val_acc: 0.9990\n",
            "Epoch 4/5\n",
            "6250/6250 [==============================] - 1s 134us/sample - loss: 4.9078e-04 - acc: 1.0000 - val_loss: 0.0057 - val_acc: 0.9990\n",
            "Epoch 5/5\n",
            "6250/6250 [==============================] - 1s 133us/sample - loss: 2.6737e-04 - acc: 1.0000 - val_loss: 0.0053 - val_acc: 0.9990\n",
            "acc        0.999307\n",
            "val_acc    0.936960\n",
            "dtype: float64\n",
            "      acc      loss  val_acc  val_loss  \\\n",
            "0  0.9992  0.005471      1.0  0.003259   \n",
            "\n",
            "                                         title  sample_size  batch_size  \\\n",
            "0  Opti-NN-Optimise with K-folds - No dropouts         9375          64   \n",
            "\n",
            "   train_test_ratio  training_set_size  validation_set_size  vocab_size  \\\n",
            "0          0.333333               6250                 3125        1000   \n",
            "\n",
            "   nb_epochs  training_duration_in_secs  \n",
            "0          5                  64.754022  \n"
          ],
          "name": "stdout"
        }
      ]
    },
    {
      "metadata": {
        "id": "TnO39h8BPZxW",
        "colab_type": "text"
      },
      "cell_type": "markdown",
      "source": [
        "### Low dropout on 1 layer"
      ]
    },
    {
      "metadata": {
        "colab_type": "code",
        "id": "Q5uhaJ-_rOO2",
        "outputId": "b393b510-254d-4f06-a266-f795df481f0a",
        "colab": {
          "base_uri": "https://localhost:8080/",
          "height": 1644
        }
      },
      "cell_type": "code",
      "source": [
        "rate=0.2\n",
        "EPOCHS=5\n",
        "startTime=time.time()\n",
        "\n",
        "def layersDropoutOnOneLayer(rate):\n",
        "  print(\"Dropout on one layer, rate=\"+str(rate))\n",
        "  return [\n",
        "      layers.Dense(256, activation = \"relu\", input_shape=(VOCAB_SIZE, )),\n",
        "      layers.Dropout(rate),\n",
        "      layers.Dense(128, activation = \"relu\"),\n",
        "      layers.Dense(1, activation = \"sigmoid\")\n",
        "  ]\n",
        "  \n",
        "results,means=trainModel(epochs_nb=EPOCHS, customLayers=layersDropoutOnOneLayer(rate))\n",
        "dropout_means.append([means[\"acc\"],means[\"val_acc\"], rate,1])\n",
        "endTime=time.time()\n",
        "training_duration_in_secs=endTime - startTime\n",
        "saveTrainingMetrics(\"Opti-NN-Optimise with K-folds - Low dropout on 1 layer\")"
      ],
      "execution_count": 195,
      "outputs": [
        {
          "output_type": "stream",
          "text": [
            "Dropout on one layer, rate=0.2\n",
            "_________________________________________________________________\n",
            "Layer (type)                 Output Shape              Param #   \n",
            "=================================================================\n",
            "dense_171 (Dense)            (None, 256)               256256    \n",
            "_________________________________________________________________\n",
            "dropout_51 (Dropout)         (None, 256)               0         \n",
            "_________________________________________________________________\n",
            "dense_172 (Dense)            (None, 128)               32896     \n",
            "_________________________________________________________________\n",
            "dense_173 (Dense)            (None, 1)                 129       \n",
            "=================================================================\n",
            "Total params: 289,281\n",
            "Trainable params: 289,281\n",
            "Non-trainable params: 0\n",
            "_________________________________________________________________\n",
            "Train on 6250 samples, validate on 3125 samples\n",
            "Epoch 1/5\n",
            "6250/6250 [==============================] - 3s 521us/sample - loss: 0.4890 - acc: 0.7698 - val_loss: 0.3795 - val_acc: 0.8355\n",
            "Epoch 2/5\n",
            "6250/6250 [==============================] - 1s 137us/sample - loss: 0.3030 - acc: 0.8765 - val_loss: 0.3801 - val_acc: 0.8365\n",
            "Epoch 3/5\n",
            "6250/6250 [==============================] - 1s 135us/sample - loss: 0.1922 - acc: 0.9288 - val_loss: 0.4300 - val_acc: 0.8275\n",
            "Epoch 4/5\n",
            "6250/6250 [==============================] - 1s 142us/sample - loss: 0.1016 - acc: 0.9685 - val_loss: 0.5338 - val_acc: 0.8218\n",
            "Epoch 5/5\n",
            "6250/6250 [==============================] - 1s 135us/sample - loss: 0.0413 - acc: 0.9902 - val_loss: 0.6673 - val_acc: 0.8198\n",
            "_________________________________________________________________\n",
            "Layer (type)                 Output Shape              Param #   \n",
            "=================================================================\n",
            "dense_171 (Dense)            (None, 256)               256256    \n",
            "_________________________________________________________________\n",
            "dropout_51 (Dropout)         (None, 256)               0         \n",
            "_________________________________________________________________\n",
            "dense_172 (Dense)            (None, 128)               32896     \n",
            "_________________________________________________________________\n",
            "dense_173 (Dense)            (None, 1)                 129       \n",
            "=================================================================\n",
            "Total params: 289,281\n",
            "Trainable params: 289,281\n",
            "Non-trainable params: 0\n",
            "_________________________________________________________________\n",
            "Train on 6250 samples, validate on 3125 samples\n",
            "Epoch 1/5\n",
            "6250/6250 [==============================] - 3s 520us/sample - loss: 0.2859 - acc: 0.9045 - val_loss: 0.0793 - val_acc: 0.9949\n",
            "Epoch 2/5\n",
            "6250/6250 [==============================] - 1s 136us/sample - loss: 0.1126 - acc: 0.9635 - val_loss: 0.0489 - val_acc: 0.9910\n",
            "Epoch 3/5\n",
            "6250/6250 [==============================] - 1s 136us/sample - loss: 0.0489 - acc: 0.9875 - val_loss: 0.0396 - val_acc: 0.9901\n",
            "Epoch 4/5\n",
            "6250/6250 [==============================] - 1s 139us/sample - loss: 0.0213 - acc: 0.9966 - val_loss: 0.0448 - val_acc: 0.9878\n",
            "Epoch 5/5\n",
            "6250/6250 [==============================] - 1s 133us/sample - loss: 0.0102 - acc: 0.9986 - val_loss: 0.0472 - val_acc: 0.9869\n",
            "_________________________________________________________________\n",
            "Layer (type)                 Output Shape              Param #   \n",
            "=================================================================\n",
            "dense_171 (Dense)            (None, 256)               256256    \n",
            "_________________________________________________________________\n",
            "dropout_51 (Dropout)         (None, 256)               0         \n",
            "_________________________________________________________________\n",
            "dense_172 (Dense)            (None, 128)               32896     \n",
            "_________________________________________________________________\n",
            "dense_173 (Dense)            (None, 1)                 129       \n",
            "=================================================================\n",
            "Total params: 289,281\n",
            "Trainable params: 289,281\n",
            "Non-trainable params: 0\n",
            "_________________________________________________________________\n",
            "Train on 6250 samples, validate on 3125 samples\n",
            "Epoch 1/5\n",
            "6250/6250 [==============================] - 3s 534us/sample - loss: 0.0499 - acc: 0.9837 - val_loss: 0.0050 - val_acc: 0.9997\n",
            "Epoch 2/5\n",
            "6250/6250 [==============================] - 1s 135us/sample - loss: 0.0124 - acc: 0.9966 - val_loss: 0.0031 - val_acc: 1.0000\n",
            "Epoch 3/5\n",
            "6250/6250 [==============================] - 1s 137us/sample - loss: 0.0057 - acc: 0.9992 - val_loss: 0.0031 - val_acc: 0.9997\n",
            "Epoch 4/5\n",
            "6250/6250 [==============================] - 1s 133us/sample - loss: 0.0054 - acc: 0.9992 - val_loss: 0.0041 - val_acc: 0.9997\n",
            "Epoch 5/5\n",
            "6250/6250 [==============================] - 1s 135us/sample - loss: 0.0055 - acc: 0.9987 - val_loss: 0.0089 - val_acc: 0.9981\n",
            "acc        0.995840\n",
            "val_acc    0.934933\n",
            "dtype: float64\n",
            "       acc      loss  val_acc  val_loss  \\\n",
            "0  0.99664  0.012398      1.0  0.003146   \n",
            "\n",
            "                                               title  sample_size  batch_size  \\\n",
            "0  Opti-NN-Optimise with K-folds - Low dropout on...         9375          64   \n",
            "\n",
            "   train_test_ratio  training_set_size  validation_set_size  vocab_size  \\\n",
            "0          0.333333               6250                 3125        1000   \n",
            "\n",
            "   nb_epochs  training_duration_in_secs  \n",
            "0          5                  68.293887  \n"
          ],
          "name": "stdout"
        }
      ]
    },
    {
      "metadata": {
        "id": "1CrRZgpaPZxZ",
        "colab_type": "text"
      },
      "cell_type": "markdown",
      "source": [
        "### High dropout on 1 layer\n"
      ]
    },
    {
      "metadata": {
        "colab_type": "code",
        "id": "1CblTzT_uul1",
        "outputId": "2a7a41c1-56e3-45e2-dfc3-273a05a9595b",
        "colab": {
          "base_uri": "https://localhost:8080/",
          "height": 35
        }
      },
      "cell_type": "code",
      "source": [
        "rate=0.4\n",
        "EPOCHS=5\n",
        "startTime=time.time()\n",
        "results,means=trainModel(epochs_nb=EPOCHS, customLayers=layersDropoutOnOneLayer(rate))\n",
        "dropout_means.append([means[\"acc\"],means[\"val_acc\"], rate,1])\n",
        "endTime=time.time()\n",
        "training_duration_in_secs=endTime - startTime\n",
        "saveTrainingMetrics(\"Opti-NN-Optimise with K-folds - High dropout on 1 layer\")"
      ],
      "execution_count": 0,
      "outputs": [
        {
          "output_type": "stream",
          "text": [
            "Dropout on one layer, rate=0.4\n",
            "_________________________________________________________________\n",
            "Layer (type)                 Output Shape              Param #   \n",
            "=================================================================\n",
            "dense_174 (Dense)            (None, 256)               256256    \n",
            "_________________________________________________________________\n",
            "dropout_52 (Dropout)         (None, 256)               0         \n",
            "_________________________________________________________________\n",
            "dense_175 (Dense)            (None, 128)               32896     \n",
            "_________________________________________________________________\n",
            "dense_176 (Dense)            (None, 1)                 129       \n",
            "=================================================================\n",
            "Total params: 289,281\n",
            "Trainable params: 289,281\n",
            "Non-trainable params: 0\n",
            "_________________________________________________________________\n",
            "Train on 6250 samples, validate on 3125 samples\n"
          ],
          "name": "stdout"
        }
      ]
    },
    {
      "metadata": {
        "id": "19DRpJToPZxd",
        "colab_type": "text"
      },
      "cell_type": "markdown",
      "source": [
        "### Low dropout on 2 layers"
      ]
    },
    {
      "metadata": {
        "id": "aBcUSBlr5uev",
        "colab_type": "code",
        "colab": {}
      },
      "cell_type": "code",
      "source": [
        "rate=0.2\n",
        "EPOCHS=5\n",
        "startTime=time.time()\n",
        "def layersWithDropoutsOnTwoLayers(rate):\n",
        "  print(\"Dropout on two layers, rate=\"+str(rate))\n",
        "  return [\n",
        "      layers.Dense(256, activation = \"relu\", input_shape=(VOCAB_SIZE, )),\n",
        "      layers.Dropout(rate),\n",
        "      layers.Dense(128, activation = \"relu\"),\n",
        "      layers.Dropout(rate),\n",
        "      layers.Dense(1, activation = \"sigmoid\")\n",
        "  ]\n",
        "  \n",
        "results,means=trainModel(epochs_nb=EPOCHS, customLayers=layersWithDropoutsOnTwoLayers(rate))\n",
        "dropout_means.append([means[\"acc\"],means[\"val_acc\"], rate,1])\n",
        "endTime=time.time()\n",
        "training_duration_in_secs=endTime - startTime\n",
        "saveTrainingMetrics(\"Opti-NN-Optimise with K-folds - Low dropout on 2 layers\")"
      ],
      "execution_count": 0,
      "outputs": []
    },
    {
      "metadata": {
        "id": "YndqkNTkPZxi",
        "colab_type": "text"
      },
      "cell_type": "markdown",
      "source": [
        "### High dropout on 2 layers\n"
      ]
    },
    {
      "metadata": {
        "id": "7vGsFrf35ZKe",
        "colab_type": "code",
        "colab": {}
      },
      "cell_type": "code",
      "source": [
        "rate=0.4\n",
        "EPOCHS=5\n",
        "startTime=time.time()  \n",
        "results,means=trainModel(epochs_nb=EPOCHS, customLayers=layersWithDropoutsOnTwoLayers(rate))\n",
        "dropout_means.append([means[\"acc\"],means[\"val_acc\"], rate,1])\n",
        "endTime=time.time()\n",
        "training_duration_in_secs=endTime - startTime\n",
        "saveTrainingMetrics(\"Opti-NN-Optimise with K-folds - High dropout on 2 layers\")"
      ],
      "execution_count": 0,
      "outputs": []
    },
    {
      "metadata": {
        "colab_type": "text",
        "id": "gz8yOkHOzD0k"
      },
      "cell_type": "markdown",
      "source": [
        "Plot results"
      ]
    },
    {
      "metadata": {
        "colab_type": "code",
        "id": "kWtdXNAAvW_c",
        "colab": {}
      },
      "cell_type": "code",
      "source": [
        "df = pd.DataFrame(data=dropout_means,columns=['acc','val_acc','rate','nb_layers'])\n",
        "plt.rcParams[\"figure.figsize\"] = [17,2]\n",
        "plot=df[[\"acc\",\"val_acc\"]].plot()\n",
        "plot.set_ylim([0.7,1])\n",
        "plot.grid()\n",
        "\n",
        "plt.rcParams[\"figure.figsize\"] = [17,1.5]\n",
        "plot=df[[\"rate\"]].plot()\n",
        "plot.set_ylim([0,0.5])\n",
        "plot.grid()\n",
        "\n",
        "plt.rcParams[\"figure.figsize\"] = [17,1.5]\n",
        "plot=df[[\"nb_layers\"]].plot()\n",
        "plot.set_ylim([0,2.2])\n",
        "plot.grid()"
      ],
      "execution_count": 0,
      "outputs": []
    },
    {
      "metadata": {
        "colab_type": "code",
        "id": "46vBFEGrzpgG",
        "colab": {}
      },
      "cell_type": "code",
      "source": [
        "dropout_means"
      ],
      "execution_count": 0,
      "outputs": []
    },
    {
      "metadata": {
        "id": "UKxdXoGZPZxx",
        "colab_type": "text"
      },
      "cell_type": "markdown",
      "source": [
        "### Observation<a class=\"anchor\" id=\"opti_d_o\"></a>\n",
        "we have similar results, but got a higher test accuracy with low dropout on all layers and also less overfit (training and test accuracies are closer)"
      ]
    }
  ]
}