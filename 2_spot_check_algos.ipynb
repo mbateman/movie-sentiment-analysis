{
  "nbformat": 4,
  "nbformat_minor": 0,
  "metadata": {
    "colab": {
      "name": "2_spot_check_algos.ipynb",
      "version": "0.3.2",
      "provenance": [],
      "collapsed_sections": [],
      "toc_visible": true
    },
    "kernelspec": {
      "display_name": "Python 3",
      "language": "python",
      "name": "python3"
    },
    "accelerator": "GPU"
  },
  "cells": [
    {
      "metadata": {
        "colab_type": "text",
        "id": "A0XMzfB5_EtE"
      },
      "cell_type": "markdown",
      "source": [
        "# Sentiment analysis of movie (IMDB) reviews \n",
        "\n",
        "using dataset provided by the ACL 2011 paper, see http://ai.stanford.edu/~amaas/data/sentiment/.\n",
        "\n",
        "Dataset can be downloaded separately from http://ai.stanford.edu/~amaas/data/sentiment/aclImdb_v1.tar.gz, but wont be necessary as the download process has been embedded in the notebook and source file."
      ]
    },
    {
      "metadata": {
        "id": "w25i1y3fwBMK",
        "colab_type": "code",
        "colab": {}
      },
      "cell_type": "code",
      "source": [
        "# SAMPLE_SIZE=12500\n",
        "SAMPLE_SIZE=50000\n",
        "# SAMPLE_SIZE=1000\n",
        "# TRAIN_TEST_RATIO=0.75\n",
        "TRAIN_TEST_RATIO=0.50"
      ],
      "execution_count": 0,
      "outputs": []
    },
    {
      "metadata": {
        "id": "pU7EQFNPvwKt",
        "colab_type": "text"
      },
      "cell_type": "markdown",
      "source": [
        "### Table of Contents<a class=\"anchor\" id=\"table\"></a>\n",
        "* [Data exploration](#data_e)\n",
        "* [Modelling](#model)\n",
        "    * [Compare vectorisation techniques](#compare)\n",
        "    * [Logistic Regression](#logis)\n",
        "        * [Logistic Regression with bag of word](#logis_bag)\n",
        "        * [Logistic Regression with TFIDF](#logis_tfidf)\n",
        "    * [Random Forest](#randfor)\n",
        "        * [Random Forest with Hashing](#rand_for_bag)\n",
        "        * [Random Forest with TFIDF](#rand_for_tfidf)\n",
        "    * [Linear SVC](#linearsvc)\n",
        "        * [Random Forest with Hashing](#linear_bag)\n",
        "        * [Random Forest with TFIDF](#linear_tfidf)\n",
        "* [Display scores for all trained models](#disp_sco)\n"
      ]
    },
    {
      "metadata": {
        "id": "_DYs2ydavwKv",
        "colab_type": "code",
        "colab": {
          "base_uri": "https://localhost:8080/",
          "height": 768
        },
        "outputId": "30c4ba81-8413-4835-81b1-70a17db65464"
      },
      "cell_type": "code",
      "source": [
        "# uncomment these for Google collab, will have already been installed in local environment \n",
        "!pip3 install nltk wget\n",
        "!pip3 install --upgrade gensim\n",
        "! apt-get install tk-dev || true\n",
        "! brew install tk-dev\n",
        "! pip3 --yes uninstall matplotlib\n",
        "! pip3 --no-cache-dir install -U matplotlib\n"
      ],
      "execution_count": 9,
      "outputs": [
        {
          "output_type": "stream",
          "text": [
            "Requirement already satisfied: nltk in /usr/local/lib/python3.6/dist-packages (3.2.5)\n",
            "Requirement already satisfied: wget in /usr/local/lib/python3.6/dist-packages (3.2)\n",
            "Requirement already satisfied: six in /usr/local/lib/python3.6/dist-packages (from nltk) (1.11.0)\n",
            "Requirement already up-to-date: gensim in /usr/local/lib/python3.6/dist-packages (3.7.1)\n",
            "Requirement already satisfied, skipping upgrade: numpy>=1.11.3 in /usr/local/lib/python3.6/dist-packages (from gensim) (1.14.6)\n",
            "Requirement already satisfied, skipping upgrade: smart-open>=1.7.0 in /usr/local/lib/python3.6/dist-packages (from gensim) (1.8.0)\n",
            "Requirement already satisfied, skipping upgrade: six>=1.5.0 in /usr/local/lib/python3.6/dist-packages (from gensim) (1.11.0)\n",
            "Requirement already satisfied, skipping upgrade: scipy>=0.18.1 in /usr/local/lib/python3.6/dist-packages (from gensim) (1.1.0)\n",
            "Requirement already satisfied, skipping upgrade: boto>=2.32 in /usr/local/lib/python3.6/dist-packages (from smart-open>=1.7.0->gensim) (2.49.0)\n",
            "Requirement already satisfied, skipping upgrade: bz2file in /usr/local/lib/python3.6/dist-packages (from smart-open>=1.7.0->gensim) (0.98)\n",
            "Requirement already satisfied, skipping upgrade: requests in /usr/local/lib/python3.6/dist-packages (from smart-open>=1.7.0->gensim) (2.18.4)\n",
            "Requirement already satisfied, skipping upgrade: boto3 in /usr/local/lib/python3.6/dist-packages (from smart-open>=1.7.0->gensim) (1.9.115)\n",
            "Requirement already satisfied, skipping upgrade: idna<2.7,>=2.5 in /usr/local/lib/python3.6/dist-packages (from requests->smart-open>=1.7.0->gensim) (2.6)\n",
            "Requirement already satisfied, skipping upgrade: urllib3<1.23,>=1.21.1 in /usr/local/lib/python3.6/dist-packages (from requests->smart-open>=1.7.0->gensim) (1.22)\n",
            "Requirement already satisfied, skipping upgrade: certifi>=2017.4.17 in /usr/local/lib/python3.6/dist-packages (from requests->smart-open>=1.7.0->gensim) (2019.3.9)\n",
            "Requirement already satisfied, skipping upgrade: chardet<3.1.0,>=3.0.2 in /usr/local/lib/python3.6/dist-packages (from requests->smart-open>=1.7.0->gensim) (3.0.4)\n",
            "Requirement already satisfied, skipping upgrade: botocore<1.13.0,>=1.12.115 in /usr/local/lib/python3.6/dist-packages (from boto3->smart-open>=1.7.0->gensim) (1.12.115)\n",
            "Requirement already satisfied, skipping upgrade: s3transfer<0.3.0,>=0.2.0 in /usr/local/lib/python3.6/dist-packages (from boto3->smart-open>=1.7.0->gensim) (0.2.0)\n",
            "Requirement already satisfied, skipping upgrade: jmespath<1.0.0,>=0.7.1 in /usr/local/lib/python3.6/dist-packages (from boto3->smart-open>=1.7.0->gensim) (0.9.4)\n",
            "Requirement already satisfied, skipping upgrade: docutils>=0.10 in /usr/local/lib/python3.6/dist-packages (from botocore<1.13.0,>=1.12.115->boto3->smart-open>=1.7.0->gensim) (0.14)\n",
            "Requirement already satisfied, skipping upgrade: python-dateutil<3.0.0,>=2.1; python_version >= \"2.7\" in /usr/local/lib/python3.6/dist-packages (from botocore<1.13.0,>=1.12.115->boto3->smart-open>=1.7.0->gensim) (2.5.3)\n",
            "Reading package lists... Done\n",
            "Building dependency tree       \n",
            "Reading state information... Done\n",
            "tk-dev is already the newest version (8.6.0+9).\n",
            "The following package was automatically installed and is no longer required:\n",
            "  libnvidia-common-410\n",
            "Use 'apt autoremove' to remove it.\n",
            "0 upgraded, 0 newly installed, 0 to remove and 10 not upgraded.\n",
            "/bin/bash: brew: command not found\n",
            "\n",
            "Usage:   \n",
            "  pip3 <command> [options]\n",
            "\n",
            "no such option: --yes\n",
            "Requirement already up-to-date: matplotlib in /usr/local/lib/python3.6/dist-packages (3.0.3)\n",
            "Requirement already satisfied, skipping upgrade: pyparsing!=2.0.4,!=2.1.2,!=2.1.6,>=2.0.1 in /usr/local/lib/python3.6/dist-packages (from matplotlib) (2.3.1)\n",
            "Requirement already satisfied, skipping upgrade: python-dateutil>=2.1 in /usr/local/lib/python3.6/dist-packages (from matplotlib) (2.5.3)\n",
            "Requirement already satisfied, skipping upgrade: numpy>=1.10.0 in /usr/local/lib/python3.6/dist-packages (from matplotlib) (1.14.6)\n",
            "Requirement already satisfied, skipping upgrade: kiwisolver>=1.0.1 in /usr/local/lib/python3.6/dist-packages (from matplotlib) (1.0.1)\n",
            "Requirement already satisfied, skipping upgrade: cycler>=0.10 in /usr/local/lib/python3.6/dist-packages (from matplotlib) (0.10.0)\n",
            "Requirement already satisfied, skipping upgrade: six>=1.5 in /usr/local/lib/python3.6/dist-packages (from python-dateutil>=2.1->matplotlib) (1.11.0)\n",
            "Requirement already satisfied, skipping upgrade: setuptools in /usr/local/lib/python3.6/dist-packages (from kiwisolver>=1.0.1->matplotlib) (40.8.0)\n"
          ],
          "name": "stdout"
        }
      ]
    },
    {
      "metadata": {
        "colab_type": "code",
        "id": "CML_IG6z-iwM",
        "outputId": "70aa991f-2f98-4d41-f582-455f6424e425",
        "colab": {
          "base_uri": "https://localhost:8080/",
          "height": 51
        }
      },
      "cell_type": "code",
      "source": [
        "import numpy as np\n",
        "import pandas as pd\n",
        "import os\n",
        "import os.path\n",
        "\n",
        "from nltk.tokenize import word_tokenize\n",
        "from nltk.stem.porter import PorterStemmer\n",
        "from nltk.corpus import stopwords\n",
        "import nltk\n",
        "nltk.download('punkt')\n",
        "import nltk\n",
        "\n",
        "\n",
        "import glob\n",
        "from gensim.models import Word2Vec\n",
        "\n",
        "import time\n",
        "\n",
        "import warnings\n",
        "warnings.filterwarnings('ignore')"
      ],
      "execution_count": 10,
      "outputs": [
        {
          "output_type": "stream",
          "text": [
            "[nltk_data] Downloading package punkt to /root/nltk_data...\n",
            "[nltk_data]   Package punkt is already up-to-date!\n"
          ],
          "name": "stdout"
        }
      ]
    },
    {
      "metadata": {
        "colab_type": "code",
        "id": "lfr3bXOgXNJJ",
        "colab": {}
      },
      "cell_type": "code",
      "source": [
        "import pandas as pd\n",
        "from sklearn.utils import shuffle\n",
        "from sklearn.pipeline import Pipeline\n",
        "from sklearn.linear_model import LogisticRegression\n",
        "from sklearn.feature_extraction.text import TfidfVectorizer\n",
        "from sklearn.model_selection import cross_val_score\n",
        "from sklearn.model_selection import train_test_split\n",
        "from sklearn.feature_extraction.text import CountVectorizer\n",
        "from sklearn.feature_extraction.text import HashingVectorizer\n",
        "from sklearn.ensemble import RandomForestClassifier \n",
        "from sklearn.svm import LinearSVC"
      ],
      "execution_count": 0,
      "outputs": []
    },
    {
      "metadata": {
        "colab_type": "code",
        "id": "FJiWamI00hBp",
        "outputId": "b73900d3-e76f-488b-9cbd-d31bda7db5fe",
        "colab": {
          "base_uri": "https://localhost:8080/",
          "height": 34
        }
      },
      "cell_type": "code",
      "source": [
        "import wget\n",
        "import tarfile\n",
        "\n",
        "# By checking if the directory exists first, we allow people to delete the tarfile without the notebook re-downloading it\n",
        "if os.path.isdir('aclImdb'):\n",
        "    print(\"Dataset directory exists, taking no action\")\n",
        "else:    \n",
        "    if not os.path.isfile('aclImdb_v1.tar.gz'):\n",
        "        print(\"Downloading dataset\")\n",
        "        #!wget http://ai.stanford.edu/~amaas/data/sentiment/aclImdb_v1.tar.gz\n",
        "        wget.download('http://ai.stanford.edu/~amaas/data/sentiment/aclImdb_v1.tar.gz')\n",
        "    else:\n",
        "        print(\"Dataset already downloaded\")\n",
        "    \n",
        "    print(\"Unpacking dataset\")\n",
        "    #!tar -xf aclImdb_v1.tar.gz \n",
        "    tar = tarfile.open(\"aclImdb_v1.tar.gz\")\n",
        "    tar.extractall()\n",
        "    tar.close()\n",
        "    print(\"Dataset unpacked in aclImdb\")\n",
        "\n",
        "import re\n",
        "\n",
        "# load doc into memory\n",
        "# regex to clean markup elements \n",
        "def load_doc(filename):\n",
        "    # open the file as read only\n",
        "    file = open(filename, 'r', encoding='utf8')\n",
        "    # read all text\n",
        "    text = re.sub('<[^>]*>', ' ', file.read())\n",
        "    #text = file.read()\n",
        "    # close the file\n",
        "    file.close()\n",
        "    return text"
      ],
      "execution_count": 12,
      "outputs": [
        {
          "output_type": "stream",
          "text": [
            "Dataset directory exists, taking no action\n"
          ],
          "name": "stdout"
        }
      ]
    },
    {
      "metadata": {
        "id": "niWSMMO2vwLG",
        "colab_type": "code",
        "colab": {}
      },
      "cell_type": "code",
      "source": [
        "# notebook configuration\n",
        "TRAINING_SET_SIZE=int(SAMPLE_SIZE * (1 - TRAIN_TEST_RATIO))\n",
        "VALIDATION_SET_SIZE=int(SAMPLE_SIZE * TRAIN_TEST_RATIO)"
      ],
      "execution_count": 0,
      "outputs": []
    },
    {
      "metadata": {
        "colab_type": "code",
        "id": "bcTVSZK-i07N",
        "colab": {}
      },
      "cell_type": "code",
      "source": [
        "dataframes={}\n",
        "for type in [\"train\",\"test\"]:\n",
        "    if type==\"train\":\n",
        "        SLICE = int(TRAINING_SET_SIZE / 2)\n",
        "    elif type==\"test\":\n",
        "        SLICE = int(VALIDATION_SET_SIZE / 2)\n",
        "\n",
        "    positive_file_list = glob.glob(os.path.join('aclImdb/'+type+'/pos', \"*.txt\"))\n",
        "    positive_sample_file_list = positive_file_list[:SLICE]\n",
        "    df_positive = pd.DataFrame({'reviews':[load_doc(x) for x in positive_sample_file_list], 'sentiment': np.ones(SLICE)})\n",
        "    \n",
        "    negative_file_list = glob.glob(os.path.join('aclImdb/'+type+'/neg', \"*.txt\"))\n",
        "    negative_sample_file_list = negative_file_list[:SLICE]\n",
        "    df_negative = pd.DataFrame({'reviews':[load_doc(x) for x in negative_sample_file_list], 'sentiment': np.zeros(SLICE)})\n",
        "\n",
        "    dataframes[type]=pd.concat([df_positive,df_negative])\n",
        "    dataframes[type]=shuffle(dataframes[type])\n",
        "\n",
        "df=pd.concat([dataframes[\"train\"],dataframes[\"test\"]])\n",
        "    \n",
        "X_train=dataframes[\"train\"]['reviews']\n",
        "y_train=dataframes[\"train\"]['sentiment']\n",
        "\n",
        "X_test=dataframes[\"test\"]['reviews']\n",
        "y_test=dataframes[\"test\"]['sentiment']"
      ],
      "execution_count": 0,
      "outputs": []
    },
    {
      "metadata": {
        "id": "rbS1wXEcvwLM",
        "colab_type": "code",
        "colab": {
          "base_uri": "https://localhost:8080/",
          "height": 68
        },
        "outputId": "f2f59fe1-6dae-4ffb-f295-04d97a043e06"
      },
      "cell_type": "code",
      "source": [
        "print(X_train.shape)\n",
        "print(X_test.shape)\n",
        "print(y_train.unique())"
      ],
      "execution_count": 15,
      "outputs": [
        {
          "output_type": "stream",
          "text": [
            "(25000,)\n",
            "(25000,)\n",
            "[1. 0.]\n"
          ],
          "name": "stdout"
        }
      ]
    },
    {
      "metadata": {
        "colab_type": "text",
        "id": "dnu21deYOkDE"
      },
      "cell_type": "markdown",
      "source": [
        "<a href='#table'>Back</a>\n",
        "# Modelling <a class=\"anchor\" id=\"model\"></a> \n",
        "\n",
        "We have decided to do the use the below models and vectorisation techniques to test our their accuracy / score, the idea is to use a one model and one vectorization technique and plot a score.\n",
        "\n",
        "**Vectorisation techniques**\n",
        "- Bag of Words\n",
        "- TFIDF (weighted bag of words) http://scikit-learn.org/stable/modules/generated/sklearn.feature_extraction.text.TfidfVectorizer.html\n",
        "- mapping words to plain integers\n",
        "- mapping words to embedding vectors\n",
        "\n",
        "\n",
        "**Simple models**\n",
        "\n",
        "- Logistic Regression\n",
        "- Random Forst\n",
        "- LSTM\n",
        "- GRU\n",
        "- CNN\n",
        "\n",
        "**Embeddings to try**\n",
        "- Word2Vec\n",
        "- FastText\n",
        "- Glove\n",
        "\n",
        "**APIs we used**\n",
        "- Introducing Pipeline: http://scikit-learn.org/stable/modules/generated/sklearn.pipeline.Pipeline.html\n",
        "- Introducing cross_val_score http://scikit-learn.org/stable/modules/generated/sklearn.model_selection.cross_val_score.html"
      ]
    },
    {
      "metadata": {
        "colab_type": "text",
        "id": "q-BsaFCwXNJQ"
      },
      "cell_type": "markdown",
      "source": [
        "## Compare vectorisation techniques<a class=\"anchor\" id=\"compare\"></a> "
      ]
    },
    {
      "metadata": {
        "id": "osvU79PIvwLS",
        "colab_type": "code",
        "colab": {
          "base_uri": "https://localhost:8080/",
          "height": 51
        },
        "outputId": "87554fa0-b57a-44f9-8ad2-4f791ceb31f5"
      },
      "cell_type": "code",
      "source": [
        "CountVec = CountVectorizer()\n",
        "# Creating the BoW with the set of all the documents and transforming the documents in feature vectors\n",
        "bag_of_words=CountVec.fit_transform(df['reviews'])\n",
        "bag_of_words"
      ],
      "execution_count": 16,
      "outputs": [
        {
          "output_type": "execute_result",
          "data": {
            "text/plain": [
              "<50000x101888 sparse matrix of type '<class 'numpy.int64'>'\n",
              "\twith 6797241 stored elements in Compressed Sparse Row format>"
            ]
          },
          "metadata": {
            "tags": []
          },
          "execution_count": 16
        }
      ]
    },
    {
      "metadata": {
        "id": "zlIsHF5rvwLW",
        "colab_type": "code",
        "colab": {
          "base_uri": "https://localhost:8080/",
          "height": 51
        },
        "outputId": "e10a912a-36fc-46e3-cb1f-cd514e5b366f"
      },
      "cell_type": "code",
      "source": [
        "hashing = HashingVectorizer(strip_accents='ascii', lowercase=True, preprocessor=None,n_features=bag_of_words.shape[1])\n",
        "reviews_hashing=hashing.fit_transform(df['reviews'])\n",
        "reviews_hashing"
      ],
      "execution_count": 17,
      "outputs": [
        {
          "output_type": "execute_result",
          "data": {
            "text/plain": [
              "<50000x101888 sparse matrix of type '<class 'numpy.float64'>'\n",
              "\twith 6793600 stored elements in Compressed Sparse Row format>"
            ]
          },
          "metadata": {
            "tags": []
          },
          "execution_count": 17
        }
      ]
    },
    {
      "metadata": {
        "id": "ZD4D8kXSvwLZ",
        "colab_type": "code",
        "colab": {
          "base_uri": "https://localhost:8080/",
          "height": 51
        },
        "outputId": "3ef0daf9-916f-41af-fdc8-5473fa68a9b9"
      },
      "cell_type": "code",
      "source": [
        "tfidf = TfidfVectorizer(strip_accents='ascii', lowercase=True, preprocessor=None,max_features=bag_of_words.shape[1])\n",
        "reviews_tfidf=tfidf.fit_transform(df['reviews'])\n",
        "reviews_tfidf"
      ],
      "execution_count": 18,
      "outputs": [
        {
          "output_type": "execute_result",
          "data": {
            "text/plain": [
              "<50000x101888 sparse matrix of type '<class 'numpy.float64'>'\n",
              "\twith 6797188 stored elements in Compressed Sparse Row format>"
            ]
          },
          "metadata": {
            "tags": []
          },
          "execution_count": 18
        }
      ]
    },
    {
      "metadata": {
        "id": "PGTel2IxvwLe",
        "colab_type": "code",
        "colab": {}
      },
      "cell_type": "code",
      "source": [
        "results=pd.DataFrame()"
      ],
      "execution_count": 0,
      "outputs": []
    },
    {
      "metadata": {
        "colab_type": "text",
        "id": "mGh1Vqp3XNJI"
      },
      "cell_type": "markdown",
      "source": [
        "## Logistic Regression <a class=\"anchor\" id=\"logis\"></a> \n"
      ]
    },
    {
      "metadata": {
        "colab_type": "text",
        "id": "q-BsaFCwXNJQq"
      },
      "cell_type": "markdown",
      "source": [
        "### Logistic Regress model using Bag of Words vectorisation technique<a class=\"anchor\" id=\"logis_bag\"></a> "
      ]
    },
    {
      "metadata": {
        "colab_type": "code",
        "id": "XtV8N-0zXNJ41",
        "outputId": "3ba1e5f7-80f6-46ba-95d1-466c2886add4",
        "colab": {
          "base_uri": "https://localhost:8080/",
          "height": 68
        }
      },
      "cell_type": "code",
      "source": [
        "time_beginning_of_training = time.time()\n",
        "\n",
        "model=LogisticRegression(random_state=0)\n",
        "model.fit(hashing.fit_transform(X_train), y_train)\n",
        "train_acc=model.score(hashing.transform(X_train), y_train)\n",
        "print('Train accuracy {}'.format(train_acc))\n",
        "test_acc=model.score(hashing.transform(X_test), y_test)\n",
        "print('Test accuracy {}'.format(test_acc))\n",
        "\n",
        "time_end_of_training = time.time()\n",
        "print('Time to run: {}'.format(time_end_of_training-time_beginning_of_training))"
      ],
      "execution_count": 20,
      "outputs": [
        {
          "output_type": "stream",
          "text": [
            "Train accuracy 0.88008\n",
            "Test accuracy 0.85996\n",
            "Time to run: 14.382364273071289\n"
          ],
          "name": "stdout"
        }
      ]
    },
    {
      "metadata": {
        "id": "KF_3yApAvwLo",
        "colab_type": "code",
        "colab": {
          "base_uri": "https://localhost:8080/",
          "height": 51
        },
        "outputId": "14ccbaf6-11e1-404e-c0d3-3c4312983b8f"
      },
      "cell_type": "code",
      "source": [
        "df = pd.DataFrame({})\n",
        "df.reset_index(inplace=True)\n",
        "df[\"title\"]=[\"log reg Hashing\"]\n",
        "df[\"sample_size\"]=[SAMPLE_SIZE]\n",
        "df[\"acc\"]=train_acc\n",
        "df[\"val_acc\"]=test_acc\n",
        "df.drop(labels=\"index\",axis=1,inplace=True)\n",
        "print(df)\n",
        "results=pd.concat([df,results])"
      ],
      "execution_count": 21,
      "outputs": [
        {
          "output_type": "stream",
          "text": [
            "             title  sample_size      acc  val_acc\n",
            "0  log reg Hashing        50000  0.88008  0.85996\n"
          ],
          "name": "stdout"
        }
      ]
    },
    {
      "metadata": {
        "id": "kwrVedeNvwLt",
        "colab_type": "raw"
      },
      "cell_type": "markdown",
      "source": [
        "\n",
        "# # Trying with cross_val_score\n",
        "lr = LogisticRegression()\n",
        "k_folds = 10\n",
        "X_train_CV = CountVec.fit_transform(X_train)\n",
        "type(X_train_CV)\n",
        "print('Train accuracy list {} '.format(cross_val_score(lr, X_train_CV, y_train, cv= k_folds))) \n",
        "print('Train accuracy mean {} '.format(cross_val_score(lr, X_train_CV, y_train, cv= k_folds).mean()))\n",
        "\n",
        "scores.append([\"Logistic Reg with BoW\",train_acc,test_acc])"
      ]
    },
    {
      "metadata": {
        "colab_type": "text",
        "id": "YeUltp6gXNJd"
      },
      "cell_type": "markdown",
      "source": [
        "### Logistic Regress model using TfidfVectorizer vectorisation technique<a class=\"anchor\" id=\"logis_tfidf\"></a> "
      ]
    },
    {
      "metadata": {
        "colab_type": "code",
        "id": "XtV8N-0zXNJ42",
        "outputId": "02bce6d1-a329-4181-a0db-1da41e72808a",
        "colab": {
          "base_uri": "https://localhost:8080/",
          "height": 68
        }
      },
      "cell_type": "code",
      "source": [
        "time_beginning_of_training = time.time()\n",
        "\n",
        "model=LogisticRegression(random_state=0)\n",
        "model.fit(tfidf.fit_transform(X_train), y_train)\n",
        "train_acc=model.score(tfidf.transform(X_train), y_train)\n",
        "print('Train accuracy {}'.format(train_acc))\n",
        "test_acc=model.score(tfidf.transform(X_test), y_test)\n",
        "print('Test accuracy {}'.format(test_acc))\n",
        "\n",
        "time_end_of_training = time.time()\n",
        "print('Time to run: {}'.format(time_end_of_training-time_beginning_of_training))\n"
      ],
      "execution_count": 22,
      "outputs": [
        {
          "output_type": "stream",
          "text": [
            "Train accuracy 0.9332\n",
            "Test accuracy 0.883\n",
            "Time to run: 18.37963056564331\n"
          ],
          "name": "stdout"
        }
      ]
    },
    {
      "metadata": {
        "id": "R1kCmiigvwL0",
        "colab_type": "code",
        "colab": {
          "base_uri": "https://localhost:8080/",
          "height": 51
        },
        "outputId": "2c788f5d-1e54-4089-aa24-fefa51ed8df5"
      },
      "cell_type": "code",
      "source": [
        "df = pd.DataFrame({})\n",
        "df.reset_index(inplace=True)\n",
        "df[\"title\"]=[\"log reg Tfidf\"]\n",
        "df[\"sample_size\"]=[SAMPLE_SIZE]\n",
        "df[\"acc\"]=train_acc\n",
        "df[\"val_acc\"]=test_acc\n",
        "df.drop(labels=\"index\",axis=1,inplace=True)\n",
        "print(df)\n",
        "results=pd.concat([df,results])"
      ],
      "execution_count": 23,
      "outputs": [
        {
          "output_type": "stream",
          "text": [
            "           title  sample_size     acc  val_acc\n",
            "0  log reg Tfidf        50000  0.9332    0.883\n"
          ],
          "name": "stdout"
        }
      ]
    },
    {
      "metadata": {
        "colab_type": "text",
        "id": "P0YIRBaroMeM1"
      },
      "cell_type": "markdown",
      "source": [
        "## RandomForestClassifer<a class=\"anchor\" id=\"rand_for\"></a> "
      ]
    },
    {
      "metadata": {
        "colab_type": "text",
        "id": "BM0YI71dnpZE1"
      },
      "cell_type": "markdown",
      "source": [
        "### RandomForestClassifer with hashing<a class=\"anchor\" id=\"rand_for_bag\"></a>"
      ]
    },
    {
      "metadata": {
        "colab_type": "code",
        "id": "XtV8N-0zXNJ43",
        "outputId": "f61a281c-282a-47d0-d274-7d8e6adf9a07",
        "colab": {
          "base_uri": "https://localhost:8080/",
          "height": 68
        }
      },
      "cell_type": "code",
      "source": [
        "time_beginning_of_training = time.time()\n",
        "\n",
        "model=RandomForestClassifier(random_state=0)\n",
        "model.fit(hashing.fit_transform(X_train), y_train)\n",
        "train_acc=model.score(hashing.transform(X_train), y_train)\n",
        "print('Train accuracy {}'.format(train_acc))\n",
        "test_acc=model.score(hashing.transform(X_test), y_test)\n",
        "print('Test accuracy {}'.format(test_acc))\n",
        "\n",
        "time_end_of_training = time.time()\n",
        "print('Time to run: {}'.format(time_end_of_training-time_beginning_of_training))\n"
      ],
      "execution_count": 24,
      "outputs": [
        {
          "output_type": "stream",
          "text": [
            "Train accuracy 0.99352\n",
            "Test accuracy 0.72672\n",
            "Time to run: 21.907516956329346\n"
          ],
          "name": "stdout"
        }
      ]
    },
    {
      "metadata": {
        "id": "kR7bEGAGvwL8",
        "colab_type": "code",
        "colab": {
          "base_uri": "https://localhost:8080/",
          "height": 51
        },
        "outputId": "ebcd4718-aa15-4f54-ec03-77aa57eb11c6"
      },
      "cell_type": "code",
      "source": [
        "df = pd.DataFrame({})\n",
        "df.reset_index(inplace=True)\n",
        "df[\"title\"]=[\"Rand for hashing\"]\n",
        "df[\"sample_size\"]=[SAMPLE_SIZE]\n",
        "df[\"acc\"]=train_acc\n",
        "df[\"val_acc\"]=test_acc\n",
        "df.drop(labels=\"index\",axis=1,inplace=True)\n",
        "print(df)\n",
        "results=pd.concat([df,results])"
      ],
      "execution_count": 25,
      "outputs": [
        {
          "output_type": "stream",
          "text": [
            "              title  sample_size      acc  val_acc\n",
            "0  Rand for hashing        50000  0.99352  0.72672\n"
          ],
          "name": "stdout"
        }
      ]
    },
    {
      "metadata": {
        "colab_type": "text",
        "id": "BM0YI71dnpZE22"
      },
      "cell_type": "markdown",
      "source": [
        "### RandomForestClassifer with TFIDF<a class=\"anchor\" id=\"rand_for_tfidf\"></a>"
      ]
    },
    {
      "metadata": {
        "colab_type": "code",
        "id": "XtV8N-0zXNJ44",
        "outputId": "ec80a3a8-8cd5-410d-d8b8-bb200491828e",
        "colab": {
          "base_uri": "https://localhost:8080/",
          "height": 68
        }
      },
      "cell_type": "code",
      "source": [
        "time_beginning_of_training = time.time()\n",
        "\n",
        "model=RandomForestClassifier(random_state=0)\n",
        "model.fit(tfidf.fit_transform(X_train), y_train)\n",
        "train_acc=model.score(tfidf.transform(X_train), y_train)\n",
        "print('Train accuracy {}'.format(train_acc))\n",
        "test_acc=model.score(tfidf.transform(X_test), y_test)\n",
        "print('Test accuracy {}'.format(test_acc))\n",
        "\n",
        "time_end_of_training = time.time()\n",
        "print('Time to run: {}'.format(time_end_of_training-time_beginning_of_training))\n"
      ],
      "execution_count": 26,
      "outputs": [
        {
          "output_type": "stream",
          "text": [
            "Train accuracy 0.99284\n",
            "Test accuracy 0.73156\n",
            "Time to run: 25.51513433456421\n"
          ],
          "name": "stdout"
        }
      ]
    },
    {
      "metadata": {
        "id": "9Ld2oZMUvwMD",
        "colab_type": "code",
        "colab": {
          "base_uri": "https://localhost:8080/",
          "height": 51
        },
        "outputId": "1c55ac41-8c7b-4415-cad5-74370d9db50b"
      },
      "cell_type": "code",
      "source": [
        "df = pd.DataFrame({})\n",
        "df.reset_index(inplace=True)\n",
        "df[\"title\"]=[\"Rand for tfidf\"]\n",
        "df[\"sample_size\"]=[SAMPLE_SIZE]\n",
        "df[\"acc\"]=train_acc\n",
        "df[\"val_acc\"]=test_acc\n",
        "df.drop(labels=\"index\",axis=1,inplace=True)\n",
        "print(df)\n",
        "results=pd.concat([df,results])"
      ],
      "execution_count": 27,
      "outputs": [
        {
          "output_type": "stream",
          "text": [
            "            title  sample_size      acc  val_acc\n",
            "0  Rand for tfidf        50000  0.99284  0.73156\n"
          ],
          "name": "stdout"
        }
      ]
    },
    {
      "metadata": {
        "colab_type": "text",
        "id": "P0YIRBaroMeM"
      },
      "cell_type": "markdown",
      "source": [
        "## Linear SVC <a class=\"anchor\" id=\"linearsvc\"></a> "
      ]
    },
    {
      "metadata": {
        "colab_type": "text",
        "id": "BM0YI71dnpZE3"
      },
      "cell_type": "markdown",
      "source": [
        "### Linear SVC with hashing<a class=\"anchor\" id=\"linear_bag\"></a>"
      ]
    },
    {
      "metadata": {
        "colab_type": "code",
        "id": "XtV8N-0zXNJ45",
        "outputId": "2e669a94-24c4-426c-b295-eb81ab8f7ae4",
        "colab": {
          "base_uri": "https://localhost:8080/",
          "height": 68
        }
      },
      "cell_type": "code",
      "source": [
        "time_beginning_of_training = time.time()\n",
        "\n",
        "model=LinearSVC(random_state=0)\n",
        "model.fit(hashing.fit_transform(X_train), y_train)\n",
        "train_acc=model.score(hashing.transform(X_train), y_train)\n",
        "print('Train accuracy {}'.format(train_acc))\n",
        "test_acc=model.score(hashing.transform(X_test), y_test)\n",
        "print('Test accuracy {}'.format(test_acc))\n",
        "\n",
        "time_end_of_training = time.time()\n",
        "print('Time to run: {}'.format(time_end_of_training-time_beginning_of_training))\n"
      ],
      "execution_count": 28,
      "outputs": [
        {
          "output_type": "stream",
          "text": [
            "Train accuracy 0.9408\n",
            "Test accuracy 0.88344\n",
            "Time to run: 12.75582218170166\n"
          ],
          "name": "stdout"
        }
      ]
    },
    {
      "metadata": {
        "id": "uTINohYcvwMM",
        "colab_type": "code",
        "colab": {
          "base_uri": "https://localhost:8080/",
          "height": 51
        },
        "outputId": "767da971-30b0-490e-9993-1ce2e1a6f646"
      },
      "cell_type": "code",
      "source": [
        "df = pd.DataFrame({})\n",
        "df.reset_index(inplace=True)\n",
        "df[\"title\"]=[\"LinearSVC hashing\"]\n",
        "df[\"sample_size\"]=[SAMPLE_SIZE]\n",
        "df[\"acc\"]=train_acc\n",
        "df[\"val_acc\"]=test_acc\n",
        "df.drop(labels=\"index\",axis=1,inplace=True)\n",
        "print(df)\n",
        "results=pd.concat([df,results])"
      ],
      "execution_count": 29,
      "outputs": [
        {
          "output_type": "stream",
          "text": [
            "               title  sample_size     acc  val_acc\n",
            "0  LinearSVC hashing        50000  0.9408  0.88344\n"
          ],
          "name": "stdout"
        }
      ]
    },
    {
      "metadata": {
        "colab_type": "text",
        "id": "BM0YI71dnpZE4"
      },
      "cell_type": "markdown",
      "source": [
        "### Linear SVC with TFIDF<a class=\"anchor\" id=\"linearsvc_tfidf\"></a>"
      ]
    },
    {
      "metadata": {
        "colab_type": "code",
        "id": "XtV8N-0zXNJ46",
        "outputId": "67d0a550-27cd-42be-833a-2ce985a01118",
        "colab": {
          "base_uri": "https://localhost:8080/",
          "height": 68
        }
      },
      "cell_type": "code",
      "source": [
        "time_beginning_of_training = time.time()\n",
        "\n",
        "model=LinearSVC(random_state=0)\n",
        "model.fit(tfidf.fit_transform(X_train), y_train)\n",
        "train_acc=model.score(tfidf.transform(X_train), y_train)\n",
        "print('Train accuracy {}'.format(train_acc))\n",
        "test_acc=model.score(tfidf.transform(X_test), y_test)\n",
        "print('Test accuracy {}'.format(test_acc))\n",
        "\n",
        "time_end_of_training = time.time()\n",
        "print('Time to run: {}'.format(time_end_of_training-time_beginning_of_training))\n"
      ],
      "execution_count": 30,
      "outputs": [
        {
          "output_type": "stream",
          "text": [
            "Train accuracy 0.99008\n",
            "Test accuracy 0.87716\n",
            "Time to run: 19.569920778274536\n"
          ],
          "name": "stdout"
        }
      ]
    },
    {
      "metadata": {
        "colab_type": "code",
        "id": "lN8L5otolVqO",
        "outputId": "9b6f9899-fb2e-4bb4-d7eb-7ce81abd4f7b",
        "colab": {
          "base_uri": "https://localhost:8080/",
          "height": 51
        }
      },
      "cell_type": "code",
      "source": [
        "df = pd.DataFrame({})\n",
        "df.reset_index(inplace=True)\n",
        "df[\"title\"]=[\"LinearSVC tfidf\"]\n",
        "df[\"sample_size\"]=[SAMPLE_SIZE]\n",
        "df[\"acc\"]=train_acc\n",
        "df[\"val_acc\"]=test_acc\n",
        "df.drop(labels=\"index\",axis=1,inplace=True)\n",
        "print(df)\n",
        "results=pd.concat([df,results])"
      ],
      "execution_count": 31,
      "outputs": [
        {
          "output_type": "stream",
          "text": [
            "             title  sample_size      acc  val_acc\n",
            "0  LinearSVC tfidf        50000  0.99008  0.87716\n"
          ],
          "name": "stdout"
        }
      ]
    },
    {
      "metadata": {
        "colab_type": "text",
        "id": "BM0YI71dnpZE5"
      },
      "cell_type": "markdown",
      "source": [
        "# Display scores for all trained models<a class=\"anchor\" id=\"disp_sco\"></a>"
      ]
    },
    {
      "metadata": {
        "id": "UddXyM-VvwMf",
        "colab_type": "code",
        "colab": {}
      },
      "cell_type": "code",
      "source": [
        "\n",
        "import matplotlib.pyplot as plt\n",
        "import seaborn as sns\n",
        "sns.set()\n"
      ],
      "execution_count": 0,
      "outputs": []
    },
    {
      "metadata": {
        "id": "7Uq9JXSIvwMi",
        "colab_type": "code",
        "colab": {
          "base_uri": "https://localhost:8080/",
          "height": 235
        },
        "outputId": "d8d1afc3-914d-4ae0-c35e-355943b39376"
      },
      "cell_type": "code",
      "source": [
        "# acc\tbatch_size\tcategorical_accuracy\tloss\tnb_epochs\tsample_size\ttitle\ttitle_short\ttrain_acc\ttrain_test_ratio\ttraining_duration_in_secs\ttraining_set_size\tval_acc\tval_categorical_accuracy\tval_loss\tvalidation_set_size\tvocab_size\n",
        "\n",
        "results"
      ],
      "execution_count": 33,
      "outputs": [
        {
          "output_type": "execute_result",
          "data": {
            "text/html": [
              "<div>\n",
              "<style scoped>\n",
              "    .dataframe tbody tr th:only-of-type {\n",
              "        vertical-align: middle;\n",
              "    }\n",
              "\n",
              "    .dataframe tbody tr th {\n",
              "        vertical-align: top;\n",
              "    }\n",
              "\n",
              "    .dataframe thead th {\n",
              "        text-align: right;\n",
              "    }\n",
              "</style>\n",
              "<table border=\"1\" class=\"dataframe\">\n",
              "  <thead>\n",
              "    <tr style=\"text-align: right;\">\n",
              "      <th></th>\n",
              "      <th>title</th>\n",
              "      <th>sample_size</th>\n",
              "      <th>acc</th>\n",
              "      <th>val_acc</th>\n",
              "    </tr>\n",
              "  </thead>\n",
              "  <tbody>\n",
              "    <tr>\n",
              "      <th>0</th>\n",
              "      <td>LinearSVC tfidf</td>\n",
              "      <td>50000</td>\n",
              "      <td>0.99008</td>\n",
              "      <td>0.87716</td>\n",
              "    </tr>\n",
              "    <tr>\n",
              "      <th>0</th>\n",
              "      <td>LinearSVC hashing</td>\n",
              "      <td>50000</td>\n",
              "      <td>0.94080</td>\n",
              "      <td>0.88344</td>\n",
              "    </tr>\n",
              "    <tr>\n",
              "      <th>0</th>\n",
              "      <td>Rand for tfidf</td>\n",
              "      <td>50000</td>\n",
              "      <td>0.99284</td>\n",
              "      <td>0.73156</td>\n",
              "    </tr>\n",
              "    <tr>\n",
              "      <th>0</th>\n",
              "      <td>Rand for hashing</td>\n",
              "      <td>50000</td>\n",
              "      <td>0.99352</td>\n",
              "      <td>0.72672</td>\n",
              "    </tr>\n",
              "    <tr>\n",
              "      <th>0</th>\n",
              "      <td>log reg Tfidf</td>\n",
              "      <td>50000</td>\n",
              "      <td>0.93320</td>\n",
              "      <td>0.88300</td>\n",
              "    </tr>\n",
              "    <tr>\n",
              "      <th>0</th>\n",
              "      <td>log reg Hashing</td>\n",
              "      <td>50000</td>\n",
              "      <td>0.88008</td>\n",
              "      <td>0.85996</td>\n",
              "    </tr>\n",
              "  </tbody>\n",
              "</table>\n",
              "</div>"
            ],
            "text/plain": [
              "               title  sample_size      acc  val_acc\n",
              "0    LinearSVC tfidf        50000  0.99008  0.87716\n",
              "0  LinearSVC hashing        50000  0.94080  0.88344\n",
              "0     Rand for tfidf        50000  0.99284  0.73156\n",
              "0   Rand for hashing        50000  0.99352  0.72672\n",
              "0      log reg Tfidf        50000  0.93320  0.88300\n",
              "0    log reg Hashing        50000  0.88008  0.85996"
            ]
          },
          "metadata": {
            "tags": []
          },
          "execution_count": 33
        }
      ]
    },
    {
      "metadata": {
        "id": "wro19YFZvwMl",
        "colab_type": "code",
        "colab": {
          "base_uri": "https://localhost:8080/",
          "height": 422
        },
        "outputId": "7fb1e705-4f44-49d8-dc9a-9cfd1b7810c9"
      },
      "cell_type": "code",
      "source": [
        "plt.plot(results.title,results.acc)\n",
        "plt.plot(results.title,results.val_acc)\n",
        "plt.rcParams[\"figure.figsize\"] = [17,2]\n",
        "plt.xticks(rotation=45)\n",
        "plt.legend()"
      ],
      "execution_count": 34,
      "outputs": [
        {
          "output_type": "execute_result",
          "data": {
            "text/plain": [
              "<matplotlib.legend.Legend at 0x7f3299425c50>"
            ]
          },
          "metadata": {
            "tags": []
          },
          "execution_count": 34
        },
        {
          "output_type": "display_data",
          "data": {
            "image/png": "[encoded data removed]",
            "text/plain": [
              "<Figure size 576x396 with 1 Axes>"
            ]
          },
          "metadata": {
            "tags": []
          }
        }
      ]
    },
    {
      "metadata": {
        "id": "VCRLY1PkvwMo",
        "colab_type": "code",
        "colab": {}
      },
      "cell_type": "code",
      "source": [
        "\n",
        "results.to_csv(path_or_buf=\"simple_ml_models.csv\")"
      ],
      "execution_count": 0,
      "outputs": []
    },
    {
      "metadata": {
        "id": "SsbbE4U_vwMq",
        "colab_type": "code",
        "colab": {}
      },
      "cell_type": "code",
      "source": [
        ""
      ],
      "execution_count": 0,
      "outputs": []
    }
  ]
}